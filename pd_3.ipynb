{
 "cells": [
  {
   "cell_type": "code",
   "execution_count": 1,
   "id": "a62f6c31",
   "metadata": {},
   "outputs": [],
   "source": [
    "import numpy as np\n",
    "import pandas as pd"
   ]
  },
  {
   "cell_type": "code",
   "execution_count": 2,
   "id": "d1d66ea4",
   "metadata": {},
   "outputs": [
    {
     "data": {
      "text/plain": [
       "array([[0.94871008, 0.22866913, 0.46313354],\n",
       "       [0.69815752, 0.8169567 , 0.93562722],\n",
       "       [0.96347405, 0.68712083, 0.63229211],\n",
       "       [0.20793243, 0.21094784, 0.14706242]])"
      ]
     },
     "execution_count": 2,
     "metadata": {},
     "output_type": "execute_result"
    }
   ],
   "source": [
    "data = np.random.random((4,3))\n",
    "data"
   ]
  },
  {
   "cell_type": "code",
   "execution_count": 3,
   "id": "0f9f512f",
   "metadata": {},
   "outputs": [
    {
     "data": {
      "text/html": [
       "<div>\n",
       "<style scoped>\n",
       "    .dataframe tbody tr th:only-of-type {\n",
       "        vertical-align: middle;\n",
       "    }\n",
       "\n",
       "    .dataframe tbody tr th {\n",
       "        vertical-align: top;\n",
       "    }\n",
       "\n",
       "    .dataframe thead th {\n",
       "        text-align: right;\n",
       "    }\n",
       "</style>\n",
       "<table border=\"1\" class=\"dataframe\">\n",
       "  <thead>\n",
       "    <tr style=\"text-align: right;\">\n",
       "      <th></th>\n",
       "      <th>dt_1</th>\n",
       "      <th>dt_2</th>\n",
       "      <th>dt_3</th>\n",
       "    </tr>\n",
       "  </thead>\n",
       "  <tbody>\n",
       "    <tr>\n",
       "      <th>0</th>\n",
       "      <td>0.948710</td>\n",
       "      <td>0.228669</td>\n",
       "      <td>0.463134</td>\n",
       "    </tr>\n",
       "    <tr>\n",
       "      <th>1</th>\n",
       "      <td>0.698158</td>\n",
       "      <td>0.816957</td>\n",
       "      <td>0.935627</td>\n",
       "    </tr>\n",
       "    <tr>\n",
       "      <th>2</th>\n",
       "      <td>0.963474</td>\n",
       "      <td>0.687121</td>\n",
       "      <td>0.632292</td>\n",
       "    </tr>\n",
       "    <tr>\n",
       "      <th>3</th>\n",
       "      <td>0.207932</td>\n",
       "      <td>0.210948</td>\n",
       "      <td>0.147062</td>\n",
       "    </tr>\n",
       "  </tbody>\n",
       "</table>\n",
       "</div>"
      ],
      "text/plain": [
       "       dt_1      dt_2      dt_3\n",
       "0  0.948710  0.228669  0.463134\n",
       "1  0.698158  0.816957  0.935627\n",
       "2  0.963474  0.687121  0.632292\n",
       "3  0.207932  0.210948  0.147062"
      ]
     },
     "execution_count": 3,
     "metadata": {},
     "output_type": "execute_result"
    }
   ],
   "source": [
    "d = pd.DataFrame(data,columns=['dt_1','dt_2','dt_3'])\n",
    "d"
   ]
  },
  {
   "cell_type": "code",
   "execution_count": 4,
   "id": "0bc02bc9",
   "metadata": {},
   "outputs": [
    {
     "data": {
      "text/plain": [
       "Index(['dt_1', 'dt_2', 'dt_3'], dtype='object')"
      ]
     },
     "execution_count": 4,
     "metadata": {},
     "output_type": "execute_result"
    }
   ],
   "source": [
    "# check column names\n",
    "d.columns"
   ]
  },
  {
   "cell_type": "code",
   "execution_count": 5,
   "id": "8b15ce32",
   "metadata": {},
   "outputs": [],
   "source": [
    "# change all column names/replace column names with new one\n",
    "d.columns = ['Bhagwan','Krupa','Suraj']"
   ]
  },
  {
   "cell_type": "code",
   "execution_count": 6,
   "id": "aa1d3ed5",
   "metadata": {},
   "outputs": [
    {
     "data": {
      "text/html": [
       "<div>\n",
       "<style scoped>\n",
       "    .dataframe tbody tr th:only-of-type {\n",
       "        vertical-align: middle;\n",
       "    }\n",
       "\n",
       "    .dataframe tbody tr th {\n",
       "        vertical-align: top;\n",
       "    }\n",
       "\n",
       "    .dataframe thead th {\n",
       "        text-align: right;\n",
       "    }\n",
       "</style>\n",
       "<table border=\"1\" class=\"dataframe\">\n",
       "  <thead>\n",
       "    <tr style=\"text-align: right;\">\n",
       "      <th></th>\n",
       "      <th>Bhagwan</th>\n",
       "      <th>Krupa</th>\n",
       "      <th>Suraj</th>\n",
       "    </tr>\n",
       "  </thead>\n",
       "  <tbody>\n",
       "    <tr>\n",
       "      <th>0</th>\n",
       "      <td>0.948710</td>\n",
       "      <td>0.228669</td>\n",
       "      <td>0.463134</td>\n",
       "    </tr>\n",
       "    <tr>\n",
       "      <th>1</th>\n",
       "      <td>0.698158</td>\n",
       "      <td>0.816957</td>\n",
       "      <td>0.935627</td>\n",
       "    </tr>\n",
       "    <tr>\n",
       "      <th>2</th>\n",
       "      <td>0.963474</td>\n",
       "      <td>0.687121</td>\n",
       "      <td>0.632292</td>\n",
       "    </tr>\n",
       "    <tr>\n",
       "      <th>3</th>\n",
       "      <td>0.207932</td>\n",
       "      <td>0.210948</td>\n",
       "      <td>0.147062</td>\n",
       "    </tr>\n",
       "  </tbody>\n",
       "</table>\n",
       "</div>"
      ],
      "text/plain": [
       "    Bhagwan     Krupa     Suraj\n",
       "0  0.948710  0.228669  0.463134\n",
       "1  0.698158  0.816957  0.935627\n",
       "2  0.963474  0.687121  0.632292\n",
       "3  0.207932  0.210948  0.147062"
      ]
     },
     "execution_count": 6,
     "metadata": {},
     "output_type": "execute_result"
    }
   ],
   "source": [
    "d"
   ]
  },
  {
   "cell_type": "code",
   "execution_count": 7,
   "id": "947395c1",
   "metadata": {},
   "outputs": [
    {
     "data": {
      "text/html": [
       "<div>\n",
       "<style scoped>\n",
       "    .dataframe tbody tr th:only-of-type {\n",
       "        vertical-align: middle;\n",
       "    }\n",
       "\n",
       "    .dataframe tbody tr th {\n",
       "        vertical-align: top;\n",
       "    }\n",
       "\n",
       "    .dataframe thead th {\n",
       "        text-align: right;\n",
       "    }\n",
       "</style>\n",
       "<table border=\"1\" class=\"dataframe\">\n",
       "  <thead>\n",
       "    <tr style=\"text-align: right;\">\n",
       "      <th></th>\n",
       "      <th>Bhagwan</th>\n",
       "      <th>Krupa</th>\n",
       "      <th>Rakesh</th>\n",
       "    </tr>\n",
       "  </thead>\n",
       "  <tbody>\n",
       "    <tr>\n",
       "      <th>0</th>\n",
       "      <td>0.948710</td>\n",
       "      <td>0.228669</td>\n",
       "      <td>0.463134</td>\n",
       "    </tr>\n",
       "    <tr>\n",
       "      <th>1</th>\n",
       "      <td>0.698158</td>\n",
       "      <td>0.816957</td>\n",
       "      <td>0.935627</td>\n",
       "    </tr>\n",
       "    <tr>\n",
       "      <th>2</th>\n",
       "      <td>0.963474</td>\n",
       "      <td>0.687121</td>\n",
       "      <td>0.632292</td>\n",
       "    </tr>\n",
       "    <tr>\n",
       "      <th>3</th>\n",
       "      <td>0.207932</td>\n",
       "      <td>0.210948</td>\n",
       "      <td>0.147062</td>\n",
       "    </tr>\n",
       "  </tbody>\n",
       "</table>\n",
       "</div>"
      ],
      "text/plain": [
       "    Bhagwan     Krupa    Rakesh\n",
       "0  0.948710  0.228669  0.463134\n",
       "1  0.698158  0.816957  0.935627\n",
       "2  0.963474  0.687121  0.632292\n",
       "3  0.207932  0.210948  0.147062"
      ]
     },
     "execution_count": 7,
     "metadata": {},
     "output_type": "execute_result"
    }
   ],
   "source": [
    "# replace a name of single column\n",
    "d.rename(columns={'Suraj':'Rakesh'})\n",
    "# will give temp output"
   ]
  },
  {
   "cell_type": "code",
   "execution_count": 8,
   "id": "6f44fbd4",
   "metadata": {},
   "outputs": [],
   "source": [
    "# but if i want permanent change\n",
    "d.rename(columns={'Suraj':'Rakesh'},inplace=True)"
   ]
  },
  {
   "cell_type": "code",
   "execution_count": 9,
   "id": "0f140241",
   "metadata": {},
   "outputs": [
    {
     "data": {
      "text/html": [
       "<div>\n",
       "<style scoped>\n",
       "    .dataframe tbody tr th:only-of-type {\n",
       "        vertical-align: middle;\n",
       "    }\n",
       "\n",
       "    .dataframe tbody tr th {\n",
       "        vertical-align: top;\n",
       "    }\n",
       "\n",
       "    .dataframe thead th {\n",
       "        text-align: right;\n",
       "    }\n",
       "</style>\n",
       "<table border=\"1\" class=\"dataframe\">\n",
       "  <thead>\n",
       "    <tr style=\"text-align: right;\">\n",
       "      <th></th>\n",
       "      <th>Bhagwan</th>\n",
       "      <th>Krupa</th>\n",
       "      <th>Rakesh</th>\n",
       "    </tr>\n",
       "  </thead>\n",
       "  <tbody>\n",
       "    <tr>\n",
       "      <th>0</th>\n",
       "      <td>0.948710</td>\n",
       "      <td>0.228669</td>\n",
       "      <td>0.463134</td>\n",
       "    </tr>\n",
       "    <tr>\n",
       "      <th>1</th>\n",
       "      <td>0.698158</td>\n",
       "      <td>0.816957</td>\n",
       "      <td>0.935627</td>\n",
       "    </tr>\n",
       "    <tr>\n",
       "      <th>2</th>\n",
       "      <td>0.963474</td>\n",
       "      <td>0.687121</td>\n",
       "      <td>0.632292</td>\n",
       "    </tr>\n",
       "    <tr>\n",
       "      <th>3</th>\n",
       "      <td>0.207932</td>\n",
       "      <td>0.210948</td>\n",
       "      <td>0.147062</td>\n",
       "    </tr>\n",
       "  </tbody>\n",
       "</table>\n",
       "</div>"
      ],
      "text/plain": [
       "    Bhagwan     Krupa    Rakesh\n",
       "0  0.948710  0.228669  0.463134\n",
       "1  0.698158  0.816957  0.935627\n",
       "2  0.963474  0.687121  0.632292\n",
       "3  0.207932  0.210948  0.147062"
      ]
     },
     "execution_count": 9,
     "metadata": {},
     "output_type": "execute_result"
    }
   ],
   "source": [
    "d"
   ]
  },
  {
   "cell_type": "code",
   "execution_count": 10,
   "id": "d2190ee0",
   "metadata": {},
   "outputs": [
    {
     "data": {
      "text/html": [
       "<div>\n",
       "<style scoped>\n",
       "    .dataframe tbody tr th:only-of-type {\n",
       "        vertical-align: middle;\n",
       "    }\n",
       "\n",
       "    .dataframe tbody tr th {\n",
       "        vertical-align: top;\n",
       "    }\n",
       "\n",
       "    .dataframe thead th {\n",
       "        text-align: right;\n",
       "    }\n",
       "</style>\n",
       "<table border=\"1\" class=\"dataframe\">\n",
       "  <thead>\n",
       "    <tr style=\"text-align: right;\">\n",
       "      <th></th>\n",
       "      <th>Bhagwan</th>\n",
       "      <th>Krupa</th>\n",
       "      <th>Rakesh</th>\n",
       "    </tr>\n",
       "  </thead>\n",
       "  <tbody>\n",
       "    <tr>\n",
       "      <th>0</th>\n",
       "      <td>0.948710</td>\n",
       "      <td>0.228669</td>\n",
       "      <td>0.463134</td>\n",
       "    </tr>\n",
       "    <tr>\n",
       "      <th>101</th>\n",
       "      <td>0.698158</td>\n",
       "      <td>0.816957</td>\n",
       "      <td>0.935627</td>\n",
       "    </tr>\n",
       "    <tr>\n",
       "      <th>2</th>\n",
       "      <td>0.963474</td>\n",
       "      <td>0.687121</td>\n",
       "      <td>0.632292</td>\n",
       "    </tr>\n",
       "    <tr>\n",
       "      <th>3</th>\n",
       "      <td>0.207932</td>\n",
       "      <td>0.210948</td>\n",
       "      <td>0.147062</td>\n",
       "    </tr>\n",
       "  </tbody>\n",
       "</table>\n",
       "</div>"
      ],
      "text/plain": [
       "      Bhagwan     Krupa    Rakesh\n",
       "0    0.948710  0.228669  0.463134\n",
       "101  0.698158  0.816957  0.935627\n",
       "2    0.963474  0.687121  0.632292\n",
       "3    0.207932  0.210948  0.147062"
      ]
     },
     "execution_count": 10,
     "metadata": {},
     "output_type": "execute_result"
    }
   ],
   "source": [
    "d.rename(index={1:101})"
   ]
  },
  {
   "cell_type": "code",
   "execution_count": 11,
   "id": "168b7887",
   "metadata": {},
   "outputs": [
    {
     "data": {
      "text/plain": [
       "RangeIndex(start=0, stop=4, step=1)"
      ]
     },
     "execution_count": 11,
     "metadata": {},
     "output_type": "execute_result"
    }
   ],
   "source": [
    "d.index"
   ]
  },
  {
   "cell_type": "code",
   "execution_count": 12,
   "id": "10f4b017",
   "metadata": {},
   "outputs": [],
   "source": [
    "# using above option its also possible to change index\n",
    "d.index = ['A','B','C','D']\n",
    "# its inplace"
   ]
  },
  {
   "cell_type": "code",
   "execution_count": 13,
   "id": "24090cc9",
   "metadata": {},
   "outputs": [
    {
     "data": {
      "text/html": [
       "<div>\n",
       "<style scoped>\n",
       "    .dataframe tbody tr th:only-of-type {\n",
       "        vertical-align: middle;\n",
       "    }\n",
       "\n",
       "    .dataframe tbody tr th {\n",
       "        vertical-align: top;\n",
       "    }\n",
       "\n",
       "    .dataframe thead th {\n",
       "        text-align: right;\n",
       "    }\n",
       "</style>\n",
       "<table border=\"1\" class=\"dataframe\">\n",
       "  <thead>\n",
       "    <tr style=\"text-align: right;\">\n",
       "      <th></th>\n",
       "      <th>Bhagwan</th>\n",
       "      <th>Krupa</th>\n",
       "      <th>Rakesh</th>\n",
       "    </tr>\n",
       "  </thead>\n",
       "  <tbody>\n",
       "    <tr>\n",
       "      <th>A</th>\n",
       "      <td>0.948710</td>\n",
       "      <td>0.228669</td>\n",
       "      <td>0.463134</td>\n",
       "    </tr>\n",
       "    <tr>\n",
       "      <th>B</th>\n",
       "      <td>0.698158</td>\n",
       "      <td>0.816957</td>\n",
       "      <td>0.935627</td>\n",
       "    </tr>\n",
       "    <tr>\n",
       "      <th>C</th>\n",
       "      <td>0.963474</td>\n",
       "      <td>0.687121</td>\n",
       "      <td>0.632292</td>\n",
       "    </tr>\n",
       "    <tr>\n",
       "      <th>D</th>\n",
       "      <td>0.207932</td>\n",
       "      <td>0.210948</td>\n",
       "      <td>0.147062</td>\n",
       "    </tr>\n",
       "  </tbody>\n",
       "</table>\n",
       "</div>"
      ],
      "text/plain": [
       "    Bhagwan     Krupa    Rakesh\n",
       "A  0.948710  0.228669  0.463134\n",
       "B  0.698158  0.816957  0.935627\n",
       "C  0.963474  0.687121  0.632292\n",
       "D  0.207932  0.210948  0.147062"
      ]
     },
     "execution_count": 13,
     "metadata": {},
     "output_type": "execute_result"
    }
   ],
   "source": [
    "d"
   ]
  },
  {
   "cell_type": "code",
   "execution_count": 14,
   "id": "bb394c57",
   "metadata": {},
   "outputs": [
    {
     "data": {
      "text/plain": [
       "['X', 'Y']"
      ]
     },
     "execution_count": 14,
     "metadata": {},
     "output_type": "execute_result"
    }
   ],
   "source": [
    "d2 = d[:2].index = ['X','Y']\n",
    "d2"
   ]
  },
  {
   "cell_type": "code",
   "execution_count": 15,
   "id": "0d9fedc0",
   "metadata": {},
   "outputs": [
    {
     "data": {
      "text/html": [
       "<div>\n",
       "<style scoped>\n",
       "    .dataframe tbody tr th:only-of-type {\n",
       "        vertical-align: middle;\n",
       "    }\n",
       "\n",
       "    .dataframe tbody tr th {\n",
       "        vertical-align: top;\n",
       "    }\n",
       "\n",
       "    .dataframe thead th {\n",
       "        text-align: right;\n",
       "    }\n",
       "</style>\n",
       "<table border=\"1\" class=\"dataframe\">\n",
       "  <thead>\n",
       "    <tr style=\"text-align: right;\">\n",
       "      <th></th>\n",
       "      <th>Bhagwan</th>\n",
       "      <th>Krupa</th>\n",
       "      <th>Rakesh</th>\n",
       "    </tr>\n",
       "  </thead>\n",
       "  <tbody>\n",
       "    <tr>\n",
       "      <th>A</th>\n",
       "      <td>0.948710</td>\n",
       "      <td>0.228669</td>\n",
       "      <td>0.463134</td>\n",
       "    </tr>\n",
       "    <tr>\n",
       "      <th>B</th>\n",
       "      <td>0.698158</td>\n",
       "      <td>0.816957</td>\n",
       "      <td>0.935627</td>\n",
       "    </tr>\n",
       "    <tr>\n",
       "      <th>C</th>\n",
       "      <td>0.963474</td>\n",
       "      <td>0.687121</td>\n",
       "      <td>0.632292</td>\n",
       "    </tr>\n",
       "    <tr>\n",
       "      <th>D</th>\n",
       "      <td>0.207932</td>\n",
       "      <td>0.210948</td>\n",
       "      <td>0.147062</td>\n",
       "    </tr>\n",
       "  </tbody>\n",
       "</table>\n",
       "</div>"
      ],
      "text/plain": [
       "    Bhagwan     Krupa    Rakesh\n",
       "A  0.948710  0.228669  0.463134\n",
       "B  0.698158  0.816957  0.935627\n",
       "C  0.963474  0.687121  0.632292\n",
       "D  0.207932  0.210948  0.147062"
      ]
     },
     "execution_count": 15,
     "metadata": {},
     "output_type": "execute_result"
    }
   ],
   "source": [
    "d[:2342]"
   ]
  },
  {
   "cell_type": "code",
   "execution_count": 16,
   "id": "c4a014e0",
   "metadata": {},
   "outputs": [
    {
     "data": {
      "text/html": [
       "<div>\n",
       "<style scoped>\n",
       "    .dataframe tbody tr th:only-of-type {\n",
       "        vertical-align: middle;\n",
       "    }\n",
       "\n",
       "    .dataframe tbody tr th {\n",
       "        vertical-align: top;\n",
       "    }\n",
       "\n",
       "    .dataframe thead th {\n",
       "        text-align: right;\n",
       "    }\n",
       "</style>\n",
       "<table border=\"1\" class=\"dataframe\">\n",
       "  <thead>\n",
       "    <tr style=\"text-align: right;\">\n",
       "      <th></th>\n",
       "      <th>Bhagwan</th>\n",
       "      <th>Krupa</th>\n",
       "      <th>Rakesh</th>\n",
       "    </tr>\n",
       "  </thead>\n",
       "  <tbody>\n",
       "    <tr>\n",
       "      <th>A</th>\n",
       "      <td>0.948710</td>\n",
       "      <td>0.228669</td>\n",
       "      <td>0.463134</td>\n",
       "    </tr>\n",
       "    <tr>\n",
       "      <th>B</th>\n",
       "      <td>0.698158</td>\n",
       "      <td>0.816957</td>\n",
       "      <td>0.935627</td>\n",
       "    </tr>\n",
       "    <tr>\n",
       "      <th>C</th>\n",
       "      <td>0.963474</td>\n",
       "      <td>0.687121</td>\n",
       "      <td>0.632292</td>\n",
       "    </tr>\n",
       "    <tr>\n",
       "      <th>D</th>\n",
       "      <td>0.207932</td>\n",
       "      <td>0.210948</td>\n",
       "      <td>0.147062</td>\n",
       "    </tr>\n",
       "  </tbody>\n",
       "</table>\n",
       "</div>"
      ],
      "text/plain": [
       "    Bhagwan     Krupa    Rakesh\n",
       "A  0.948710  0.228669  0.463134\n",
       "B  0.698158  0.816957  0.935627\n",
       "C  0.963474  0.687121  0.632292\n",
       "D  0.207932  0.210948  0.147062"
      ]
     },
     "execution_count": 16,
     "metadata": {},
     "output_type": "execute_result"
    }
   ],
   "source": [
    "d"
   ]
  },
  {
   "cell_type": "code",
   "execution_count": 17,
   "id": "49072d69",
   "metadata": {},
   "outputs": [
    {
     "data": {
      "text/plain": [
       "Index(['A', 'B'], dtype='object')"
      ]
     },
     "execution_count": 17,
     "metadata": {},
     "output_type": "execute_result"
    }
   ],
   "source": [
    "d[:2].index"
   ]
  },
  {
   "cell_type": "code",
   "execution_count": 18,
   "id": "8b70d2b2",
   "metadata": {},
   "outputs": [
    {
     "data": {
      "text/plain": [
       "{'A': 'X', 'B': 'Y'}"
      ]
     },
     "execution_count": 18,
     "metadata": {},
     "output_type": "execute_result"
    }
   ],
   "source": [
    "dict(zip(d[:2].index,['X','Y']))"
   ]
  },
  {
   "cell_type": "code",
   "execution_count": 19,
   "id": "10b9ed29",
   "metadata": {},
   "outputs": [
    {
     "data": {
      "text/html": [
       "<div>\n",
       "<style scoped>\n",
       "    .dataframe tbody tr th:only-of-type {\n",
       "        vertical-align: middle;\n",
       "    }\n",
       "\n",
       "    .dataframe tbody tr th {\n",
       "        vertical-align: top;\n",
       "    }\n",
       "\n",
       "    .dataframe thead th {\n",
       "        text-align: right;\n",
       "    }\n",
       "</style>\n",
       "<table border=\"1\" class=\"dataframe\">\n",
       "  <thead>\n",
       "    <tr style=\"text-align: right;\">\n",
       "      <th></th>\n",
       "      <th>Bhagwan</th>\n",
       "      <th>Krupa</th>\n",
       "      <th>Rakesh</th>\n",
       "    </tr>\n",
       "  </thead>\n",
       "  <tbody>\n",
       "    <tr>\n",
       "      <th>X</th>\n",
       "      <td>0.948710</td>\n",
       "      <td>0.228669</td>\n",
       "      <td>0.463134</td>\n",
       "    </tr>\n",
       "    <tr>\n",
       "      <th>Y</th>\n",
       "      <td>0.698158</td>\n",
       "      <td>0.816957</td>\n",
       "      <td>0.935627</td>\n",
       "    </tr>\n",
       "    <tr>\n",
       "      <th>C</th>\n",
       "      <td>0.963474</td>\n",
       "      <td>0.687121</td>\n",
       "      <td>0.632292</td>\n",
       "    </tr>\n",
       "    <tr>\n",
       "      <th>D</th>\n",
       "      <td>0.207932</td>\n",
       "      <td>0.210948</td>\n",
       "      <td>0.147062</td>\n",
       "    </tr>\n",
       "  </tbody>\n",
       "</table>\n",
       "</div>"
      ],
      "text/plain": [
       "    Bhagwan     Krupa    Rakesh\n",
       "X  0.948710  0.228669  0.463134\n",
       "Y  0.698158  0.816957  0.935627\n",
       "C  0.963474  0.687121  0.632292\n",
       "D  0.207932  0.210948  0.147062"
      ]
     },
     "execution_count": 19,
     "metadata": {},
     "output_type": "execute_result"
    }
   ],
   "source": [
    "d.rename(index=dict(zip(d[:2].index,['X','Y'])))"
   ]
  },
  {
   "cell_type": "markdown",
   "id": "0769ada4",
   "metadata": {},
   "source": [
    "### check different properties of Dataframe"
   ]
  },
  {
   "cell_type": "code",
   "execution_count": 20,
   "id": "630f15ad",
   "metadata": {},
   "outputs": [
    {
     "data": {
      "text/html": [
       "<div>\n",
       "<style scoped>\n",
       "    .dataframe tbody tr th:only-of-type {\n",
       "        vertical-align: middle;\n",
       "    }\n",
       "\n",
       "    .dataframe tbody tr th {\n",
       "        vertical-align: top;\n",
       "    }\n",
       "\n",
       "    .dataframe thead th {\n",
       "        text-align: right;\n",
       "    }\n",
       "</style>\n",
       "<table border=\"1\" class=\"dataframe\">\n",
       "  <thead>\n",
       "    <tr style=\"text-align: right;\">\n",
       "      <th></th>\n",
       "      <th>Bhagwan</th>\n",
       "      <th>Krupa</th>\n",
       "      <th>Rakesh</th>\n",
       "    </tr>\n",
       "  </thead>\n",
       "  <tbody>\n",
       "    <tr>\n",
       "      <th>A</th>\n",
       "      <td>0.948710</td>\n",
       "      <td>0.228669</td>\n",
       "      <td>0.463134</td>\n",
       "    </tr>\n",
       "    <tr>\n",
       "      <th>B</th>\n",
       "      <td>0.698158</td>\n",
       "      <td>0.816957</td>\n",
       "      <td>0.935627</td>\n",
       "    </tr>\n",
       "    <tr>\n",
       "      <th>C</th>\n",
       "      <td>0.963474</td>\n",
       "      <td>0.687121</td>\n",
       "      <td>0.632292</td>\n",
       "    </tr>\n",
       "    <tr>\n",
       "      <th>D</th>\n",
       "      <td>0.207932</td>\n",
       "      <td>0.210948</td>\n",
       "      <td>0.147062</td>\n",
       "    </tr>\n",
       "  </tbody>\n",
       "</table>\n",
       "</div>"
      ],
      "text/plain": [
       "    Bhagwan     Krupa    Rakesh\n",
       "A  0.948710  0.228669  0.463134\n",
       "B  0.698158  0.816957  0.935627\n",
       "C  0.963474  0.687121  0.632292\n",
       "D  0.207932  0.210948  0.147062"
      ]
     },
     "execution_count": 20,
     "metadata": {},
     "output_type": "execute_result"
    }
   ],
   "source": [
    "d"
   ]
  },
  {
   "cell_type": "code",
   "execution_count": 21,
   "id": "e289371f",
   "metadata": {},
   "outputs": [
    {
     "data": {
      "text/plain": [
       "(4, 3)"
      ]
     },
     "execution_count": 21,
     "metadata": {},
     "output_type": "execute_result"
    }
   ],
   "source": [
    "# check number of rows and columns\n",
    "d.shape"
   ]
  },
  {
   "cell_type": "code",
   "execution_count": 22,
   "id": "6a29ae03",
   "metadata": {},
   "outputs": [
    {
     "data": {
      "text/plain": [
       "12"
      ]
     },
     "execution_count": 22,
     "metadata": {},
     "output_type": "execute_result"
    }
   ],
   "source": [
    "# check total element\n",
    "d.size"
   ]
  },
  {
   "cell_type": "code",
   "execution_count": 23,
   "id": "255a8189",
   "metadata": {},
   "outputs": [
    {
     "data": {
      "text/plain": [
       "Bhagwan    float64\n",
       "Krupa      float64\n",
       "Rakesh     float64\n",
       "dtype: object"
      ]
     },
     "execution_count": 23,
     "metadata": {},
     "output_type": "execute_result"
    }
   ],
   "source": [
    "# check data type\n",
    "d.dtypes"
   ]
  },
  {
   "cell_type": "code",
   "execution_count": 24,
   "id": "8530938c",
   "metadata": {},
   "outputs": [
    {
     "name": "stdout",
     "output_type": "stream",
     "text": [
      "<class 'pandas.core.frame.DataFrame'>\n",
      "Index: 4 entries, A to D\n",
      "Data columns (total 3 columns):\n",
      " #   Column   Non-Null Count  Dtype  \n",
      "---  ------   --------------  -----  \n",
      " 0   Bhagwan  4 non-null      float64\n",
      " 1   Krupa    4 non-null      float64\n",
      " 2   Rakesh   4 non-null      float64\n",
      "dtypes: float64(3)\n",
      "memory usage: 300.0+ bytes\n"
     ]
    }
   ],
   "source": [
    "# check descriptive summary of data\n",
    "# Print a concise summary of a DataFrame.\n",
    "d.info()"
   ]
  },
  {
   "cell_type": "code",
   "execution_count": 25,
   "id": "d128b7e5",
   "metadata": {},
   "outputs": [
    {
     "data": {
      "text/html": [
       "<div>\n",
       "<style scoped>\n",
       "    .dataframe tbody tr th:only-of-type {\n",
       "        vertical-align: middle;\n",
       "    }\n",
       "\n",
       "    .dataframe tbody tr th {\n",
       "        vertical-align: top;\n",
       "    }\n",
       "\n",
       "    .dataframe thead th {\n",
       "        text-align: right;\n",
       "    }\n",
       "</style>\n",
       "<table border=\"1\" class=\"dataframe\">\n",
       "  <thead>\n",
       "    <tr style=\"text-align: right;\">\n",
       "      <th></th>\n",
       "      <th>Bhagwan</th>\n",
       "      <th>Krupa</th>\n",
       "      <th>Rakesh</th>\n",
       "    </tr>\n",
       "  </thead>\n",
       "  <tbody>\n",
       "    <tr>\n",
       "      <th>count</th>\n",
       "      <td>4.000000</td>\n",
       "      <td>4.000000</td>\n",
       "      <td>4.000000</td>\n",
       "    </tr>\n",
       "    <tr>\n",
       "      <th>mean</th>\n",
       "      <td>0.704569</td>\n",
       "      <td>0.485924</td>\n",
       "      <td>0.544529</td>\n",
       "    </tr>\n",
       "    <tr>\n",
       "      <th>std</th>\n",
       "      <td>0.352763</td>\n",
       "      <td>0.311905</td>\n",
       "      <td>0.329274</td>\n",
       "    </tr>\n",
       "    <tr>\n",
       "      <th>min</th>\n",
       "      <td>0.207932</td>\n",
       "      <td>0.210948</td>\n",
       "      <td>0.147062</td>\n",
       "    </tr>\n",
       "    <tr>\n",
       "      <th>25%</th>\n",
       "      <td>0.575601</td>\n",
       "      <td>0.224239</td>\n",
       "      <td>0.384116</td>\n",
       "    </tr>\n",
       "    <tr>\n",
       "      <th>50%</th>\n",
       "      <td>0.823434</td>\n",
       "      <td>0.457895</td>\n",
       "      <td>0.547713</td>\n",
       "    </tr>\n",
       "    <tr>\n",
       "      <th>75%</th>\n",
       "      <td>0.952401</td>\n",
       "      <td>0.719580</td>\n",
       "      <td>0.708126</td>\n",
       "    </tr>\n",
       "    <tr>\n",
       "      <th>max</th>\n",
       "      <td>0.963474</td>\n",
       "      <td>0.816957</td>\n",
       "      <td>0.935627</td>\n",
       "    </tr>\n",
       "  </tbody>\n",
       "</table>\n",
       "</div>"
      ],
      "text/plain": [
       "        Bhagwan     Krupa    Rakesh\n",
       "count  4.000000  4.000000  4.000000\n",
       "mean   0.704569  0.485924  0.544529\n",
       "std    0.352763  0.311905  0.329274\n",
       "min    0.207932  0.210948  0.147062\n",
       "25%    0.575601  0.224239  0.384116\n",
       "50%    0.823434  0.457895  0.547713\n",
       "75%    0.952401  0.719580  0.708126\n",
       "max    0.963474  0.816957  0.935627"
      ]
     },
     "execution_count": 25,
     "metadata": {},
     "output_type": "execute_result"
    }
   ],
   "source": [
    "# descriptive statistics\n",
    "d.describe()"
   ]
  },
  {
   "cell_type": "code",
   "execution_count": 26,
   "id": "8692cebb",
   "metadata": {},
   "outputs": [
    {
     "data": {
      "text/html": [
       "<div>\n",
       "<style scoped>\n",
       "    .dataframe tbody tr th:only-of-type {\n",
       "        vertical-align: middle;\n",
       "    }\n",
       "\n",
       "    .dataframe tbody tr th {\n",
       "        vertical-align: top;\n",
       "    }\n",
       "\n",
       "    .dataframe thead th {\n",
       "        text-align: right;\n",
       "    }\n",
       "</style>\n",
       "<table border=\"1\" class=\"dataframe\">\n",
       "  <thead>\n",
       "    <tr style=\"text-align: right;\">\n",
       "      <th></th>\n",
       "      <th>count</th>\n",
       "      <th>mean</th>\n",
       "      <th>std</th>\n",
       "      <th>min</th>\n",
       "      <th>25%</th>\n",
       "      <th>50%</th>\n",
       "      <th>75%</th>\n",
       "      <th>max</th>\n",
       "    </tr>\n",
       "  </thead>\n",
       "  <tbody>\n",
       "    <tr>\n",
       "      <th>Bhagwan</th>\n",
       "      <td>4.0</td>\n",
       "      <td>0.704569</td>\n",
       "      <td>0.352763</td>\n",
       "      <td>0.207932</td>\n",
       "      <td>0.575601</td>\n",
       "      <td>0.823434</td>\n",
       "      <td>0.952401</td>\n",
       "      <td>0.963474</td>\n",
       "    </tr>\n",
       "    <tr>\n",
       "      <th>Krupa</th>\n",
       "      <td>4.0</td>\n",
       "      <td>0.485924</td>\n",
       "      <td>0.311905</td>\n",
       "      <td>0.210948</td>\n",
       "      <td>0.224239</td>\n",
       "      <td>0.457895</td>\n",
       "      <td>0.719580</td>\n",
       "      <td>0.816957</td>\n",
       "    </tr>\n",
       "    <tr>\n",
       "      <th>Rakesh</th>\n",
       "      <td>4.0</td>\n",
       "      <td>0.544529</td>\n",
       "      <td>0.329274</td>\n",
       "      <td>0.147062</td>\n",
       "      <td>0.384116</td>\n",
       "      <td>0.547713</td>\n",
       "      <td>0.708126</td>\n",
       "      <td>0.935627</td>\n",
       "    </tr>\n",
       "  </tbody>\n",
       "</table>\n",
       "</div>"
      ],
      "text/plain": [
       "         count      mean       std       min       25%       50%       75%  \\\n",
       "Bhagwan    4.0  0.704569  0.352763  0.207932  0.575601  0.823434  0.952401   \n",
       "Krupa      4.0  0.485924  0.311905  0.210948  0.224239  0.457895  0.719580   \n",
       "Rakesh     4.0  0.544529  0.329274  0.147062  0.384116  0.547713  0.708126   \n",
       "\n",
       "              max  \n",
       "Bhagwan  0.963474  \n",
       "Krupa    0.816957  \n",
       "Rakesh   0.935627  "
      ]
     },
     "execution_count": 26,
     "metadata": {},
     "output_type": "execute_result"
    }
   ],
   "source": [
    "# transpose\n",
    "d.describe().transpose()"
   ]
  },
  {
   "cell_type": "code",
   "execution_count": 27,
   "id": "c76dde2e",
   "metadata": {},
   "outputs": [
    {
     "data": {
      "text/plain": [
       "A    0.463134\n",
       "B    0.935627\n",
       "C    0.632292\n",
       "D    0.147062\n",
       "Name: Rakesh, dtype: float64"
      ]
     },
     "execution_count": 27,
     "metadata": {},
     "output_type": "execute_result"
    }
   ],
   "source": [
    "# i want answer of each factor separtely\n",
    "# conside Rakesh column\n",
    "d.Rakesh"
   ]
  },
  {
   "cell_type": "markdown",
   "id": "786b9dd1",
   "metadata": {},
   "source": [
    "### 1. count:"
   ]
  },
  {
   "cell_type": "code",
   "execution_count": 28,
   "id": "8ba0c0ba",
   "metadata": {},
   "outputs": [
    {
     "data": {
      "text/plain": [
       "4"
      ]
     },
     "execution_count": 28,
     "metadata": {},
     "output_type": "execute_result"
    }
   ],
   "source": [
    "d.Rakesh.count()"
   ]
  },
  {
   "cell_type": "code",
   "execution_count": 29,
   "id": "18a4e5b2",
   "metadata": {},
   "outputs": [
    {
     "data": {
      "text/plain": [
       "4"
      ]
     },
     "execution_count": 29,
     "metadata": {},
     "output_type": "execute_result"
    }
   ],
   "source": [
    "len(d.Rakesh)"
   ]
  },
  {
   "cell_type": "code",
   "execution_count": 30,
   "id": "0016d684",
   "metadata": {},
   "outputs": [
    {
     "data": {
      "text/plain": [
       "pandas.core.series.Series"
      ]
     },
     "execution_count": 30,
     "metadata": {},
     "output_type": "execute_result"
    }
   ],
   "source": [
    "type(d.Rakesh)"
   ]
  },
  {
   "cell_type": "code",
   "execution_count": 31,
   "id": "9e0bcd9a",
   "metadata": {},
   "outputs": [
    {
     "data": {
      "text/plain": [
       "4"
      ]
     },
     "execution_count": 31,
     "metadata": {},
     "output_type": "execute_result"
    }
   ],
   "source": [
    "d.Rakesh.size"
   ]
  },
  {
   "cell_type": "markdown",
   "id": "b3481cd3",
   "metadata": {},
   "source": [
    "### 2. mean():"
   ]
  },
  {
   "cell_type": "code",
   "execution_count": 32,
   "id": "52dd3c42",
   "metadata": {},
   "outputs": [
    {
     "data": {
      "text/plain": [
       "0.5445288247753728"
      ]
     },
     "execution_count": 32,
     "metadata": {},
     "output_type": "execute_result"
    }
   ],
   "source": [
    "d.Rakesh.mean()"
   ]
  },
  {
   "cell_type": "code",
   "execution_count": 33,
   "id": "c94bb045",
   "metadata": {},
   "outputs": [
    {
     "data": {
      "text/plain": [
       "Bhagwan    0.704569\n",
       "Krupa      0.485924\n",
       "Rakesh     0.544529\n",
       "dtype: float64"
      ]
     },
     "execution_count": 33,
     "metadata": {},
     "output_type": "execute_result"
    }
   ],
   "source": [
    "# i want mean of all columns\n",
    "d.mean() # columnwise"
   ]
  },
  {
   "cell_type": "code",
   "execution_count": 34,
   "id": "32d3b615",
   "metadata": {},
   "outputs": [
    {
     "data": {
      "text/plain": [
       "A    0.546838\n",
       "B    0.816914\n",
       "C    0.760962\n",
       "D    0.188648\n",
       "dtype: float64"
      ]
     },
     "execution_count": 34,
     "metadata": {},
     "output_type": "execute_result"
    }
   ],
   "source": [
    "# rowise mean\n",
    "d.mean(axis=1)"
   ]
  },
  {
   "cell_type": "code",
   "execution_count": 35,
   "id": "5301be7b",
   "metadata": {},
   "outputs": [
    {
     "data": {
      "text/plain": [
       "A    0.228669\n",
       "B    0.816957\n",
       "C    0.687121\n",
       "D    0.210948\n",
       "Name: Krupa, dtype: float64"
      ]
     },
     "execution_count": 35,
     "metadata": {},
     "output_type": "execute_result"
    }
   ],
   "source": [
    "# if we apply indexing over df hen it works default on column\n",
    "d['Krupa']"
   ]
  },
  {
   "cell_type": "code",
   "execution_count": 36,
   "id": "fed7a539",
   "metadata": {},
   "outputs": [
    {
     "data": {
      "text/plain": [
       "array([[0.92178127, 0.50120247, 0.47794989],\n",
       "       [0.07428009, 0.13792262, 0.19801259],\n",
       "       [0.23515762, 0.96153617, 0.45032757]])"
      ]
     },
     "execution_count": 36,
     "metadata": {},
     "output_type": "execute_result"
    }
   ],
   "source": [
    "f = np.random.random((3,3))\n",
    "f"
   ]
  },
  {
   "cell_type": "code",
   "execution_count": 37,
   "id": "fe2de669",
   "metadata": {},
   "outputs": [
    {
     "data": {
      "text/plain": [
       "array([0.92178127, 0.50120247, 0.47794989])"
      ]
     },
     "execution_count": 37,
     "metadata": {},
     "output_type": "execute_result"
    }
   ],
   "source": [
    "f[0]"
   ]
  },
  {
   "cell_type": "code",
   "execution_count": 38,
   "id": "e89e5a82",
   "metadata": {},
   "outputs": [
    {
     "data": {
      "text/plain": [
       "0    10\n",
       "1    20\n",
       "2    30\n",
       "3    40\n",
       "4    50\n",
       "dtype: int64"
      ]
     },
     "execution_count": 38,
     "metadata": {},
     "output_type": "execute_result"
    }
   ],
   "source": [
    "s = pd.Series([10,20,30,40,50])\n",
    "s"
   ]
  },
  {
   "cell_type": "code",
   "execution_count": 39,
   "id": "6705b58b",
   "metadata": {},
   "outputs": [
    {
     "data": {
      "text/plain": [
       "10"
      ]
     },
     "execution_count": 39,
     "metadata": {},
     "output_type": "execute_result"
    }
   ],
   "source": [
    "s[0]"
   ]
  },
  {
   "cell_type": "markdown",
   "id": "a2dc59a4",
   "metadata": {},
   "source": [
    "### 3. Std():"
   ]
  },
  {
   "cell_type": "code",
   "execution_count": 40,
   "id": "ef1b3d7e",
   "metadata": {},
   "outputs": [
    {
     "data": {
      "text/plain": [
       "A    0.948710\n",
       "B    0.698158\n",
       "C    0.963474\n",
       "D    0.207932\n",
       "Name: Bhagwan, dtype: float64"
      ]
     },
     "execution_count": 40,
     "metadata": {},
     "output_type": "execute_result"
    }
   ],
   "source": [
    "d.Bhagwan"
   ]
  },
  {
   "cell_type": "code",
   "execution_count": 41,
   "id": "42394c24",
   "metadata": {},
   "outputs": [
    {
     "data": {
      "text/plain": [
       "0.35276322641864927"
      ]
     },
     "execution_count": 41,
     "metadata": {},
     "output_type": "execute_result"
    }
   ],
   "source": [
    "d.Bhagwan.std()"
   ]
  },
  {
   "cell_type": "code",
   "execution_count": 42,
   "id": "7c80bba6",
   "metadata": {},
   "outputs": [
    {
     "data": {
      "text/plain": [
       "Bhagwan    0.352763\n",
       "Krupa      0.311905\n",
       "Rakesh     0.329274\n",
       "dtype: float64"
      ]
     },
     "execution_count": 42,
     "metadata": {},
     "output_type": "execute_result"
    }
   ],
   "source": [
    "# std of all columns\n",
    "d.std()"
   ]
  },
  {
   "cell_type": "code",
   "execution_count": 43,
   "id": "b9e33699",
   "metadata": {},
   "outputs": [
    {
     "data": {
      "text/plain": [
       "A    0.367246\n",
       "B    0.118735\n",
       "C    0.177510\n",
       "D    0.036045\n",
       "dtype: float64"
      ]
     },
     "execution_count": 43,
     "metadata": {},
     "output_type": "execute_result"
    }
   ],
   "source": [
    "# rowwise std\n",
    "d.std(axis=1)"
   ]
  },
  {
   "cell_type": "markdown",
   "id": "824b9e91",
   "metadata": {},
   "source": [
    "### 4. min():"
   ]
  },
  {
   "cell_type": "code",
   "execution_count": 44,
   "id": "0a45dfbd",
   "metadata": {},
   "outputs": [
    {
     "data": {
      "text/plain": [
       "A    0.228669\n",
       "B    0.816957\n",
       "C    0.687121\n",
       "D    0.210948\n",
       "Name: Krupa, dtype: float64"
      ]
     },
     "execution_count": 44,
     "metadata": {},
     "output_type": "execute_result"
    }
   ],
   "source": [
    "d.Krupa"
   ]
  },
  {
   "cell_type": "code",
   "execution_count": 45,
   "id": "779b1eb8",
   "metadata": {},
   "outputs": [
    {
     "data": {
      "text/plain": [
       "0.21094784058126548"
      ]
     },
     "execution_count": 45,
     "metadata": {},
     "output_type": "execute_result"
    }
   ],
   "source": [
    "d.Krupa.min()"
   ]
  },
  {
   "cell_type": "code",
   "execution_count": 46,
   "id": "ed6610e8",
   "metadata": {},
   "outputs": [
    {
     "data": {
      "text/plain": [
       "Bhagwan    0.207932\n",
       "Krupa      0.210948\n",
       "Rakesh     0.147062\n",
       "dtype: float64"
      ]
     },
     "execution_count": 46,
     "metadata": {},
     "output_type": "execute_result"
    }
   ],
   "source": [
    "# min of all columns\n",
    "d.min()"
   ]
  },
  {
   "cell_type": "code",
   "execution_count": 47,
   "id": "b46c495e",
   "metadata": {},
   "outputs": [
    {
     "data": {
      "text/plain": [
       "A    0.228669\n",
       "B    0.698158\n",
       "C    0.632292\n",
       "D    0.147062\n",
       "dtype: float64"
      ]
     },
     "execution_count": 47,
     "metadata": {},
     "output_type": "execute_result"
    }
   ],
   "source": [
    "# rowwise min\n",
    "d.min(axis=1)"
   ]
  },
  {
   "cell_type": "markdown",
   "id": "414d58fc",
   "metadata": {},
   "source": [
    "### 5. max():"
   ]
  },
  {
   "cell_type": "code",
   "execution_count": 48,
   "id": "f2fd7b9c",
   "metadata": {},
   "outputs": [
    {
     "data": {
      "text/plain": [
       "A    0.228669\n",
       "B    0.816957\n",
       "C    0.687121\n",
       "D    0.210948\n",
       "Name: Krupa, dtype: float64"
      ]
     },
     "execution_count": 48,
     "metadata": {},
     "output_type": "execute_result"
    }
   ],
   "source": [
    "d.Krupa"
   ]
  },
  {
   "cell_type": "code",
   "execution_count": 49,
   "id": "7db3dd7a",
   "metadata": {},
   "outputs": [
    {
     "data": {
      "text/plain": [
       "0.8169567037185963"
      ]
     },
     "execution_count": 49,
     "metadata": {},
     "output_type": "execute_result"
    }
   ],
   "source": [
    "d.Krupa.max()"
   ]
  },
  {
   "cell_type": "code",
   "execution_count": 50,
   "id": "f64c5826",
   "metadata": {},
   "outputs": [
    {
     "data": {
      "text/plain": [
       "Bhagwan    0.963474\n",
       "Krupa      0.816957\n",
       "Rakesh     0.935627\n",
       "dtype: float64"
      ]
     },
     "execution_count": 50,
     "metadata": {},
     "output_type": "execute_result"
    }
   ],
   "source": [
    "# max of all columns\n",
    "d.max()"
   ]
  },
  {
   "cell_type": "code",
   "execution_count": 51,
   "id": "06e0f1ac",
   "metadata": {},
   "outputs": [
    {
     "data": {
      "text/plain": [
       "A    0.948710\n",
       "B    0.935627\n",
       "C    0.963474\n",
       "D    0.210948\n",
       "dtype: float64"
      ]
     },
     "execution_count": 51,
     "metadata": {},
     "output_type": "execute_result"
    }
   ],
   "source": [
    "# rowwise max\n",
    "d.max(axis=1)"
   ]
  },
  {
   "cell_type": "code",
   "execution_count": 52,
   "id": "c4ca629a",
   "metadata": {},
   "outputs": [
    {
     "data": {
      "text/html": [
       "<div>\n",
       "<style scoped>\n",
       "    .dataframe tbody tr th:only-of-type {\n",
       "        vertical-align: middle;\n",
       "    }\n",
       "\n",
       "    .dataframe tbody tr th {\n",
       "        vertical-align: top;\n",
       "    }\n",
       "\n",
       "    .dataframe thead th {\n",
       "        text-align: right;\n",
       "    }\n",
       "</style>\n",
       "<table border=\"1\" class=\"dataframe\">\n",
       "  <thead>\n",
       "    <tr style=\"text-align: right;\">\n",
       "      <th></th>\n",
       "      <th>Bhagwan</th>\n",
       "      <th>Krupa</th>\n",
       "      <th>Rakesh</th>\n",
       "    </tr>\n",
       "  </thead>\n",
       "  <tbody>\n",
       "    <tr>\n",
       "      <th>A</th>\n",
       "      <td>0.948710</td>\n",
       "      <td>0.228669</td>\n",
       "      <td>0.463134</td>\n",
       "    </tr>\n",
       "    <tr>\n",
       "      <th>B</th>\n",
       "      <td>0.698158</td>\n",
       "      <td>0.816957</td>\n",
       "      <td>0.935627</td>\n",
       "    </tr>\n",
       "    <tr>\n",
       "      <th>C</th>\n",
       "      <td>0.963474</td>\n",
       "      <td>0.687121</td>\n",
       "      <td>0.632292</td>\n",
       "    </tr>\n",
       "    <tr>\n",
       "      <th>D</th>\n",
       "      <td>0.207932</td>\n",
       "      <td>0.210948</td>\n",
       "      <td>0.147062</td>\n",
       "    </tr>\n",
       "  </tbody>\n",
       "</table>\n",
       "</div>"
      ],
      "text/plain": [
       "    Bhagwan     Krupa    Rakesh\n",
       "A  0.948710  0.228669  0.463134\n",
       "B  0.698158  0.816957  0.935627\n",
       "C  0.963474  0.687121  0.632292\n",
       "D  0.207932  0.210948  0.147062"
      ]
     },
     "execution_count": 52,
     "metadata": {},
     "output_type": "execute_result"
    }
   ],
   "source": [
    "d"
   ]
  },
  {
   "cell_type": "code",
   "execution_count": 53,
   "id": "61514f50",
   "metadata": {},
   "outputs": [
    {
     "data": {
      "text/plain": [
       "2"
      ]
     },
     "execution_count": 53,
     "metadata": {},
     "output_type": "execute_result"
    }
   ],
   "source": [
    "d.ndim"
   ]
  },
  {
   "cell_type": "code",
   "execution_count": 54,
   "id": "b1e1a92b",
   "metadata": {},
   "outputs": [
    {
     "data": {
      "text/plain": [
       "Bhagwan    0.352763\n",
       "Krupa      0.311905\n",
       "Rakesh     0.329274\n",
       "dtype: float64"
      ]
     },
     "execution_count": 54,
     "metadata": {},
     "output_type": "execute_result"
    }
   ],
   "source": [
    "d.std()"
   ]
  },
  {
   "cell_type": "code",
   "execution_count": 55,
   "id": "639cf504",
   "metadata": {},
   "outputs": [
    {
     "data": {
      "text/plain": [
       "0.020505195035842173"
      ]
     },
     "execution_count": 55,
     "metadata": {},
     "output_type": "execute_result"
    }
   ],
   "source": [
    "d.std().std() # all columns std "
   ]
  },
  {
   "cell_type": "code",
   "execution_count": 56,
   "id": "609c304c",
   "metadata": {},
   "outputs": [
    {
     "data": {
      "text/plain": [
       "0.3017885601393899"
      ]
     },
     "execution_count": 56,
     "metadata": {},
     "output_type": "execute_result"
    }
   ],
   "source": [
    "d.values.flatten().std() #std of all data"
   ]
  },
  {
   "cell_type": "code",
   "execution_count": 57,
   "id": "335c862d",
   "metadata": {},
   "outputs": [
    {
     "data": {
      "text/plain": [
       "array([[0.94871008, 0.22866913, 0.46313354],\n",
       "       [0.69815752, 0.8169567 , 0.93562722],\n",
       "       [0.96347405, 0.68712083, 0.63229211],\n",
       "       [0.20793243, 0.21094784, 0.14706242]])"
      ]
     },
     "execution_count": 57,
     "metadata": {},
     "output_type": "execute_result"
    }
   ],
   "source": [
    "d.values"
   ]
  },
  {
   "cell_type": "code",
   "execution_count": 58,
   "id": "6f6c4295",
   "metadata": {},
   "outputs": [
    {
     "data": {
      "text/plain": [
       "array([0.94871008, 0.22866913, 0.46313354, 0.69815752, 0.8169567 ,\n",
       "       0.93562722, 0.96347405, 0.68712083, 0.63229211, 0.20793243,\n",
       "       0.21094784, 0.14706242])"
      ]
     },
     "execution_count": 58,
     "metadata": {},
     "output_type": "execute_result"
    }
   ],
   "source": [
    "d.values.flatten()"
   ]
  },
  {
   "cell_type": "code",
   "execution_count": 59,
   "id": "ce5d28bb",
   "metadata": {},
   "outputs": [
    {
     "data": {
      "text/plain": [
       "0.3017885601393899"
      ]
     },
     "execution_count": 59,
     "metadata": {},
     "output_type": "execute_result"
    }
   ],
   "source": [
    "d.values.flatten().std()"
   ]
  },
  {
   "cell_type": "markdown",
   "id": "2595461c",
   "metadata": {},
   "source": [
    "## Selection of columns"
   ]
  },
  {
   "cell_type": "code",
   "execution_count": 60,
   "id": "ca1fbc1f",
   "metadata": {},
   "outputs": [
    {
     "data": {
      "text/html": [
       "<div>\n",
       "<style scoped>\n",
       "    .dataframe tbody tr th:only-of-type {\n",
       "        vertical-align: middle;\n",
       "    }\n",
       "\n",
       "    .dataframe tbody tr th {\n",
       "        vertical-align: top;\n",
       "    }\n",
       "\n",
       "    .dataframe thead th {\n",
       "        text-align: right;\n",
       "    }\n",
       "</style>\n",
       "<table border=\"1\" class=\"dataframe\">\n",
       "  <thead>\n",
       "    <tr style=\"text-align: right;\">\n",
       "      <th></th>\n",
       "      <th>Bhagwan</th>\n",
       "      <th>Krupa</th>\n",
       "      <th>Rakesh</th>\n",
       "    </tr>\n",
       "  </thead>\n",
       "  <tbody>\n",
       "    <tr>\n",
       "      <th>A</th>\n",
       "      <td>0.948710</td>\n",
       "      <td>0.228669</td>\n",
       "      <td>0.463134</td>\n",
       "    </tr>\n",
       "    <tr>\n",
       "      <th>B</th>\n",
       "      <td>0.698158</td>\n",
       "      <td>0.816957</td>\n",
       "      <td>0.935627</td>\n",
       "    </tr>\n",
       "    <tr>\n",
       "      <th>C</th>\n",
       "      <td>0.963474</td>\n",
       "      <td>0.687121</td>\n",
       "      <td>0.632292</td>\n",
       "    </tr>\n",
       "    <tr>\n",
       "      <th>D</th>\n",
       "      <td>0.207932</td>\n",
       "      <td>0.210948</td>\n",
       "      <td>0.147062</td>\n",
       "    </tr>\n",
       "  </tbody>\n",
       "</table>\n",
       "</div>"
      ],
      "text/plain": [
       "    Bhagwan     Krupa    Rakesh\n",
       "A  0.948710  0.228669  0.463134\n",
       "B  0.698158  0.816957  0.935627\n",
       "C  0.963474  0.687121  0.632292\n",
       "D  0.207932  0.210948  0.147062"
      ]
     },
     "execution_count": 60,
     "metadata": {},
     "output_type": "execute_result"
    }
   ],
   "source": [
    "d"
   ]
  },
  {
   "cell_type": "code",
   "execution_count": 61,
   "id": "41590f19",
   "metadata": {},
   "outputs": [
    {
     "data": {
      "text/plain": [
       "A    0.463134\n",
       "B    0.935627\n",
       "C    0.632292\n",
       "D    0.147062\n",
       "Name: Rakesh, dtype: float64"
      ]
     },
     "execution_count": 61,
     "metadata": {},
     "output_type": "execute_result"
    }
   ],
   "source": [
    "d.Rakesh"
   ]
  },
  {
   "cell_type": "code",
   "execution_count": 62,
   "id": "fd2c9fc0",
   "metadata": {},
   "outputs": [
    {
     "data": {
      "text/plain": [
       "A    0.463134\n",
       "B    0.935627\n",
       "C    0.632292\n",
       "D    0.147062\n",
       "Name: Rakesh, dtype: float64"
      ]
     },
     "execution_count": 62,
     "metadata": {},
     "output_type": "execute_result"
    }
   ],
   "source": [
    "d['Rakesh']"
   ]
  },
  {
   "cell_type": "code",
   "execution_count": 63,
   "id": "af26d68c",
   "metadata": {},
   "outputs": [
    {
     "data": {
      "text/html": [
       "<div>\n",
       "<style scoped>\n",
       "    .dataframe tbody tr th:only-of-type {\n",
       "        vertical-align: middle;\n",
       "    }\n",
       "\n",
       "    .dataframe tbody tr th {\n",
       "        vertical-align: top;\n",
       "    }\n",
       "\n",
       "    .dataframe thead th {\n",
       "        text-align: right;\n",
       "    }\n",
       "</style>\n",
       "<table border=\"1\" class=\"dataframe\">\n",
       "  <thead>\n",
       "    <tr style=\"text-align: right;\">\n",
       "      <th></th>\n",
       "      <th>Rakesh</th>\n",
       "    </tr>\n",
       "  </thead>\n",
       "  <tbody>\n",
       "    <tr>\n",
       "      <th>A</th>\n",
       "      <td>0.463134</td>\n",
       "    </tr>\n",
       "    <tr>\n",
       "      <th>B</th>\n",
       "      <td>0.935627</td>\n",
       "    </tr>\n",
       "    <tr>\n",
       "      <th>C</th>\n",
       "      <td>0.632292</td>\n",
       "    </tr>\n",
       "    <tr>\n",
       "      <th>D</th>\n",
       "      <td>0.147062</td>\n",
       "    </tr>\n",
       "  </tbody>\n",
       "</table>\n",
       "</div>"
      ],
      "text/plain": [
       "     Rakesh\n",
       "A  0.463134\n",
       "B  0.935627\n",
       "C  0.632292\n",
       "D  0.147062"
      ]
     },
     "execution_count": 63,
     "metadata": {},
     "output_type": "execute_result"
    }
   ],
   "source": [
    "# 2D df\n",
    "d[['Rakesh']]"
   ]
  },
  {
   "cell_type": "code",
   "execution_count": 64,
   "id": "890092ce",
   "metadata": {},
   "outputs": [
    {
     "data": {
      "text/html": [
       "<div>\n",
       "<style scoped>\n",
       "    .dataframe tbody tr th:only-of-type {\n",
       "        vertical-align: middle;\n",
       "    }\n",
       "\n",
       "    .dataframe tbody tr th {\n",
       "        vertical-align: top;\n",
       "    }\n",
       "\n",
       "    .dataframe thead th {\n",
       "        text-align: right;\n",
       "    }\n",
       "</style>\n",
       "<table border=\"1\" class=\"dataframe\">\n",
       "  <thead>\n",
       "    <tr style=\"text-align: right;\">\n",
       "      <th></th>\n",
       "      <th>Rakesh</th>\n",
       "      <th>Krupa</th>\n",
       "      <th>Bhagwan</th>\n",
       "    </tr>\n",
       "  </thead>\n",
       "  <tbody>\n",
       "    <tr>\n",
       "      <th>A</th>\n",
       "      <td>0.463134</td>\n",
       "      <td>0.228669</td>\n",
       "      <td>0.948710</td>\n",
       "    </tr>\n",
       "    <tr>\n",
       "      <th>B</th>\n",
       "      <td>0.935627</td>\n",
       "      <td>0.816957</td>\n",
       "      <td>0.698158</td>\n",
       "    </tr>\n",
       "    <tr>\n",
       "      <th>C</th>\n",
       "      <td>0.632292</td>\n",
       "      <td>0.687121</td>\n",
       "      <td>0.963474</td>\n",
       "    </tr>\n",
       "    <tr>\n",
       "      <th>D</th>\n",
       "      <td>0.147062</td>\n",
       "      <td>0.210948</td>\n",
       "      <td>0.207932</td>\n",
       "    </tr>\n",
       "  </tbody>\n",
       "</table>\n",
       "</div>"
      ],
      "text/plain": [
       "     Rakesh     Krupa   Bhagwan\n",
       "A  0.463134  0.228669  0.948710\n",
       "B  0.935627  0.816957  0.698158\n",
       "C  0.632292  0.687121  0.963474\n",
       "D  0.147062  0.210948  0.207932"
      ]
     },
     "execution_count": 64,
     "metadata": {},
     "output_type": "execute_result"
    }
   ],
   "source": [
    "# access more than one column\n",
    "d[['Rakesh','Krupa','Bhagwan']]"
   ]
  },
  {
   "cell_type": "markdown",
   "id": "8e19af8d",
   "metadata": {},
   "source": [
    "## loc: location based selection/label based selection"
   ]
  },
  {
   "cell_type": "code",
   "execution_count": 65,
   "id": "cef9419c",
   "metadata": {},
   "outputs": [
    {
     "data": {
      "text/html": [
       "<div>\n",
       "<style scoped>\n",
       "    .dataframe tbody tr th:only-of-type {\n",
       "        vertical-align: middle;\n",
       "    }\n",
       "\n",
       "    .dataframe tbody tr th {\n",
       "        vertical-align: top;\n",
       "    }\n",
       "\n",
       "    .dataframe thead th {\n",
       "        text-align: right;\n",
       "    }\n",
       "</style>\n",
       "<table border=\"1\" class=\"dataframe\">\n",
       "  <thead>\n",
       "    <tr style=\"text-align: right;\">\n",
       "      <th></th>\n",
       "      <th>Bhagwan</th>\n",
       "      <th>Krupa</th>\n",
       "      <th>Rakesh</th>\n",
       "    </tr>\n",
       "  </thead>\n",
       "  <tbody>\n",
       "    <tr>\n",
       "      <th>A</th>\n",
       "      <td>0.948710</td>\n",
       "      <td>0.228669</td>\n",
       "      <td>0.463134</td>\n",
       "    </tr>\n",
       "    <tr>\n",
       "      <th>B</th>\n",
       "      <td>0.698158</td>\n",
       "      <td>0.816957</td>\n",
       "      <td>0.935627</td>\n",
       "    </tr>\n",
       "    <tr>\n",
       "      <th>C</th>\n",
       "      <td>0.963474</td>\n",
       "      <td>0.687121</td>\n",
       "      <td>0.632292</td>\n",
       "    </tr>\n",
       "    <tr>\n",
       "      <th>D</th>\n",
       "      <td>0.207932</td>\n",
       "      <td>0.210948</td>\n",
       "      <td>0.147062</td>\n",
       "    </tr>\n",
       "  </tbody>\n",
       "</table>\n",
       "</div>"
      ],
      "text/plain": [
       "    Bhagwan     Krupa    Rakesh\n",
       "A  0.948710  0.228669  0.463134\n",
       "B  0.698158  0.816957  0.935627\n",
       "C  0.963474  0.687121  0.632292\n",
       "D  0.207932  0.210948  0.147062"
      ]
     },
     "execution_count": 65,
     "metadata": {},
     "output_type": "execute_result"
    }
   ],
   "source": [
    "d.loc[:,:] # [rows,columns]"
   ]
  },
  {
   "cell_type": "code",
   "execution_count": 66,
   "id": "587a41a1",
   "metadata": {},
   "outputs": [
    {
     "data": {
      "text/html": [
       "<div>\n",
       "<style scoped>\n",
       "    .dataframe tbody tr th:only-of-type {\n",
       "        vertical-align: middle;\n",
       "    }\n",
       "\n",
       "    .dataframe tbody tr th {\n",
       "        vertical-align: top;\n",
       "    }\n",
       "\n",
       "    .dataframe thead th {\n",
       "        text-align: right;\n",
       "    }\n",
       "</style>\n",
       "<table border=\"1\" class=\"dataframe\">\n",
       "  <thead>\n",
       "    <tr style=\"text-align: right;\">\n",
       "      <th></th>\n",
       "      <th>Krupa</th>\n",
       "      <th>Rakesh</th>\n",
       "    </tr>\n",
       "  </thead>\n",
       "  <tbody>\n",
       "    <tr>\n",
       "      <th>A</th>\n",
       "      <td>0.228669</td>\n",
       "      <td>0.463134</td>\n",
       "    </tr>\n",
       "    <tr>\n",
       "      <th>B</th>\n",
       "      <td>0.816957</td>\n",
       "      <td>0.935627</td>\n",
       "    </tr>\n",
       "    <tr>\n",
       "      <th>C</th>\n",
       "      <td>0.687121</td>\n",
       "      <td>0.632292</td>\n",
       "    </tr>\n",
       "    <tr>\n",
       "      <th>D</th>\n",
       "      <td>0.210948</td>\n",
       "      <td>0.147062</td>\n",
       "    </tr>\n",
       "  </tbody>\n",
       "</table>\n",
       "</div>"
      ],
      "text/plain": [
       "      Krupa    Rakesh\n",
       "A  0.228669  0.463134\n",
       "B  0.816957  0.935627\n",
       "C  0.687121  0.632292\n",
       "D  0.210948  0.147062"
      ]
     },
     "execution_count": 66,
     "metadata": {},
     "output_type": "execute_result"
    }
   ],
   "source": [
    "# work on columns\n",
    "d.loc[:,'Krupa':]"
   ]
  },
  {
   "cell_type": "code",
   "execution_count": 67,
   "id": "1029b2f0",
   "metadata": {},
   "outputs": [
    {
     "data": {
      "text/html": [
       "<div>\n",
       "<style scoped>\n",
       "    .dataframe tbody tr th:only-of-type {\n",
       "        vertical-align: middle;\n",
       "    }\n",
       "\n",
       "    .dataframe tbody tr th {\n",
       "        vertical-align: top;\n",
       "    }\n",
       "\n",
       "    .dataframe thead th {\n",
       "        text-align: right;\n",
       "    }\n",
       "</style>\n",
       "<table border=\"1\" class=\"dataframe\">\n",
       "  <thead>\n",
       "    <tr style=\"text-align: right;\">\n",
       "      <th></th>\n",
       "      <th>Bhagwan</th>\n",
       "      <th>Rakesh</th>\n",
       "    </tr>\n",
       "  </thead>\n",
       "  <tbody>\n",
       "    <tr>\n",
       "      <th>A</th>\n",
       "      <td>0.948710</td>\n",
       "      <td>0.463134</td>\n",
       "    </tr>\n",
       "    <tr>\n",
       "      <th>B</th>\n",
       "      <td>0.698158</td>\n",
       "      <td>0.935627</td>\n",
       "    </tr>\n",
       "    <tr>\n",
       "      <th>C</th>\n",
       "      <td>0.963474</td>\n",
       "      <td>0.632292</td>\n",
       "    </tr>\n",
       "    <tr>\n",
       "      <th>D</th>\n",
       "      <td>0.207932</td>\n",
       "      <td>0.147062</td>\n",
       "    </tr>\n",
       "  </tbody>\n",
       "</table>\n",
       "</div>"
      ],
      "text/plain": [
       "    Bhagwan    Rakesh\n",
       "A  0.948710  0.463134\n",
       "B  0.698158  0.935627\n",
       "C  0.963474  0.632292\n",
       "D  0.207932  0.147062"
      ]
     },
     "execution_count": 67,
     "metadata": {},
     "output_type": "execute_result"
    }
   ],
   "source": [
    "d.loc[:,'Bhagwan'::2]"
   ]
  },
  {
   "cell_type": "code",
   "execution_count": 68,
   "id": "fa882e11",
   "metadata": {},
   "outputs": [
    {
     "data": {
      "text/html": [
       "<div>\n",
       "<style scoped>\n",
       "    .dataframe tbody tr th:only-of-type {\n",
       "        vertical-align: middle;\n",
       "    }\n",
       "\n",
       "    .dataframe tbody tr th {\n",
       "        vertical-align: top;\n",
       "    }\n",
       "\n",
       "    .dataframe thead th {\n",
       "        text-align: right;\n",
       "    }\n",
       "</style>\n",
       "<table border=\"1\" class=\"dataframe\">\n",
       "  <thead>\n",
       "    <tr style=\"text-align: right;\">\n",
       "      <th></th>\n",
       "      <th>Rakesh</th>\n",
       "      <th>Krupa</th>\n",
       "      <th>Bhagwan</th>\n",
       "    </tr>\n",
       "  </thead>\n",
       "  <tbody>\n",
       "    <tr>\n",
       "      <th>A</th>\n",
       "      <td>0.463134</td>\n",
       "      <td>0.228669</td>\n",
       "      <td>0.948710</td>\n",
       "    </tr>\n",
       "    <tr>\n",
       "      <th>B</th>\n",
       "      <td>0.935627</td>\n",
       "      <td>0.816957</td>\n",
       "      <td>0.698158</td>\n",
       "    </tr>\n",
       "    <tr>\n",
       "      <th>C</th>\n",
       "      <td>0.632292</td>\n",
       "      <td>0.687121</td>\n",
       "      <td>0.963474</td>\n",
       "    </tr>\n",
       "    <tr>\n",
       "      <th>D</th>\n",
       "      <td>0.147062</td>\n",
       "      <td>0.210948</td>\n",
       "      <td>0.207932</td>\n",
       "    </tr>\n",
       "  </tbody>\n",
       "</table>\n",
       "</div>"
      ],
      "text/plain": [
       "     Rakesh     Krupa   Bhagwan\n",
       "A  0.463134  0.228669  0.948710\n",
       "B  0.935627  0.816957  0.698158\n",
       "C  0.632292  0.687121  0.963474\n",
       "D  0.147062  0.210948  0.207932"
      ]
     },
     "execution_count": 68,
     "metadata": {},
     "output_type": "execute_result"
    }
   ],
   "source": [
    "# reverse column order\n",
    "d.loc[:,::-1]"
   ]
  },
  {
   "cell_type": "code",
   "execution_count": 69,
   "id": "e6636d88",
   "metadata": {},
   "outputs": [
    {
     "data": {
      "text/html": [
       "<div>\n",
       "<style scoped>\n",
       "    .dataframe tbody tr th:only-of-type {\n",
       "        vertical-align: middle;\n",
       "    }\n",
       "\n",
       "    .dataframe tbody tr th {\n",
       "        vertical-align: top;\n",
       "    }\n",
       "\n",
       "    .dataframe thead th {\n",
       "        text-align: right;\n",
       "    }\n",
       "</style>\n",
       "<table border=\"1\" class=\"dataframe\">\n",
       "  <thead>\n",
       "    <tr style=\"text-align: right;\">\n",
       "      <th></th>\n",
       "      <th>Krupa</th>\n",
       "      <th>Bhagwan</th>\n",
       "      <th>Rakesh</th>\n",
       "    </tr>\n",
       "  </thead>\n",
       "  <tbody>\n",
       "    <tr>\n",
       "      <th>A</th>\n",
       "      <td>0.228669</td>\n",
       "      <td>0.948710</td>\n",
       "      <td>0.463134</td>\n",
       "    </tr>\n",
       "    <tr>\n",
       "      <th>B</th>\n",
       "      <td>0.816957</td>\n",
       "      <td>0.698158</td>\n",
       "      <td>0.935627</td>\n",
       "    </tr>\n",
       "    <tr>\n",
       "      <th>C</th>\n",
       "      <td>0.687121</td>\n",
       "      <td>0.963474</td>\n",
       "      <td>0.632292</td>\n",
       "    </tr>\n",
       "    <tr>\n",
       "      <th>D</th>\n",
       "      <td>0.210948</td>\n",
       "      <td>0.207932</td>\n",
       "      <td>0.147062</td>\n",
       "    </tr>\n",
       "  </tbody>\n",
       "</table>\n",
       "</div>"
      ],
      "text/plain": [
       "      Krupa   Bhagwan    Rakesh\n",
       "A  0.228669  0.948710  0.463134\n",
       "B  0.816957  0.698158  0.935627\n",
       "C  0.687121  0.963474  0.632292\n",
       "D  0.210948  0.207932  0.147062"
      ]
     },
     "execution_count": 69,
     "metadata": {},
     "output_type": "execute_result"
    }
   ],
   "source": [
    "d.loc[:,['Krupa','Bhagwan','Rakesh']]"
   ]
  },
  {
   "cell_type": "code",
   "execution_count": 70,
   "id": "3359182a",
   "metadata": {},
   "outputs": [
    {
     "data": {
      "text/html": [
       "<div>\n",
       "<style scoped>\n",
       "    .dataframe tbody tr th:only-of-type {\n",
       "        vertical-align: middle;\n",
       "    }\n",
       "\n",
       "    .dataframe tbody tr th {\n",
       "        vertical-align: top;\n",
       "    }\n",
       "\n",
       "    .dataframe thead th {\n",
       "        text-align: right;\n",
       "    }\n",
       "</style>\n",
       "<table border=\"1\" class=\"dataframe\">\n",
       "  <thead>\n",
       "    <tr style=\"text-align: right;\">\n",
       "      <th></th>\n",
       "      <th>Bhagwan</th>\n",
       "      <th>Krupa</th>\n",
       "      <th>Rakesh</th>\n",
       "    </tr>\n",
       "  </thead>\n",
       "  <tbody>\n",
       "  </tbody>\n",
       "</table>\n",
       "</div>"
      ],
      "text/plain": [
       "Empty DataFrame\n",
       "Columns: [Bhagwan, Krupa, Rakesh]\n",
       "Index: []"
      ]
     },
     "execution_count": 70,
     "metadata": {},
     "output_type": "execute_result"
    }
   ],
   "source": [
    "# work on rows\n",
    "d.loc['c':,:]"
   ]
  },
  {
   "cell_type": "code",
   "execution_count": 71,
   "id": "7b5e14b8",
   "metadata": {},
   "outputs": [
    {
     "data": {
      "text/html": [
       "<div>\n",
       "<style scoped>\n",
       "    .dataframe tbody tr th:only-of-type {\n",
       "        vertical-align: middle;\n",
       "    }\n",
       "\n",
       "    .dataframe tbody tr th {\n",
       "        vertical-align: top;\n",
       "    }\n",
       "\n",
       "    .dataframe thead th {\n",
       "        text-align: right;\n",
       "    }\n",
       "</style>\n",
       "<table border=\"1\" class=\"dataframe\">\n",
       "  <thead>\n",
       "    <tr style=\"text-align: right;\">\n",
       "      <th></th>\n",
       "      <th>Bhagwan</th>\n",
       "      <th>Krupa</th>\n",
       "      <th>Rakesh</th>\n",
       "    </tr>\n",
       "  </thead>\n",
       "  <tbody>\n",
       "    <tr>\n",
       "      <th>B</th>\n",
       "      <td>0.698158</td>\n",
       "      <td>0.816957</td>\n",
       "      <td>0.935627</td>\n",
       "    </tr>\n",
       "    <tr>\n",
       "      <th>D</th>\n",
       "      <td>0.207932</td>\n",
       "      <td>0.210948</td>\n",
       "      <td>0.147062</td>\n",
       "    </tr>\n",
       "  </tbody>\n",
       "</table>\n",
       "</div>"
      ],
      "text/plain": [
       "    Bhagwan     Krupa    Rakesh\n",
       "B  0.698158  0.816957  0.935627\n",
       "D  0.207932  0.210948  0.147062"
      ]
     },
     "execution_count": 71,
     "metadata": {},
     "output_type": "execute_result"
    }
   ],
   "source": [
    "d.loc['B'::2,:]"
   ]
  },
  {
   "cell_type": "code",
   "execution_count": 72,
   "id": "37ae9de1",
   "metadata": {},
   "outputs": [
    {
     "data": {
      "text/html": [
       "<div>\n",
       "<style scoped>\n",
       "    .dataframe tbody tr th:only-of-type {\n",
       "        vertical-align: middle;\n",
       "    }\n",
       "\n",
       "    .dataframe tbody tr th {\n",
       "        vertical-align: top;\n",
       "    }\n",
       "\n",
       "    .dataframe thead th {\n",
       "        text-align: right;\n",
       "    }\n",
       "</style>\n",
       "<table border=\"1\" class=\"dataframe\">\n",
       "  <thead>\n",
       "    <tr style=\"text-align: right;\">\n",
       "      <th></th>\n",
       "      <th>Bhagwan</th>\n",
       "      <th>Krupa</th>\n",
       "      <th>Rakesh</th>\n",
       "    </tr>\n",
       "  </thead>\n",
       "  <tbody>\n",
       "    <tr>\n",
       "      <th>D</th>\n",
       "      <td>0.207932</td>\n",
       "      <td>0.210948</td>\n",
       "      <td>0.147062</td>\n",
       "    </tr>\n",
       "    <tr>\n",
       "      <th>C</th>\n",
       "      <td>0.963474</td>\n",
       "      <td>0.687121</td>\n",
       "      <td>0.632292</td>\n",
       "    </tr>\n",
       "    <tr>\n",
       "      <th>B</th>\n",
       "      <td>0.698158</td>\n",
       "      <td>0.816957</td>\n",
       "      <td>0.935627</td>\n",
       "    </tr>\n",
       "    <tr>\n",
       "      <th>A</th>\n",
       "      <td>0.948710</td>\n",
       "      <td>0.228669</td>\n",
       "      <td>0.463134</td>\n",
       "    </tr>\n",
       "  </tbody>\n",
       "</table>\n",
       "</div>"
      ],
      "text/plain": [
       "    Bhagwan     Krupa    Rakesh\n",
       "D  0.207932  0.210948  0.147062\n",
       "C  0.963474  0.687121  0.632292\n",
       "B  0.698158  0.816957  0.935627\n",
       "A  0.948710  0.228669  0.463134"
      ]
     },
     "execution_count": 72,
     "metadata": {},
     "output_type": "execute_result"
    }
   ],
   "source": [
    "#reverse column order\n",
    "d.loc[::-1,:]"
   ]
  },
  {
   "cell_type": "code",
   "execution_count": 73,
   "id": "91484a0f",
   "metadata": {},
   "outputs": [
    {
     "data": {
      "text/html": [
       "<div>\n",
       "<style scoped>\n",
       "    .dataframe tbody tr th:only-of-type {\n",
       "        vertical-align: middle;\n",
       "    }\n",
       "\n",
       "    .dataframe tbody tr th {\n",
       "        vertical-align: top;\n",
       "    }\n",
       "\n",
       "    .dataframe thead th {\n",
       "        text-align: right;\n",
       "    }\n",
       "</style>\n",
       "<table border=\"1\" class=\"dataframe\">\n",
       "  <thead>\n",
       "    <tr style=\"text-align: right;\">\n",
       "      <th></th>\n",
       "      <th>Bhagwan</th>\n",
       "      <th>Krupa</th>\n",
       "      <th>Rakesh</th>\n",
       "    </tr>\n",
       "  </thead>\n",
       "  <tbody>\n",
       "    <tr>\n",
       "      <th>B</th>\n",
       "      <td>0.698158</td>\n",
       "      <td>0.816957</td>\n",
       "      <td>0.935627</td>\n",
       "    </tr>\n",
       "    <tr>\n",
       "      <th>C</th>\n",
       "      <td>0.963474</td>\n",
       "      <td>0.687121</td>\n",
       "      <td>0.632292</td>\n",
       "    </tr>\n",
       "    <tr>\n",
       "      <th>D</th>\n",
       "      <td>0.207932</td>\n",
       "      <td>0.210948</td>\n",
       "      <td>0.147062</td>\n",
       "    </tr>\n",
       "    <tr>\n",
       "      <th>A</th>\n",
       "      <td>0.948710</td>\n",
       "      <td>0.228669</td>\n",
       "      <td>0.463134</td>\n",
       "    </tr>\n",
       "  </tbody>\n",
       "</table>\n",
       "</div>"
      ],
      "text/plain": [
       "    Bhagwan     Krupa    Rakesh\n",
       "B  0.698158  0.816957  0.935627\n",
       "C  0.963474  0.687121  0.632292\n",
       "D  0.207932  0.210948  0.147062\n",
       "A  0.948710  0.228669  0.463134"
      ]
     },
     "execution_count": 73,
     "metadata": {},
     "output_type": "execute_result"
    }
   ],
   "source": [
    "d.loc[['B','C','D','A'],:]"
   ]
  },
  {
   "cell_type": "code",
   "execution_count": 74,
   "id": "f610f142",
   "metadata": {},
   "outputs": [
    {
     "data": {
      "text/html": [
       "<div>\n",
       "<style scoped>\n",
       "    .dataframe tbody tr th:only-of-type {\n",
       "        vertical-align: middle;\n",
       "    }\n",
       "\n",
       "    .dataframe tbody tr th {\n",
       "        vertical-align: top;\n",
       "    }\n",
       "\n",
       "    .dataframe thead th {\n",
       "        text-align: right;\n",
       "    }\n",
       "</style>\n",
       "<table border=\"1\" class=\"dataframe\">\n",
       "  <thead>\n",
       "    <tr style=\"text-align: right;\">\n",
       "      <th></th>\n",
       "      <th>Bhagwan</th>\n",
       "      <th>Krupa</th>\n",
       "      <th>Rakesh</th>\n",
       "    </tr>\n",
       "  </thead>\n",
       "  <tbody>\n",
       "    <tr>\n",
       "      <th>A</th>\n",
       "      <td>0.948710</td>\n",
       "      <td>0.228669</td>\n",
       "      <td>0.463134</td>\n",
       "    </tr>\n",
       "    <tr>\n",
       "      <th>D</th>\n",
       "      <td>0.207932</td>\n",
       "      <td>0.210948</td>\n",
       "      <td>0.147062</td>\n",
       "    </tr>\n",
       "  </tbody>\n",
       "</table>\n",
       "</div>"
      ],
      "text/plain": [
       "    Bhagwan     Krupa    Rakesh\n",
       "A  0.948710  0.228669  0.463134\n",
       "D  0.207932  0.210948  0.147062"
      ]
     },
     "execution_count": 74,
     "metadata": {},
     "output_type": "execute_result"
    }
   ],
   "source": [
    "d.loc[::3,:]"
   ]
  }
 ],
 "metadata": {
  "kernelspec": {
   "display_name": "Python 3 (ipykernel)",
   "language": "python",
   "name": "python3"
  },
  "language_info": {
   "codemirror_mode": {
    "name": "ipython",
    "version": 3
   },
   "file_extension": ".py",
   "mimetype": "text/x-python",
   "name": "python",
   "nbconvert_exporter": "python",
   "pygments_lexer": "ipython3",
   "version": "3.9.12"
  }
 },
 "nbformat": 4,
 "nbformat_minor": 5
}
