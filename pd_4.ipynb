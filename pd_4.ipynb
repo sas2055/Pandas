{
 "cells": [
  {
   "cell_type": "code",
   "execution_count": 1,
   "id": "6b5bda05",
   "metadata": {},
   "outputs": [],
   "source": [
    "import pandas as pd"
   ]
  },
  {
   "cell_type": "code",
   "execution_count": 2,
   "id": "ec80a0e8",
   "metadata": {},
   "outputs": [
    {
     "data": {
      "text/plain": [
       "0        Aniket\n",
       "1        Pratik\n",
       "2        Pankaj\n",
       "3    Geetanjali\n",
       "4     Pratiksha\n",
       "5          Amol\n",
       "6         Sagar\n",
       "dtype: object"
      ]
     },
     "execution_count": 2,
     "metadata": {},
     "output_type": "execute_result"
    }
   ],
   "source": [
    "# Create a series of names\n",
    "s = pd.Series(['Aniket','Pratik','Pankaj','Geetanjali','Pratiksha','Amol','Sagar'])\n",
    "s"
   ]
  },
  {
   "cell_type": "code",
   "execution_count": 3,
   "id": "d869cdae",
   "metadata": {},
   "outputs": [
    {
     "data": {
      "text/plain": [
       "0        Aniket\n",
       "1        Pratik\n",
       "2        Pankaj\n",
       "3    Geetanjali\n",
       "4     Pratiksha\n",
       "dtype: object"
      ]
     },
     "execution_count": 3,
     "metadata": {},
     "output_type": "execute_result"
    }
   ],
   "source": [
    "s.head()\n",
    "# default it fetch 5 records"
   ]
  },
  {
   "cell_type": "code",
   "execution_count": 4,
   "id": "e463b789",
   "metadata": {},
   "outputs": [
    {
     "data": {
      "text/plain": [
       "0    Aniket\n",
       "1    Pratik\n",
       "2    Pankaj\n",
       "dtype: object"
      ]
     },
     "execution_count": 4,
     "metadata": {},
     "output_type": "execute_result"
    }
   ],
   "source": [
    "# check first 3 record\n",
    "s.head(3)"
   ]
  },
  {
   "cell_type": "code",
   "execution_count": 5,
   "id": "68dc91db",
   "metadata": {},
   "outputs": [
    {
     "data": {
      "text/plain": [
       "0    Aniket\n",
       "1    Pratik\n",
       "2    Pankaj\n",
       "dtype: object"
      ]
     },
     "execution_count": 5,
     "metadata": {},
     "output_type": "execute_result"
    }
   ],
   "source": [
    "s[:3]"
   ]
  },
  {
   "cell_type": "code",
   "execution_count": 6,
   "id": "28278643",
   "metadata": {},
   "outputs": [
    {
     "data": {
      "text/plain": [
       "5     Amol\n",
       "6    Sagar\n",
       "dtype: object"
      ]
     },
     "execution_count": 6,
     "metadata": {},
     "output_type": "execute_result"
    }
   ],
   "source": [
    "# fetch last 2 record\n",
    "s.tail(2)"
   ]
  },
  {
   "cell_type": "code",
   "execution_count": 7,
   "id": "7594b0b4",
   "metadata": {},
   "outputs": [
    {
     "data": {
      "text/plain": [
       "5          Amol\n",
       "0        Aniket\n",
       "3    Geetanjali\n",
       "2        Pankaj\n",
       "1        Pratik\n",
       "4     Pratiksha\n",
       "6         Sagar\n",
       "dtype: object"
      ]
     },
     "execution_count": 7,
     "metadata": {},
     "output_type": "execute_result"
    }
   ],
   "source": [
    "# plz sort the names in ascending order\n",
    "s.sort_values()"
   ]
  },
  {
   "cell_type": "code",
   "execution_count": 8,
   "id": "20bd3690",
   "metadata": {},
   "outputs": [
    {
     "data": {
      "text/plain": [
       "0          Amol\n",
       "1        Aniket\n",
       "2    Geetanjali\n",
       "3        Pankaj\n",
       "4        Pratik\n",
       "5     Pratiksha\n",
       "6         Sagar\n",
       "dtype: object"
      ]
     },
     "execution_count": 8,
     "metadata": {},
     "output_type": "execute_result"
    }
   ],
   "source": [
    "# in above case index is un ordered\n",
    "s.sort_values(ignore_index=True)"
   ]
  },
  {
   "cell_type": "code",
   "execution_count": 9,
   "id": "9113b948",
   "metadata": {},
   "outputs": [
    {
     "data": {
      "text/plain": [
       "6         Sagar\n",
       "4     Pratiksha\n",
       "1        Pratik\n",
       "2        Pankaj\n",
       "3    Geetanjali\n",
       "0        Aniket\n",
       "5          Amol\n",
       "dtype: object"
      ]
     },
     "execution_count": 9,
     "metadata": {},
     "output_type": "execute_result"
    }
   ],
   "source": [
    "# if we want descending order\n",
    "s.sort_values(ascending= False)"
   ]
  },
  {
   "cell_type": "code",
   "execution_count": 10,
   "id": "e9baef70",
   "metadata": {},
   "outputs": [
    {
     "data": {
      "text/plain": [
       "0        Aniket\n",
       "1        Pratik\n",
       "2        Pankaj\n",
       "3    Geetanjali\n",
       "4     Pratiksha\n",
       "5          Amol\n",
       "6         Sagar\n",
       "dtype: object"
      ]
     },
     "execution_count": 10,
     "metadata": {},
     "output_type": "execute_result"
    }
   ],
   "source": [
    "# use sort_index()\n",
    "srt = s.sort_values(ascending= False)\n",
    "srt.sort_index()"
   ]
  },
  {
   "cell_type": "code",
   "execution_count": 11,
   "id": "f0ccc35b",
   "metadata": {},
   "outputs": [
    {
     "data": {
      "text/plain": [
       "6         Sagar\n",
       "5          Amol\n",
       "4     Pratiksha\n",
       "3    Geetanjali\n",
       "2        Pankaj\n",
       "1        Pratik\n",
       "0        Aniket\n",
       "dtype: object"
      ]
     },
     "execution_count": 11,
     "metadata": {},
     "output_type": "execute_result"
    }
   ],
   "source": [
    "# index in descending order\n",
    "srt.sort_index(ascending=False)"
   ]
  },
  {
   "cell_type": "code",
   "execution_count": 12,
   "id": "8d47c8df",
   "metadata": {},
   "outputs": [
    {
     "data": {
      "text/plain": [
       "6         Sagar\n",
       "4     Pratiksha\n",
       "1        Pratik\n",
       "2        Pankaj\n",
       "3    Geetanjali\n",
       "0        Aniket\n",
       "5          Amol\n",
       "dtype: object"
      ]
     },
     "execution_count": 12,
     "metadata": {},
     "output_type": "execute_result"
    }
   ],
   "source": [
    "srt"
   ]
  },
  {
   "cell_type": "code",
   "execution_count": 13,
   "id": "bde235eb",
   "metadata": {},
   "outputs": [
    {
     "data": {
      "text/plain": [
       "Int64Index([6, 4, 1, 2, 3, 0, 5], dtype='int64')"
      ]
     },
     "execution_count": 13,
     "metadata": {},
     "output_type": "execute_result"
    }
   ],
   "source": [
    "srt.index"
   ]
  },
  {
   "cell_type": "code",
   "execution_count": 14,
   "id": "c7108b97",
   "metadata": {},
   "outputs": [],
   "source": [
    "srt.index = [101,102,103,104,105,106,107]"
   ]
  },
  {
   "cell_type": "code",
   "execution_count": 15,
   "id": "f6da3198",
   "metadata": {},
   "outputs": [
    {
     "data": {
      "text/plain": [
       "101         Sagar\n",
       "102     Pratiksha\n",
       "103        Pratik\n",
       "104        Pankaj\n",
       "105    Geetanjali\n",
       "106        Aniket\n",
       "107          Amol\n",
       "dtype: object"
      ]
     },
     "execution_count": 15,
     "metadata": {},
     "output_type": "execute_result"
    }
   ],
   "source": [
    "srt"
   ]
  },
  {
   "cell_type": "code",
   "execution_count": 16,
   "id": "00f949db",
   "metadata": {},
   "outputs": [
    {
     "data": {
      "text/plain": [
       "107          Amol\n",
       "106        Aniket\n",
       "105    Geetanjali\n",
       "104        Pankaj\n",
       "103        Pratik\n",
       "102     Pratiksha\n",
       "101         Sagar\n",
       "dtype: object"
      ]
     },
     "execution_count": 16,
     "metadata": {},
     "output_type": "execute_result"
    }
   ],
   "source": [
    "srt.sort_values() # this is temp"
   ]
  },
  {
   "cell_type": "code",
   "execution_count": 17,
   "id": "9bdfe1b7",
   "metadata": {},
   "outputs": [
    {
     "data": {
      "text/plain": [
       "101         Sagar\n",
       "102     Pratiksha\n",
       "103        Pratik\n",
       "104        Pankaj\n",
       "105    Geetanjali\n",
       "106        Aniket\n",
       "107          Amol\n",
       "dtype: object"
      ]
     },
     "execution_count": 17,
     "metadata": {},
     "output_type": "execute_result"
    }
   ],
   "source": [
    "srt"
   ]
  },
  {
   "cell_type": "code",
   "execution_count": 18,
   "id": "00ef9573",
   "metadata": {},
   "outputs": [
    {
     "data": {
      "text/plain": [
       "107          Amol\n",
       "106        Aniket\n",
       "105    Geetanjali\n",
       "104        Pankaj\n",
       "103        Pratik\n",
       "102     Pratiksha\n",
       "101         Sagar\n",
       "dtype: object"
      ]
     },
     "execution_count": 18,
     "metadata": {},
     "output_type": "execute_result"
    }
   ],
   "source": [
    "# permenant changes\n",
    "srt.sort_values(inplace=True)\n",
    "srt"
   ]
  },
  {
   "cell_type": "code",
   "execution_count": 19,
   "id": "11159386",
   "metadata": {},
   "outputs": [
    {
     "data": {
      "text/plain": [
       "101         Sagar\n",
       "102     Pratiksha\n",
       "103        Pratik\n",
       "104        Pankaj\n",
       "105    Geetanjali\n",
       "106        Aniket\n",
       "107          Amol\n",
       "dtype: object"
      ]
     },
     "execution_count": 19,
     "metadata": {},
     "output_type": "execute_result"
    }
   ],
   "source": [
    "srt.sort_index() # temporary"
   ]
  },
  {
   "cell_type": "code",
   "execution_count": 20,
   "id": "48b8fb0c",
   "metadata": {},
   "outputs": [
    {
     "data": {
      "text/plain": [
       "101         Sagar\n",
       "102     Pratiksha\n",
       "103        Pratik\n",
       "104        Pankaj\n",
       "105    Geetanjali\n",
       "106        Aniket\n",
       "107          Amol\n",
       "dtype: object"
      ]
     },
     "execution_count": 20,
     "metadata": {},
     "output_type": "execute_result"
    }
   ],
   "source": [
    "# permenant changes\n",
    "srt.sort_index(inplace=True)\n",
    "srt"
   ]
  },
  {
   "cell_type": "code",
   "execution_count": 21,
   "id": "6a117777",
   "metadata": {},
   "outputs": [
    {
     "data": {
      "text/plain": [
       "0       10\n",
       "1    23.44\n",
       "2    67.88\n",
       "dtype: object"
      ]
     },
     "execution_count": 21,
     "metadata": {},
     "output_type": "execute_result"
    }
   ],
   "source": [
    "sd = pd.Series(['10', 23.44, 67.88])\n",
    "sd"
   ]
  },
  {
   "cell_type": "code",
   "execution_count": 22,
   "id": "28d9e802",
   "metadata": {},
   "outputs": [
    {
     "data": {
      "text/plain": [
       "101         Sagar\n",
       "102     Pratiksha\n",
       "103        Pratik\n",
       "104        Pankaj\n",
       "105    Geetanjali\n",
       "106        Aniket\n",
       "107          Amol\n",
       "dtype: object"
      ]
     },
     "execution_count": 22,
     "metadata": {},
     "output_type": "execute_result"
    }
   ],
   "source": [
    "# check different methods/properties supported by series\n",
    "srt"
   ]
  },
  {
   "cell_type": "code",
   "execution_count": 23,
   "id": "30c5a89e",
   "metadata": {},
   "outputs": [
    {
     "data": {
      "text/plain": [
       "1"
      ]
     },
     "execution_count": 23,
     "metadata": {},
     "output_type": "execute_result"
    }
   ],
   "source": [
    "srt.ndim"
   ]
  },
  {
   "cell_type": "code",
   "execution_count": 24,
   "id": "dfdb6a23",
   "metadata": {},
   "outputs": [
    {
     "data": {
      "text/plain": [
       "7"
      ]
     },
     "execution_count": 24,
     "metadata": {},
     "output_type": "execute_result"
    }
   ],
   "source": [
    "srt.size"
   ]
  },
  {
   "cell_type": "code",
   "execution_count": 25,
   "id": "f3207213",
   "metadata": {},
   "outputs": [
    {
     "data": {
      "text/plain": [
       "Int64Index([101, 102, 103, 104, 105, 106, 107], dtype='int64')"
      ]
     },
     "execution_count": 25,
     "metadata": {},
     "output_type": "execute_result"
    }
   ],
   "source": [
    "srt.index"
   ]
  },
  {
   "cell_type": "code",
   "execution_count": 26,
   "id": "4a5b6c1e",
   "metadata": {},
   "outputs": [
    {
     "data": {
      "text/plain": [
       "array(['Sagar', 'Pratiksha', 'Pratik', 'Pankaj', 'Geetanjali', 'Aniket',\n",
       "       'Amol'], dtype=object)"
      ]
     },
     "execution_count": 26,
     "metadata": {},
     "output_type": "execute_result"
    }
   ],
   "source": [
    "srt.values"
   ]
  },
  {
   "cell_type": "code",
   "execution_count": 27,
   "id": "cd14e8d4",
   "metadata": {},
   "outputs": [
    {
     "data": {
      "text/plain": [
       "{101: 'Sagar',\n",
       " 102: 'Pratiksha',\n",
       " 103: 'Pratik',\n",
       " 104: 'Pankaj',\n",
       " 105: 'Geetanjali',\n",
       " 106: 'Aniket',\n",
       " 107: 'Amol'}"
      ]
     },
     "execution_count": 27,
     "metadata": {},
     "output_type": "execute_result"
    }
   ],
   "source": [
    "srt.to_dict()"
   ]
  },
  {
   "cell_type": "code",
   "execution_count": 28,
   "id": "e4b6370b",
   "metadata": {},
   "outputs": [
    {
     "name": "stdout",
     "output_type": "stream",
     "text": [
      "['T', '_AXIS_LEN', '_AXIS_ORDERS', '_AXIS_TO_AXIS_NUMBER', '_HANDLED_TYPES', '__abs__', '__add__', '__and__', '__annotations__', '__array__', '__array_priority__', '__array_ufunc__', '__array_wrap__', '__bool__', '__class__', '__contains__', '__copy__', '__deepcopy__', '__delattr__', '__delitem__', '__dict__', '__dir__', '__divmod__', '__doc__', '__eq__', '__finalize__', '__float__', '__floordiv__', '__format__', '__ge__', '__getattr__', '__getattribute__', '__getitem__', '__getstate__', '__gt__', '__hash__', '__iadd__', '__iand__', '__ifloordiv__', '__imod__', '__imul__', '__init__', '__init_subclass__', '__int__', '__invert__', '__ior__', '__ipow__', '__isub__', '__iter__', '__itruediv__', '__ixor__', '__le__', '__len__', '__long__', '__lt__', '__matmul__', '__mod__', '__module__', '__mul__', '__ne__', '__neg__', '__new__', '__nonzero__', '__or__', '__pos__', '__pow__', '__radd__', '__rand__', '__rdivmod__', '__reduce__', '__reduce_ex__', '__repr__', '__rfloordiv__', '__rmatmul__', '__rmod__', '__rmul__', '__ror__', '__round__', '__rpow__', '__rsub__', '__rtruediv__', '__rxor__', '__setattr__', '__setitem__', '__setstate__', '__sizeof__', '__str__', '__sub__', '__subclasshook__', '__truediv__', '__weakref__', '__xor__', '_accessors', '_accum_func', '_add_numeric_operations', '_agg_by_level', '_agg_examples_doc', '_agg_see_also_doc', '_align_frame', '_align_series', '_append', '_arith_method', '_as_manager', '_attrs', '_binop', '_can_hold_na', '_check_inplace_and_allows_duplicate_labels', '_check_inplace_setting', '_check_is_chained_assignment_possible', '_check_label_or_level_ambiguity', '_check_setitem_copy', '_clear_item_cache', '_clip_with_one_bound', '_clip_with_scalar', '_cmp_method', '_consolidate', '_consolidate_inplace', '_construct_axes_dict', '_construct_axes_from_arguments', '_construct_result', '_constructor', '_constructor_expanddim', '_convert', '_convert_dtypes', '_data', '_dir_additions', '_dir_deletions', '_drop_axis', '_drop_labels_or_levels', '_duplicated', '_find_valid_index', '_flags', '_from_mgr', '_get_axis', '_get_axis_name', '_get_axis_number', '_get_axis_resolvers', '_get_block_manager_axis', '_get_bool_data', '_get_cacher', '_get_cleaned_column_resolvers', '_get_index_resolvers', '_get_label_or_level_values', '_get_numeric_data', '_get_value', '_get_values', '_get_values_tuple', '_get_with', '_gotitem', '_hidden_attrs', '_indexed_same', '_info_axis', '_info_axis_name', '_info_axis_number', '_init_dict', '_init_mgr', '_inplace_method', '_internal_names', '_internal_names_set', '_is_cached', '_is_copy', '_is_label_or_level_reference', '_is_label_reference', '_is_level_reference', '_is_mixed_type', '_is_view', '_item_cache', '_ixs', '_logical_func', '_logical_method', '_map_values', '_maybe_update_cacher', '_memory_usage', '_metadata', '_mgr', '_min_count_stat_function', '_name', '_needs_reindex_multi', '_protect_consolidate', '_reduce', '_reindex_axes', '_reindex_indexer', '_reindex_multi', '_reindex_with_indexers', '_rename', '_replace_single', '_repr_data_resource_', '_repr_latex_', '_reset_cache', '_reset_cacher', '_set_as_cached', '_set_axis', '_set_axis_name', '_set_axis_nocheck', '_set_is_copy', '_set_labels', '_set_name', '_set_value', '_set_values', '_set_with', '_set_with_engine', '_slice', '_stat_axis', '_stat_axis_name', '_stat_axis_number', '_stat_function', '_stat_function_ddof', '_take_with_is_copy', '_typ', '_update_inplace', '_validate_dtype', '_values', '_where', 'abs', 'add', 'add_prefix', 'add_suffix', 'agg', 'aggregate', 'align', 'all', 'any', 'append', 'apply', 'argmax', 'argmin', 'argsort', 'array', 'asfreq', 'asof', 'astype', 'at', 'at_time', 'attrs', 'autocorr', 'axes', 'backfill', 'between', 'between_time', 'bfill', 'bool', 'clip', 'combine', 'combine_first', 'compare', 'convert_dtypes', 'copy', 'corr', 'count', 'cov', 'cummax', 'cummin', 'cumprod', 'cumsum', 'describe', 'diff', 'div', 'divide', 'divmod', 'dot', 'drop', 'drop_duplicates', 'droplevel', 'dropna', 'dtype', 'dtypes', 'duplicated', 'empty', 'eq', 'equals', 'ewm', 'expanding', 'explode', 'factorize', 'ffill', 'fillna', 'filter', 'first', 'first_valid_index', 'flags', 'floordiv', 'ge', 'get', 'groupby', 'gt', 'hasnans', 'head', 'hist', 'iat', 'idxmax', 'idxmin', 'iloc', 'index', 'infer_objects', 'info', 'interpolate', 'is_monotonic', 'is_monotonic_decreasing', 'is_monotonic_increasing', 'is_unique', 'isin', 'isna', 'isnull', 'item', 'items', 'iteritems', 'keys', 'kurt', 'kurtosis', 'last', 'last_valid_index', 'le', 'loc', 'lt', 'mad', 'map', 'mask', 'max', 'mean', 'median', 'memory_usage', 'min', 'mod', 'mode', 'mul', 'multiply', 'name', 'nbytes', 'ndim', 'ne', 'nlargest', 'notna', 'notnull', 'nsmallest', 'nunique', 'pad', 'pct_change', 'pipe', 'plot', 'pop', 'pow', 'prod', 'product', 'quantile', 'radd', 'rank', 'ravel', 'rdiv', 'rdivmod', 'reindex', 'reindex_like', 'rename', 'rename_axis', 'reorder_levels', 'repeat', 'replace', 'resample', 'reset_index', 'rfloordiv', 'rmod', 'rmul', 'rolling', 'round', 'rpow', 'rsub', 'rtruediv', 'sample', 'searchsorted', 'sem', 'set_axis', 'set_flags', 'shape', 'shift', 'size', 'skew', 'slice_shift', 'sort_index', 'sort_values', 'squeeze', 'std', 'str', 'sub', 'subtract', 'sum', 'swapaxes', 'swaplevel', 'tail', 'take', 'to_clipboard', 'to_csv', 'to_dict', 'to_excel', 'to_frame', 'to_hdf', 'to_json', 'to_latex', 'to_list', 'to_markdown', 'to_numpy', 'to_period', 'to_pickle', 'to_sql', 'to_string', 'to_timestamp', 'to_xarray', 'transform', 'transpose', 'truediv', 'truncate', 'tz_convert', 'tz_localize', 'unique', 'unstack', 'update', 'value_counts', 'values', 'var', 'view', 'where', 'xs']\n"
     ]
    }
   ],
   "source": [
    "print(dir(srt))"
   ]
  },
  {
   "cell_type": "code",
   "execution_count": 29,
   "id": "50245ac6",
   "metadata": {},
   "outputs": [
    {
     "data": {
      "text/plain": [
       "array(['Sagar', 'Pratiksha', 'Pratik', 'Pankaj', 'Geetanjali', 'Aniket',\n",
       "       'Amol'], dtype=object)"
      ]
     },
     "execution_count": 29,
     "metadata": {},
     "output_type": "execute_result"
    }
   ],
   "source": [
    "srt.to_numpy()"
   ]
  },
  {
   "cell_type": "code",
   "execution_count": 30,
   "id": "40c49bc9",
   "metadata": {},
   "outputs": [
    {
     "data": {
      "text/plain": [
       "1"
      ]
     },
     "execution_count": 30,
     "metadata": {},
     "output_type": "execute_result"
    }
   ],
   "source": [
    "srt.ndim"
   ]
  },
  {
   "cell_type": "code",
   "execution_count": 31,
   "id": "703738ca",
   "metadata": {},
   "outputs": [
    {
     "data": {
      "text/plain": [
       "0    Pravin\n",
       "1    Akshay\n",
       "2    Ayesha\n",
       "dtype: object"
      ]
     },
     "execution_count": 31,
     "metadata": {},
     "output_type": "execute_result"
    }
   ],
   "source": [
    "# create another series of names\n",
    "s2 = pd.Series(['Pravin','Akshay','Ayesha'])\n",
    "s2"
   ]
  },
  {
   "cell_type": "code",
   "execution_count": 32,
   "id": "537ebfa8",
   "metadata": {},
   "outputs": [
    {
     "data": {
      "text/plain": [
       "101         Sagar\n",
       "102     Pratiksha\n",
       "103        Pratik\n",
       "104        Pankaj\n",
       "105    Geetanjali\n",
       "106        Aniket\n",
       "107          Amol\n",
       "dtype: object"
      ]
     },
     "execution_count": 32,
     "metadata": {},
     "output_type": "execute_result"
    }
   ],
   "source": [
    "srt"
   ]
  },
  {
   "cell_type": "code",
   "execution_count": 33,
   "id": "1eb44199",
   "metadata": {},
   "outputs": [
    {
     "name": "stderr",
     "output_type": "stream",
     "text": [
      "C:\\Users\\chava\\AppData\\Local\\Temp\\ipykernel_10792\\2732920417.py:2: FutureWarning: The series.append method is deprecated and will be removed from pandas in a future version. Use pandas.concat instead.\n",
      "  srt.append(s2)\n"
     ]
    },
    {
     "data": {
      "text/plain": [
       "101         Sagar\n",
       "102     Pratiksha\n",
       "103        Pratik\n",
       "104        Pankaj\n",
       "105    Geetanjali\n",
       "106        Aniket\n",
       "107          Amol\n",
       "0          Pravin\n",
       "1          Akshay\n",
       "2          Ayesha\n",
       "dtype: object"
      ]
     },
     "execution_count": 33,
     "metadata": {},
     "output_type": "execute_result"
    }
   ],
   "source": [
    "# lets combine series using append\n",
    "srt.append(s2)"
   ]
  },
  {
   "cell_type": "code",
   "execution_count": 34,
   "id": "d515cb11",
   "metadata": {},
   "outputs": [
    {
     "name": "stderr",
     "output_type": "stream",
     "text": [
      "C:\\Users\\chava\\AppData\\Local\\Temp\\ipykernel_10792\\2532991946.py:2: FutureWarning: The series.append method is deprecated and will be removed from pandas in a future version. Use pandas.concat instead.\n",
      "  srt.append(s2, ignore_index=True)\n"
     ]
    },
    {
     "data": {
      "text/plain": [
       "0         Sagar\n",
       "1     Pratiksha\n",
       "2        Pratik\n",
       "3        Pankaj\n",
       "4    Geetanjali\n",
       "5        Aniket\n",
       "6          Amol\n",
       "7        Pravin\n",
       "8        Akshay\n",
       "9        Ayesha\n",
       "dtype: object"
      ]
     },
     "execution_count": 34,
     "metadata": {},
     "output_type": "execute_result"
    }
   ],
   "source": [
    "# to make proper indexing use ignore_index\n",
    "srt.append(s2, ignore_index=True)"
   ]
  },
  {
   "cell_type": "code",
   "execution_count": 35,
   "id": "9c275439",
   "metadata": {},
   "outputs": [
    {
     "name": "stderr",
     "output_type": "stream",
     "text": [
      "C:\\Users\\chava\\AppData\\Local\\Temp\\ipykernel_10792\\3138216632.py:1: FutureWarning: The series.append method is deprecated and will be removed from pandas in a future version. Use pandas.concat instead.\n",
      "  srt2 = srt.append(s2)\n"
     ]
    },
    {
     "data": {
      "text/plain": [
       "101         Sagar\n",
       "102     Pratiksha\n",
       "103        Pratik\n",
       "104        Pankaj\n",
       "105    Geetanjali\n",
       "106        Aniket\n",
       "107          Amol\n",
       "0          Pravin\n",
       "1          Akshay\n",
       "2          Ayesha\n",
       "dtype: object"
      ]
     },
     "execution_count": 35,
     "metadata": {},
     "output_type": "execute_result"
    }
   ],
   "source": [
    "srt2 = srt.append(s2)\n",
    "srt2"
   ]
  },
  {
   "cell_type": "code",
   "execution_count": 36,
   "id": "c9cf9e0a",
   "metadata": {},
   "outputs": [
    {
     "data": {
      "text/plain": [
       "0        Pravin\n",
       "1        Akshay\n",
       "2        Ayesha\n",
       "3         Sagar\n",
       "4     Pratiksha\n",
       "5        Pratik\n",
       "6        Pankaj\n",
       "7    Geetanjali\n",
       "8        Aniket\n",
       "9          Amol\n",
       "dtype: object"
      ]
     },
     "execution_count": 36,
     "metadata": {},
     "output_type": "execute_result"
    }
   ],
   "source": [
    "srt2.sort_index(ignore_index=True,inplace=True)\n",
    "srt2"
   ]
  },
  {
   "cell_type": "code",
   "execution_count": 37,
   "id": "f6661b9a",
   "metadata": {},
   "outputs": [
    {
     "name": "stderr",
     "output_type": "stream",
     "text": [
      "C:\\Users\\chava\\AppData\\Local\\Temp\\ipykernel_10792\\614423949.py:1: FutureWarning: The series.append method is deprecated and will be removed from pandas in a future version. Use pandas.concat instead.\n",
      "  srt3 = srt.append(s2)\n"
     ]
    },
    {
     "data": {
      "text/plain": [
       "101         Sagar\n",
       "102     Pratiksha\n",
       "103        Pratik\n",
       "104        Pankaj\n",
       "105    Geetanjali\n",
       "106        Aniket\n",
       "107          Amol\n",
       "0          Pravin\n",
       "1          Akshay\n",
       "2          Ayesha\n",
       "dtype: object"
      ]
     },
     "execution_count": 37,
     "metadata": {},
     "output_type": "execute_result"
    }
   ],
   "source": [
    "srt3 = srt.append(s2)\n",
    "srt3"
   ]
  },
  {
   "cell_type": "code",
   "execution_count": 38,
   "id": "be8a1311",
   "metadata": {},
   "outputs": [
    {
     "data": {
      "text/html": [
       "<div>\n",
       "<style scoped>\n",
       "    .dataframe tbody tr th:only-of-type {\n",
       "        vertical-align: middle;\n",
       "    }\n",
       "\n",
       "    .dataframe tbody tr th {\n",
       "        vertical-align: top;\n",
       "    }\n",
       "\n",
       "    .dataframe thead th {\n",
       "        text-align: right;\n",
       "    }\n",
       "</style>\n",
       "<table border=\"1\" class=\"dataframe\">\n",
       "  <thead>\n",
       "    <tr style=\"text-align: right;\">\n",
       "      <th></th>\n",
       "      <th>index</th>\n",
       "      <th>0</th>\n",
       "    </tr>\n",
       "  </thead>\n",
       "  <tbody>\n",
       "    <tr>\n",
       "      <th>0</th>\n",
       "      <td>101</td>\n",
       "      <td>Sagar</td>\n",
       "    </tr>\n",
       "    <tr>\n",
       "      <th>1</th>\n",
       "      <td>102</td>\n",
       "      <td>Pratiksha</td>\n",
       "    </tr>\n",
       "    <tr>\n",
       "      <th>2</th>\n",
       "      <td>103</td>\n",
       "      <td>Pratik</td>\n",
       "    </tr>\n",
       "    <tr>\n",
       "      <th>3</th>\n",
       "      <td>104</td>\n",
       "      <td>Pankaj</td>\n",
       "    </tr>\n",
       "    <tr>\n",
       "      <th>4</th>\n",
       "      <td>105</td>\n",
       "      <td>Geetanjali</td>\n",
       "    </tr>\n",
       "    <tr>\n",
       "      <th>5</th>\n",
       "      <td>106</td>\n",
       "      <td>Aniket</td>\n",
       "    </tr>\n",
       "    <tr>\n",
       "      <th>6</th>\n",
       "      <td>107</td>\n",
       "      <td>Amol</td>\n",
       "    </tr>\n",
       "    <tr>\n",
       "      <th>7</th>\n",
       "      <td>0</td>\n",
       "      <td>Pravin</td>\n",
       "    </tr>\n",
       "    <tr>\n",
       "      <th>8</th>\n",
       "      <td>1</td>\n",
       "      <td>Akshay</td>\n",
       "    </tr>\n",
       "    <tr>\n",
       "      <th>9</th>\n",
       "      <td>2</td>\n",
       "      <td>Ayesha</td>\n",
       "    </tr>\n",
       "  </tbody>\n",
       "</table>\n",
       "</div>"
      ],
      "text/plain": [
       "   index           0\n",
       "0    101       Sagar\n",
       "1    102   Pratiksha\n",
       "2    103      Pratik\n",
       "3    104      Pankaj\n",
       "4    105  Geetanjali\n",
       "5    106      Aniket\n",
       "6    107        Amol\n",
       "7      0      Pravin\n",
       "8      1      Akshay\n",
       "9      2      Ayesha"
      ]
     },
     "execution_count": 38,
     "metadata": {},
     "output_type": "execute_result"
    }
   ],
   "source": [
    "srt3.reset_index()"
   ]
  },
  {
   "cell_type": "code",
   "execution_count": 39,
   "id": "c6f12890",
   "metadata": {},
   "outputs": [
    {
     "data": {
      "text/plain": [
       "pandas.core.frame.DataFrame"
      ]
     },
     "execution_count": 39,
     "metadata": {},
     "output_type": "execute_result"
    }
   ],
   "source": [
    "type(srt3.reset_index())"
   ]
  },
  {
   "cell_type": "code",
   "execution_count": 40,
   "id": "e488ae3f",
   "metadata": {},
   "outputs": [
    {
     "data": {
      "text/plain": [
       "pandas.core.series.Series"
      ]
     },
     "execution_count": 40,
     "metadata": {},
     "output_type": "execute_result"
    }
   ],
   "source": [
    "type(srt3)"
   ]
  },
  {
   "cell_type": "code",
   "execution_count": 41,
   "id": "b5effcb3",
   "metadata": {},
   "outputs": [
    {
     "data": {
      "text/plain": [
       "0         Sagar\n",
       "1     Pratiksha\n",
       "2        Pratik\n",
       "3        Pankaj\n",
       "4    Geetanjali\n",
       "5        Aniket\n",
       "6          Amol\n",
       "7        Pravin\n",
       "8        Akshay\n",
       "9        Ayesha\n",
       "dtype: object"
      ]
     },
     "execution_count": 41,
     "metadata": {},
     "output_type": "execute_result"
    }
   ],
   "source": [
    "# i dont want index column--> it gives Series\n",
    "srt3.reset_index(drop=True)"
   ]
  },
  {
   "cell_type": "code",
   "execution_count": 42,
   "id": "9ba8b4d9",
   "metadata": {},
   "outputs": [],
   "source": [
    "# permenant changes\n",
    "srt3.reset_index(drop=True,inplace=True)"
   ]
  },
  {
   "cell_type": "code",
   "execution_count": 43,
   "id": "5274c3cc",
   "metadata": {},
   "outputs": [
    {
     "data": {
      "text/plain": [
       "0         Sagar\n",
       "1     Pratiksha\n",
       "2        Pratik\n",
       "3        Pankaj\n",
       "4    Geetanjali\n",
       "5        Aniket\n",
       "6          Amol\n",
       "7        Pravin\n",
       "8        Akshay\n",
       "9        Ayesha\n",
       "dtype: object"
      ]
     },
     "execution_count": 43,
     "metadata": {},
     "output_type": "execute_result"
    }
   ],
   "source": [
    "srt3"
   ]
  },
  {
   "cell_type": "code",
   "execution_count": 44,
   "id": "6fce1544",
   "metadata": {},
   "outputs": [
    {
     "data": {
      "text/plain": [
       "0         SAGAR\n",
       "1     PRATIKSHA\n",
       "2        PRATIK\n",
       "3        PANKAJ\n",
       "4    GEETANJALI\n",
       "5        ANIKET\n",
       "6          AMOL\n",
       "7        PRAVIN\n",
       "8        AKSHAY\n",
       "9        AYESHA\n",
       "dtype: object"
      ]
     },
     "execution_count": 44,
     "metadata": {},
     "output_type": "execute_result"
    }
   ],
   "source": [
    "# convert all names needed in upper case\n",
    "srt3.str.upper()"
   ]
  },
  {
   "cell_type": "code",
   "execution_count": 45,
   "id": "795ec5b7",
   "metadata": {},
   "outputs": [
    {
     "data": {
      "text/plain": [
       "0    False\n",
       "1    False\n",
       "2    False\n",
       "3    False\n",
       "4    False\n",
       "5    False\n",
       "6    False\n",
       "7     True\n",
       "8    False\n",
       "9    False\n",
       "dtype: bool"
      ]
     },
     "execution_count": 45,
     "metadata": {},
     "output_type": "execute_result"
    }
   ],
   "source": [
    "# findout people name ending with n\n",
    "srt3.str.endswith('n')"
   ]
  },
  {
   "cell_type": "code",
   "execution_count": 46,
   "id": "32c920e3",
   "metadata": {},
   "outputs": [
    {
     "data": {
      "text/plain": [
       "7    Pravin\n",
       "dtype: object"
      ]
     },
     "execution_count": 46,
     "metadata": {},
     "output_type": "execute_result"
    }
   ],
   "source": [
    "srt3[srt3.str.endswith('n')]"
   ]
  },
  {
   "cell_type": "code",
   "execution_count": 47,
   "id": "091e4d74",
   "metadata": {},
   "outputs": [
    {
     "data": {
      "text/plain": [
       "0         Sagar\n",
       "1     Pratiksha\n",
       "2        Pratik\n",
       "3        Pankaj\n",
       "4    Geetanjali\n",
       "5        Aniket\n",
       "6          Amol\n",
       "7        Pravin\n",
       "8        Akshay\n",
       "9        Ayesha\n",
       "dtype: object"
      ]
     },
     "execution_count": 47,
     "metadata": {},
     "output_type": "execute_result"
    }
   ],
   "source": [
    "srt3"
   ]
  },
  {
   "cell_type": "code",
   "execution_count": 48,
   "id": "8c9e653c",
   "metadata": {},
   "outputs": [
    {
     "data": {
      "text/plain": [
       "0         Sagar\n",
       "2        Pratik\n",
       "4    Geetanjali\n",
       "6          Amol\n",
       "8        Akshay\n",
       "dtype: object"
      ]
     },
     "execution_count": 48,
     "metadata": {},
     "output_type": "execute_result"
    }
   ],
   "source": [
    "# access alternate name\n",
    "srt3[::2]"
   ]
  },
  {
   "cell_type": "code",
   "execution_count": 49,
   "id": "9836a37e",
   "metadata": {},
   "outputs": [
    {
     "name": "stdout",
     "output_type": "stream",
     "text": [
      "0         Sagar Patil\n",
      "1     Pratiksha Patil\n",
      "2        Pratik Patil\n",
      "3        Pankaj Patil\n",
      "4    Geetanjali Patil\n",
      "5        Aniket Patil\n",
      "6          Amol Patil\n",
      "7        Pravin Patil\n",
      "8        Akshay Patil\n",
      "9        Ayesha Patil\n",
      "dtype: object\n"
     ]
    }
   ],
   "source": [
    "# add some constant str at the end\n",
    "add_str = 'Patil'\n",
    "print(srt3 + ' ' + add_str)"
   ]
  },
  {
   "cell_type": "code",
   "execution_count": 50,
   "id": "bf8d3f0d",
   "metadata": {},
   "outputs": [
    {
     "name": "stdout",
     "output_type": "stream",
     "text": [
      "Pratiksha\n",
      "Geetanjali\n"
     ]
    }
   ],
   "source": [
    "#fetch name with length of name > 6\n",
    "for name in srt3:\n",
    "    if len(name) > 6:\n",
    "        print(name)"
   ]
  },
  {
   "cell_type": "code",
   "execution_count": 51,
   "id": "a2f45059",
   "metadata": {},
   "outputs": [
    {
     "data": {
      "text/plain": [
       "9        Ayesha\n",
       "8        Akshay\n",
       "7        Pravin\n",
       "6          Amol\n",
       "5        Aniket\n",
       "4    Geetanjali\n",
       "3        Pankaj\n",
       "2        Pratik\n",
       "1     Pratiksha\n",
       "0         Sagar\n",
       "dtype: object"
      ]
     },
     "execution_count": 51,
     "metadata": {},
     "output_type": "execute_result"
    }
   ],
   "source": [
    "srt3[::-1]"
   ]
  }
 ],
 "metadata": {
  "kernelspec": {
   "display_name": "Python 3 (ipykernel)",
   "language": "python",
   "name": "python3"
  },
  "language_info": {
   "codemirror_mode": {
    "name": "ipython",
    "version": 3
   },
   "file_extension": ".py",
   "mimetype": "text/x-python",
   "name": "python",
   "nbconvert_exporter": "python",
   "pygments_lexer": "ipython3",
   "version": "3.9.12"
  }
 },
 "nbformat": 4,
 "nbformat_minor": 5
}
