{
 "cells": [
  {
   "cell_type": "code",
   "execution_count": 1,
   "id": "23ef82a7",
   "metadata": {},
   "outputs": [],
   "source": [
    "import pandas as pd\n",
    "import numpy as np"
   ]
  },
  {
   "cell_type": "code",
   "execution_count": 2,
   "id": "34ebd411",
   "metadata": {},
   "outputs": [
    {
     "data": {
      "text/html": [
       "<div>\n",
       "<style scoped>\n",
       "    .dataframe tbody tr th:only-of-type {\n",
       "        vertical-align: middle;\n",
       "    }\n",
       "\n",
       "    .dataframe tbody tr th {\n",
       "        vertical-align: top;\n",
       "    }\n",
       "\n",
       "    .dataframe thead th {\n",
       "        text-align: right;\n",
       "    }\n",
       "</style>\n",
       "<table border=\"1\" class=\"dataframe\">\n",
       "  <thead>\n",
       "    <tr style=\"text-align: right;\">\n",
       "      <th></th>\n",
       "      <th>Team</th>\n",
       "      <th>Rank</th>\n",
       "      <th>Year</th>\n",
       "      <th>Points</th>\n",
       "    </tr>\n",
       "  </thead>\n",
       "  <tbody>\n",
       "    <tr>\n",
       "      <th>0</th>\n",
       "      <td>MI</td>\n",
       "      <td>1</td>\n",
       "      <td>2014</td>\n",
       "      <td>876</td>\n",
       "    </tr>\n",
       "    <tr>\n",
       "      <th>1</th>\n",
       "      <td>MI</td>\n",
       "      <td>2</td>\n",
       "      <td>2015</td>\n",
       "      <td>789</td>\n",
       "    </tr>\n",
       "    <tr>\n",
       "      <th>2</th>\n",
       "      <td>Devils</td>\n",
       "      <td>2</td>\n",
       "      <td>2014</td>\n",
       "      <td>863</td>\n",
       "    </tr>\n",
       "    <tr>\n",
       "      <th>3</th>\n",
       "      <td>Devils</td>\n",
       "      <td>3</td>\n",
       "      <td>2015</td>\n",
       "      <td>673</td>\n",
       "    </tr>\n",
       "    <tr>\n",
       "      <th>4</th>\n",
       "      <td>Kings</td>\n",
       "      <td>3</td>\n",
       "      <td>2014</td>\n",
       "      <td>741</td>\n",
       "    </tr>\n",
       "    <tr>\n",
       "      <th>5</th>\n",
       "      <td>CSK</td>\n",
       "      <td>4</td>\n",
       "      <td>2015</td>\n",
       "      <td>812</td>\n",
       "    </tr>\n",
       "    <tr>\n",
       "      <th>6</th>\n",
       "      <td>CSK</td>\n",
       "      <td>1</td>\n",
       "      <td>2016</td>\n",
       "      <td>756</td>\n",
       "    </tr>\n",
       "    <tr>\n",
       "      <th>7</th>\n",
       "      <td>CSK</td>\n",
       "      <td>1</td>\n",
       "      <td>2017</td>\n",
       "      <td>788</td>\n",
       "    </tr>\n",
       "    <tr>\n",
       "      <th>8</th>\n",
       "      <td>MI</td>\n",
       "      <td>2</td>\n",
       "      <td>2016</td>\n",
       "      <td>694</td>\n",
       "    </tr>\n",
       "    <tr>\n",
       "      <th>9</th>\n",
       "      <td>Royals</td>\n",
       "      <td>4</td>\n",
       "      <td>2014</td>\n",
       "      <td>701</td>\n",
       "    </tr>\n",
       "    <tr>\n",
       "      <th>10</th>\n",
       "      <td>Royals</td>\n",
       "      <td>1</td>\n",
       "      <td>2015</td>\n",
       "      <td>804</td>\n",
       "    </tr>\n",
       "    <tr>\n",
       "      <th>11</th>\n",
       "      <td>MI</td>\n",
       "      <td>2</td>\n",
       "      <td>2017</td>\n",
       "      <td>690</td>\n",
       "    </tr>\n",
       "  </tbody>\n",
       "</table>\n",
       "</div>"
      ],
      "text/plain": [
       "      Team  Rank  Year  Points\n",
       "0       MI     1  2014     876\n",
       "1       MI     2  2015     789\n",
       "2   Devils     2  2014     863\n",
       "3   Devils     3  2015     673\n",
       "4    Kings     3  2014     741\n",
       "5      CSK     4  2015     812\n",
       "6      CSK     1  2016     756\n",
       "7      CSK     1  2017     788\n",
       "8       MI     2  2016     694\n",
       "9   Royals     4  2014     701\n",
       "10  Royals     1  2015     804\n",
       "11      MI     2  2017     690"
      ]
     },
     "execution_count": 2,
     "metadata": {},
     "output_type": "execute_result"
    }
   ],
   "source": [
    "ipl_data = {'Team': ['MI', 'MI', 'Devils', 'Devils', 'Kings',\n",
    "   'CSK', 'CSK', 'CSK', 'MI', 'Royals', 'Royals', 'MI'],\n",
    "   'Rank': [1, 2, 2, 3, 3,4 ,1 ,1,2 , 4,1,2],\n",
    "   'Year': [2014,2015,2014,2015,2014,2015,2016,2017,2016,2014,2015,2017],\n",
    "   'Points':[876,789,863,673,741,812,756,788,694,701,804,690]}\n",
    "df = pd.DataFrame(ipl_data)\n",
    "df"
   ]
  },
  {
   "cell_type": "code",
   "execution_count": 3,
   "id": "3fd0e30c",
   "metadata": {},
   "outputs": [
    {
     "data": {
      "text/plain": [
       "<pandas.core.groupby.generic.DataFrameGroupBy object at 0x000002680E32C520>"
      ]
     },
     "execution_count": 3,
     "metadata": {},
     "output_type": "execute_result"
    }
   ],
   "source": [
    "df.groupby(['Team','Year'])"
   ]
  },
  {
   "cell_type": "code",
   "execution_count": 4,
   "id": "618d27f6",
   "metadata": {},
   "outputs": [
    {
     "data": {
      "text/plain": [
       "[(('CSK', 2015),\n",
       "    Team  Rank  Year  Points\n",
       "  5  CSK     4  2015     812),\n",
       " (('CSK', 2016),\n",
       "    Team  Rank  Year  Points\n",
       "  6  CSK     1  2016     756),\n",
       " (('CSK', 2017),\n",
       "    Team  Rank  Year  Points\n",
       "  7  CSK     1  2017     788),\n",
       " (('Devils', 2014),\n",
       "       Team  Rank  Year  Points\n",
       "  2  Devils     2  2014     863),\n",
       " (('Devils', 2015),\n",
       "       Team  Rank  Year  Points\n",
       "  3  Devils     3  2015     673),\n",
       " (('Kings', 2014),\n",
       "      Team  Rank  Year  Points\n",
       "  4  Kings     3  2014     741),\n",
       " (('MI', 2014),\n",
       "    Team  Rank  Year  Points\n",
       "  0   MI     1  2014     876),\n",
       " (('MI', 2015),\n",
       "    Team  Rank  Year  Points\n",
       "  1   MI     2  2015     789),\n",
       " (('MI', 2016),\n",
       "    Team  Rank  Year  Points\n",
       "  8   MI     2  2016     694),\n",
       " (('MI', 2017),\n",
       "     Team  Rank  Year  Points\n",
       "  11   MI     2  2017     690),\n",
       " (('Royals', 2014),\n",
       "       Team  Rank  Year  Points\n",
       "  9  Royals     4  2014     701),\n",
       " (('Royals', 2015),\n",
       "        Team  Rank  Year  Points\n",
       "  10  Royals     1  2015     804)]"
      ]
     },
     "execution_count": 4,
     "metadata": {},
     "output_type": "execute_result"
    }
   ],
   "source": [
    "list(df.groupby(['Team','Year']))"
   ]
  },
  {
   "cell_type": "code",
   "execution_count": 5,
   "id": "554b7535",
   "metadata": {},
   "outputs": [
    {
     "data": {
      "text/plain": [
       "[(2014,\n",
       "       Team  Rank  Year  Points\n",
       "  0      MI     1  2014     876\n",
       "  2  Devils     2  2014     863\n",
       "  4   Kings     3  2014     741\n",
       "  9  Royals     4  2014     701),\n",
       " (2015,\n",
       "        Team  Rank  Year  Points\n",
       "  1       MI     2  2015     789\n",
       "  3   Devils     3  2015     673\n",
       "  5      CSK     4  2015     812\n",
       "  10  Royals     1  2015     804),\n",
       " (2016,\n",
       "    Team  Rank  Year  Points\n",
       "  6  CSK     1  2016     756\n",
       "  8   MI     2  2016     694),\n",
       " (2017,\n",
       "     Team  Rank  Year  Points\n",
       "  7   CSK     1  2017     788\n",
       "  11   MI     2  2017     690)]"
      ]
     },
     "execution_count": 5,
     "metadata": {},
     "output_type": "execute_result"
    }
   ],
   "source": [
    "# take sum of all points yearwise\n",
    "list(df.groupby('Year'))"
   ]
  },
  {
   "cell_type": "code",
   "execution_count": 6,
   "id": "ec453e3c",
   "metadata": {},
   "outputs": [
    {
     "data": {
      "text/plain": [
       "[(2014,\n",
       "  0    876\n",
       "  2    863\n",
       "  4    741\n",
       "  9    701\n",
       "  Name: Points, dtype: int64),\n",
       " (2015,\n",
       "  1     789\n",
       "  3     673\n",
       "  5     812\n",
       "  10    804\n",
       "  Name: Points, dtype: int64),\n",
       " (2016,\n",
       "  6    756\n",
       "  8    694\n",
       "  Name: Points, dtype: int64),\n",
       " (2017,\n",
       "  7     788\n",
       "  11    690\n",
       "  Name: Points, dtype: int64)]"
      ]
     },
     "execution_count": 6,
     "metadata": {},
     "output_type": "execute_result"
    }
   ],
   "source": [
    "out1 = df.groupby('Year')\n",
    "list(out1['Points'])"
   ]
  },
  {
   "cell_type": "code",
   "execution_count": 7,
   "id": "80466b7b",
   "metadata": {},
   "outputs": [
    {
     "data": {
      "text/plain": [
       "Year\n",
       "2014    3181\n",
       "2015    3078\n",
       "2016    1450\n",
       "2017    1478\n",
       "Name: Points, dtype: int64"
      ]
     },
     "execution_count": 7,
     "metadata": {},
     "output_type": "execute_result"
    }
   ],
   "source": [
    "out1['Points'].sum()"
   ]
  },
  {
   "cell_type": "code",
   "execution_count": 8,
   "id": "6361afd2",
   "metadata": {},
   "outputs": [
    {
     "data": {
      "text/plain": [
       "Team\n",
       "CSK       2356\n",
       "Devils    1536\n",
       "Kings      741\n",
       "MI        3049\n",
       "Royals    1505\n",
       "Name: Points, dtype: int64"
      ]
     },
     "execution_count": 8,
     "metadata": {},
     "output_type": "execute_result"
    }
   ],
   "source": [
    "# teamwise summation of Points\n",
    "df.groupby('Team')['Points'].sum()"
   ]
  },
  {
   "cell_type": "code",
   "execution_count": 9,
   "id": "ee8acb27",
   "metadata": {},
   "outputs": [
    {
     "data": {
      "text/plain": [
       "Team\n",
       "CSK       2356\n",
       "Devils    1536\n",
       "Kings      741\n",
       "MI        3049\n",
       "Royals    1505\n",
       "Name: Points, dtype: int64"
      ]
     },
     "execution_count": 9,
     "metadata": {},
     "output_type": "execute_result"
    }
   ],
   "source": [
    "ans = df.groupby('Team').sum()\n",
    "ans.Points"
   ]
  },
  {
   "cell_type": "code",
   "execution_count": 10,
   "id": "8d05d962",
   "metadata": {},
   "outputs": [
    {
     "data": {
      "text/plain": [
       "[(1,\n",
       "        Team  Rank  Year  Points\n",
       "  0       MI     1  2014     876\n",
       "  6      CSK     1  2016     756\n",
       "  7      CSK     1  2017     788\n",
       "  10  Royals     1  2015     804),\n",
       " (2,\n",
       "        Team  Rank  Year  Points\n",
       "  1       MI     2  2015     789\n",
       "  2   Devils     2  2014     863\n",
       "  8       MI     2  2016     694\n",
       "  11      MI     2  2017     690),\n",
       " (3,\n",
       "       Team  Rank  Year  Points\n",
       "  3  Devils     3  2015     673\n",
       "  4   Kings     3  2014     741),\n",
       " (4,\n",
       "       Team  Rank  Year  Points\n",
       "  5     CSK     4  2015     812\n",
       "  9  Royals     4  2014     701)]"
      ]
     },
     "execution_count": 10,
     "metadata": {},
     "output_type": "execute_result"
    }
   ],
   "source": [
    "# fetch only teams with rank 1\n",
    "list(df.groupby('Rank'))"
   ]
  },
  {
   "cell_type": "code",
   "execution_count": 11,
   "id": "e559d76c",
   "metadata": {},
   "outputs": [
    {
     "data": {
      "text/plain": [
       "0         MI\n",
       "6        CSK\n",
       "7        CSK\n",
       "10    Royals\n",
       "Name: Team, dtype: object"
      ]
     },
     "execution_count": 11,
     "metadata": {},
     "output_type": "execute_result"
    }
   ],
   "source": [
    "ans_2 = df.groupby('Rank').get_group(1)\n",
    "ans_2.Team"
   ]
  },
  {
   "cell_type": "code",
   "execution_count": 12,
   "id": "fbc11a98",
   "metadata": {},
   "outputs": [
    {
     "data": {
      "text/html": [
       "<div>\n",
       "<style scoped>\n",
       "    .dataframe tbody tr th:only-of-type {\n",
       "        vertical-align: middle;\n",
       "    }\n",
       "\n",
       "    .dataframe tbody tr th {\n",
       "        vertical-align: top;\n",
       "    }\n",
       "\n",
       "    .dataframe thead th {\n",
       "        text-align: right;\n",
       "    }\n",
       "</style>\n",
       "<table border=\"1\" class=\"dataframe\">\n",
       "  <thead>\n",
       "    <tr style=\"text-align: right;\">\n",
       "      <th></th>\n",
       "      <th>Team</th>\n",
       "      <th>Year</th>\n",
       "    </tr>\n",
       "  </thead>\n",
       "  <tbody>\n",
       "    <tr>\n",
       "      <th>0</th>\n",
       "      <td>MI</td>\n",
       "      <td>2014</td>\n",
       "    </tr>\n",
       "    <tr>\n",
       "      <th>6</th>\n",
       "      <td>CSK</td>\n",
       "      <td>2016</td>\n",
       "    </tr>\n",
       "    <tr>\n",
       "      <th>7</th>\n",
       "      <td>CSK</td>\n",
       "      <td>2017</td>\n",
       "    </tr>\n",
       "    <tr>\n",
       "      <th>10</th>\n",
       "      <td>Royals</td>\n",
       "      <td>2015</td>\n",
       "    </tr>\n",
       "  </tbody>\n",
       "</table>\n",
       "</div>"
      ],
      "text/plain": [
       "      Team  Year\n",
       "0       MI  2014\n",
       "6      CSK  2016\n",
       "7      CSK  2017\n",
       "10  Royals  2015"
      ]
     },
     "execution_count": 12,
     "metadata": {},
     "output_type": "execute_result"
    }
   ],
   "source": [
    "ans_2[['Team','Year']]"
   ]
  },
  {
   "cell_type": "code",
   "execution_count": 13,
   "id": "30b9fb49",
   "metadata": {},
   "outputs": [
    {
     "data": {
      "text/plain": [
       "[(1,\n",
       "        Team  Rank  Year  Points\n",
       "  0       MI     1  2014     876\n",
       "  6      CSK     1  2016     756\n",
       "  7      CSK     1  2017     788\n",
       "  10  Royals     1  2015     804),\n",
       " (2,\n",
       "        Team  Rank  Year  Points\n",
       "  1       MI     2  2015     789\n",
       "  2   Devils     2  2014     863\n",
       "  8       MI     2  2016     694\n",
       "  11      MI     2  2017     690),\n",
       " (3,\n",
       "       Team  Rank  Year  Points\n",
       "  3  Devils     3  2015     673\n",
       "  4   Kings     3  2014     741),\n",
       " (4,\n",
       "       Team  Rank  Year  Points\n",
       "  5     CSK     4  2015     812\n",
       "  9  Royals     4  2014     701)]"
      ]
     },
     "execution_count": 13,
     "metadata": {},
     "output_type": "execute_result"
    }
   ],
   "source": [
    "# fetch 1st entry of each category(rank) according to Team with Rank groupby\n",
    "list(df.groupby('Rank'))"
   ]
  },
  {
   "cell_type": "code",
   "execution_count": 14,
   "id": "cea0063d",
   "metadata": {},
   "outputs": [
    {
     "data": {
      "text/html": [
       "<div>\n",
       "<style scoped>\n",
       "    .dataframe tbody tr th:only-of-type {\n",
       "        vertical-align: middle;\n",
       "    }\n",
       "\n",
       "    .dataframe tbody tr th {\n",
       "        vertical-align: top;\n",
       "    }\n",
       "\n",
       "    .dataframe thead th {\n",
       "        text-align: right;\n",
       "    }\n",
       "</style>\n",
       "<table border=\"1\" class=\"dataframe\">\n",
       "  <thead>\n",
       "    <tr style=\"text-align: right;\">\n",
       "      <th></th>\n",
       "      <th>Team</th>\n",
       "      <th>Year</th>\n",
       "      <th>Points</th>\n",
       "    </tr>\n",
       "    <tr>\n",
       "      <th>Rank</th>\n",
       "      <th></th>\n",
       "      <th></th>\n",
       "      <th></th>\n",
       "    </tr>\n",
       "  </thead>\n",
       "  <tbody>\n",
       "    <tr>\n",
       "      <th>1</th>\n",
       "      <td>MI</td>\n",
       "      <td>2014</td>\n",
       "      <td>876</td>\n",
       "    </tr>\n",
       "    <tr>\n",
       "      <th>2</th>\n",
       "      <td>MI</td>\n",
       "      <td>2015</td>\n",
       "      <td>789</td>\n",
       "    </tr>\n",
       "    <tr>\n",
       "      <th>3</th>\n",
       "      <td>Devils</td>\n",
       "      <td>2015</td>\n",
       "      <td>673</td>\n",
       "    </tr>\n",
       "    <tr>\n",
       "      <th>4</th>\n",
       "      <td>CSK</td>\n",
       "      <td>2015</td>\n",
       "      <td>812</td>\n",
       "    </tr>\n",
       "  </tbody>\n",
       "</table>\n",
       "</div>"
      ],
      "text/plain": [
       "        Team  Year  Points\n",
       "Rank                      \n",
       "1         MI  2014     876\n",
       "2         MI  2015     789\n",
       "3     Devils  2015     673\n",
       "4        CSK  2015     812"
      ]
     },
     "execution_count": 14,
     "metadata": {},
     "output_type": "execute_result"
    }
   ],
   "source": [
    "df.groupby('Rank').first()"
   ]
  },
  {
   "cell_type": "code",
   "execution_count": 15,
   "id": "a1388e06",
   "metadata": {},
   "outputs": [
    {
     "data": {
      "text/plain": [
       "[('CSK',\n",
       "    Team  Rank  Year  Points\n",
       "  5  CSK     4  2015     812\n",
       "  6  CSK     1  2016     756\n",
       "  7  CSK     1  2017     788),\n",
       " ('Devils',\n",
       "       Team  Rank  Year  Points\n",
       "  2  Devils     2  2014     863\n",
       "  3  Devils     3  2015     673),\n",
       " ('Kings',\n",
       "      Team  Rank  Year  Points\n",
       "  4  Kings     3  2014     741),\n",
       " ('MI',\n",
       "     Team  Rank  Year  Points\n",
       "  0    MI     1  2014     876\n",
       "  1    MI     2  2015     789\n",
       "  8    MI     2  2016     694\n",
       "  11   MI     2  2017     690),\n",
       " ('Royals',\n",
       "        Team  Rank  Year  Points\n",
       "  9   Royals     4  2014     701\n",
       "  10  Royals     1  2015     804)]"
      ]
     },
     "execution_count": 15,
     "metadata": {},
     "output_type": "execute_result"
    }
   ],
   "source": [
    "list(df.groupby('Team'))"
   ]
  },
  {
   "cell_type": "code",
   "execution_count": 16,
   "id": "0000ce95",
   "metadata": {},
   "outputs": [
    {
     "data": {
      "text/html": [
       "<div>\n",
       "<style scoped>\n",
       "    .dataframe tbody tr th:only-of-type {\n",
       "        vertical-align: middle;\n",
       "    }\n",
       "\n",
       "    .dataframe tbody tr th {\n",
       "        vertical-align: top;\n",
       "    }\n",
       "\n",
       "    .dataframe thead th {\n",
       "        text-align: right;\n",
       "    }\n",
       "</style>\n",
       "<table border=\"1\" class=\"dataframe\">\n",
       "  <thead>\n",
       "    <tr style=\"text-align: right;\">\n",
       "      <th></th>\n",
       "      <th>Rank</th>\n",
       "      <th>Year</th>\n",
       "      <th>Points</th>\n",
       "    </tr>\n",
       "    <tr>\n",
       "      <th>Team</th>\n",
       "      <th></th>\n",
       "      <th></th>\n",
       "      <th></th>\n",
       "    </tr>\n",
       "  </thead>\n",
       "  <tbody>\n",
       "    <tr>\n",
       "      <th>CSK</th>\n",
       "      <td>4</td>\n",
       "      <td>2015</td>\n",
       "      <td>812</td>\n",
       "    </tr>\n",
       "    <tr>\n",
       "      <th>Devils</th>\n",
       "      <td>2</td>\n",
       "      <td>2014</td>\n",
       "      <td>863</td>\n",
       "    </tr>\n",
       "    <tr>\n",
       "      <th>Kings</th>\n",
       "      <td>3</td>\n",
       "      <td>2014</td>\n",
       "      <td>741</td>\n",
       "    </tr>\n",
       "    <tr>\n",
       "      <th>MI</th>\n",
       "      <td>1</td>\n",
       "      <td>2014</td>\n",
       "      <td>876</td>\n",
       "    </tr>\n",
       "    <tr>\n",
       "      <th>Royals</th>\n",
       "      <td>4</td>\n",
       "      <td>2014</td>\n",
       "      <td>701</td>\n",
       "    </tr>\n",
       "  </tbody>\n",
       "</table>\n",
       "</div>"
      ],
      "text/plain": [
       "        Rank  Year  Points\n",
       "Team                      \n",
       "CSK        4  2015     812\n",
       "Devils     2  2014     863\n",
       "Kings      3  2014     741\n",
       "MI         1  2014     876\n",
       "Royals     4  2014     701"
      ]
     },
     "execution_count": 16,
     "metadata": {},
     "output_type": "execute_result"
    }
   ],
   "source": [
    "df.groupby('Team').first()"
   ]
  },
  {
   "cell_type": "code",
   "execution_count": 17,
   "id": "08c50b02",
   "metadata": {},
   "outputs": [
    {
     "data": {
      "text/html": [
       "<div>\n",
       "<style scoped>\n",
       "    .dataframe tbody tr th:only-of-type {\n",
       "        vertical-align: middle;\n",
       "    }\n",
       "\n",
       "    .dataframe tbody tr th {\n",
       "        vertical-align: top;\n",
       "    }\n",
       "\n",
       "    .dataframe thead th {\n",
       "        text-align: right;\n",
       "    }\n",
       "</style>\n",
       "<table border=\"1\" class=\"dataframe\">\n",
       "  <thead>\n",
       "    <tr style=\"text-align: right;\">\n",
       "      <th></th>\n",
       "      <th>Rank</th>\n",
       "      <th>Year</th>\n",
       "      <th>Points</th>\n",
       "    </tr>\n",
       "    <tr>\n",
       "      <th>Team</th>\n",
       "      <th></th>\n",
       "      <th></th>\n",
       "      <th></th>\n",
       "    </tr>\n",
       "  </thead>\n",
       "  <tbody>\n",
       "    <tr>\n",
       "      <th>CSK</th>\n",
       "      <td>1</td>\n",
       "      <td>2017</td>\n",
       "      <td>788</td>\n",
       "    </tr>\n",
       "    <tr>\n",
       "      <th>Devils</th>\n",
       "      <td>3</td>\n",
       "      <td>2015</td>\n",
       "      <td>673</td>\n",
       "    </tr>\n",
       "    <tr>\n",
       "      <th>Kings</th>\n",
       "      <td>3</td>\n",
       "      <td>2014</td>\n",
       "      <td>741</td>\n",
       "    </tr>\n",
       "    <tr>\n",
       "      <th>MI</th>\n",
       "      <td>2</td>\n",
       "      <td>2017</td>\n",
       "      <td>690</td>\n",
       "    </tr>\n",
       "    <tr>\n",
       "      <th>Royals</th>\n",
       "      <td>1</td>\n",
       "      <td>2015</td>\n",
       "      <td>804</td>\n",
       "    </tr>\n",
       "  </tbody>\n",
       "</table>\n",
       "</div>"
      ],
      "text/plain": [
       "        Rank  Year  Points\n",
       "Team                      \n",
       "CSK        1  2017     788\n",
       "Devils     3  2015     673\n",
       "Kings      3  2014     741\n",
       "MI         2  2017     690\n",
       "Royals     1  2015     804"
      ]
     },
     "execution_count": 17,
     "metadata": {},
     "output_type": "execute_result"
    }
   ],
   "source": [
    "# teamwise last record\n",
    "df.groupby('Team').last()"
   ]
  },
  {
   "cell_type": "code",
   "execution_count": 18,
   "id": "6f94572d",
   "metadata": {},
   "outputs": [
    {
     "name": "stdout",
     "output_type": "stream",
     "text": [
      "  Team  Rank  Year  Points\n",
      "5  CSK     4  2015     812\n",
      "6  CSK     1  2016     756\n",
      "7  CSK     1  2017     788\n",
      "\n",
      "     Team  Rank  Year  Points\n",
      "2  Devils     2  2014     863\n",
      "3  Devils     3  2015     673\n",
      "\n",
      "    Team  Rank  Year  Points\n",
      "4  Kings     3  2014     741\n",
      "\n",
      "   Team  Rank  Year  Points\n",
      "0    MI     1  2014     876\n",
      "1    MI     2  2015     789\n",
      "8    MI     2  2016     694\n",
      "11   MI     2  2017     690\n",
      "\n",
      "      Team  Rank  Year  Points\n",
      "9   Royals     4  2014     701\n",
      "10  Royals     1  2015     804\n",
      "\n"
     ]
    }
   ],
   "source": [
    "res = list(df.groupby('Team'))\n",
    "for i, j in res:\n",
    "    print(j)\n",
    "    print()"
   ]
  },
  {
   "cell_type": "code",
   "execution_count": 19,
   "id": "a6319781",
   "metadata": {},
   "outputs": [
    {
     "name": "stdout",
     "output_type": "stream",
     "text": [
      "  Team  Rank  Year  Points\n",
      "5  CSK     4  2015     812\n",
      "6  CSK     1  2016     756\n",
      "\n",
      "     Team  Rank  Year  Points\n",
      "2  Devils     2  2014     863\n",
      "3  Devils     3  2015     673\n",
      "\n",
      "    Team  Rank  Year  Points\n",
      "4  Kings     3  2014     741\n",
      "\n",
      "  Team  Rank  Year  Points\n",
      "0   MI     1  2014     876\n",
      "1   MI     2  2015     789\n",
      "\n",
      "      Team  Rank  Year  Points\n",
      "9   Royals     4  2014     701\n",
      "10  Royals     1  2015     804\n",
      "\n"
     ]
    }
   ],
   "source": [
    "res = list(df.groupby('Team'))\n",
    "for i, j in res:\n",
    "    print(j.head(2))\n",
    "    print()"
   ]
  },
  {
   "cell_type": "code",
   "execution_count": 20,
   "id": "dc84ea75",
   "metadata": {},
   "outputs": [
    {
     "data": {
      "text/plain": [
       "[(('CSK', 1),\n",
       "    Team  Rank  Year  Points\n",
       "  6  CSK     1  2016     756\n",
       "  7  CSK     1  2017     788),\n",
       " (('CSK', 4),\n",
       "    Team  Rank  Year  Points\n",
       "  5  CSK     4  2015     812),\n",
       " (('Devils', 2),\n",
       "       Team  Rank  Year  Points\n",
       "  2  Devils     2  2014     863),\n",
       " (('Devils', 3),\n",
       "       Team  Rank  Year  Points\n",
       "  3  Devils     3  2015     673),\n",
       " (('Kings', 3),\n",
       "      Team  Rank  Year  Points\n",
       "  4  Kings     3  2014     741),\n",
       " (('MI', 1),\n",
       "    Team  Rank  Year  Points\n",
       "  0   MI     1  2014     876),\n",
       " (('MI', 2),\n",
       "     Team  Rank  Year  Points\n",
       "  1    MI     2  2015     789\n",
       "  8    MI     2  2016     694\n",
       "  11   MI     2  2017     690),\n",
       " (('Royals', 1),\n",
       "        Team  Rank  Year  Points\n",
       "  10  Royals     1  2015     804),\n",
       " (('Royals', 4),\n",
       "       Team  Rank  Year  Points\n",
       "  9  Royals     4  2014     701)]"
      ]
     },
     "execution_count": 20,
     "metadata": {},
     "output_type": "execute_result"
    }
   ],
   "source": [
    "# Multiple column groupby\n",
    "list(df.groupby(['Team','Rank']))"
   ]
  },
  {
   "cell_type": "code",
   "execution_count": 21,
   "id": "63a3d602",
   "metadata": {},
   "outputs": [
    {
     "data": {
      "text/html": [
       "<div>\n",
       "<style scoped>\n",
       "    .dataframe tbody tr th:only-of-type {\n",
       "        vertical-align: middle;\n",
       "    }\n",
       "\n",
       "    .dataframe tbody tr th {\n",
       "        vertical-align: top;\n",
       "    }\n",
       "\n",
       "    .dataframe thead th {\n",
       "        text-align: right;\n",
       "    }\n",
       "</style>\n",
       "<table border=\"1\" class=\"dataframe\">\n",
       "  <thead>\n",
       "    <tr style=\"text-align: right;\">\n",
       "      <th></th>\n",
       "      <th>Team</th>\n",
       "      <th>Rank</th>\n",
       "      <th>Year</th>\n",
       "      <th>Points</th>\n",
       "    </tr>\n",
       "  </thead>\n",
       "  <tbody>\n",
       "    <tr>\n",
       "      <th>1</th>\n",
       "      <td>MI</td>\n",
       "      <td>2</td>\n",
       "      <td>2015</td>\n",
       "      <td>789</td>\n",
       "    </tr>\n",
       "    <tr>\n",
       "      <th>8</th>\n",
       "      <td>MI</td>\n",
       "      <td>2</td>\n",
       "      <td>2016</td>\n",
       "      <td>694</td>\n",
       "    </tr>\n",
       "    <tr>\n",
       "      <th>11</th>\n",
       "      <td>MI</td>\n",
       "      <td>2</td>\n",
       "      <td>2017</td>\n",
       "      <td>690</td>\n",
       "    </tr>\n",
       "  </tbody>\n",
       "</table>\n",
       "</div>"
      ],
      "text/plain": [
       "   Team  Rank  Year  Points\n",
       "1    MI     2  2015     789\n",
       "8    MI     2  2016     694\n",
       "11   MI     2  2017     690"
      ]
     },
     "execution_count": 21,
     "metadata": {},
     "output_type": "execute_result"
    }
   ],
   "source": [
    "df.groupby(['Team','Rank']).get_group(('MI', 2))"
   ]
  },
  {
   "cell_type": "code",
   "execution_count": 22,
   "id": "7d4ee06f",
   "metadata": {},
   "outputs": [
    {
     "data": {
      "text/html": [
       "<div>\n",
       "<style scoped>\n",
       "    .dataframe tbody tr th:only-of-type {\n",
       "        vertical-align: middle;\n",
       "    }\n",
       "\n",
       "    .dataframe tbody tr th {\n",
       "        vertical-align: top;\n",
       "    }\n",
       "\n",
       "    .dataframe thead th {\n",
       "        text-align: right;\n",
       "    }\n",
       "</style>\n",
       "<table border=\"1\" class=\"dataframe\">\n",
       "  <thead>\n",
       "    <tr style=\"text-align: right;\">\n",
       "      <th></th>\n",
       "      <th>Team</th>\n",
       "      <th>Rank</th>\n",
       "      <th>Year</th>\n",
       "      <th>Points</th>\n",
       "    </tr>\n",
       "  </thead>\n",
       "  <tbody>\n",
       "    <tr>\n",
       "      <th>0</th>\n",
       "      <td>MI</td>\n",
       "      <td>1</td>\n",
       "      <td>2014</td>\n",
       "      <td>876</td>\n",
       "    </tr>\n",
       "    <tr>\n",
       "      <th>6</th>\n",
       "      <td>CSK</td>\n",
       "      <td>1</td>\n",
       "      <td>2016</td>\n",
       "      <td>756</td>\n",
       "    </tr>\n",
       "    <tr>\n",
       "      <th>7</th>\n",
       "      <td>CSK</td>\n",
       "      <td>1</td>\n",
       "      <td>2017</td>\n",
       "      <td>788</td>\n",
       "    </tr>\n",
       "    <tr>\n",
       "      <th>10</th>\n",
       "      <td>Royals</td>\n",
       "      <td>1</td>\n",
       "      <td>2015</td>\n",
       "      <td>804</td>\n",
       "    </tr>\n",
       "  </tbody>\n",
       "</table>\n",
       "</div>"
      ],
      "text/plain": [
       "      Team  Rank  Year  Points\n",
       "0       MI     1  2014     876\n",
       "6      CSK     1  2016     756\n",
       "7      CSK     1  2017     788\n",
       "10  Royals     1  2015     804"
      ]
     },
     "execution_count": 22,
     "metadata": {},
     "output_type": "execute_result"
    }
   ],
   "source": [
    "# i want the team who stood 1st max times in ipl\n",
    "fst = df.groupby('Rank').get_group(1)\n",
    "fst"
   ]
  },
  {
   "cell_type": "code",
   "execution_count": 23,
   "id": "b65be9fa",
   "metadata": {},
   "outputs": [
    {
     "data": {
      "text/plain": [
       "CSK       2\n",
       "MI        1\n",
       "Royals    1\n",
       "Name: Team, dtype: int64"
      ]
     },
     "execution_count": 23,
     "metadata": {},
     "output_type": "execute_result"
    }
   ],
   "source": [
    "team = fst.Team.value_counts()\n",
    "team"
   ]
  },
  {
   "cell_type": "code",
   "execution_count": 24,
   "id": "c2397357",
   "metadata": {},
   "outputs": [
    {
     "data": {
      "text/plain": [
       "CSK    2\n",
       "Name: Team, dtype: int64"
      ]
     },
     "execution_count": 24,
     "metadata": {},
     "output_type": "execute_result"
    }
   ],
   "source": [
    "team.nlargest(1)"
   ]
  },
  {
   "cell_type": "code",
   "execution_count": 25,
   "id": "b67d5c92",
   "metadata": {},
   "outputs": [
    {
     "data": {
      "text/html": [
       "<div>\n",
       "<style scoped>\n",
       "    .dataframe tbody tr th:only-of-type {\n",
       "        vertical-align: middle;\n",
       "    }\n",
       "\n",
       "    .dataframe tbody tr th {\n",
       "        vertical-align: top;\n",
       "    }\n",
       "\n",
       "    .dataframe thead th {\n",
       "        text-align: right;\n",
       "    }\n",
       "</style>\n",
       "<table border=\"1\" class=\"dataframe\">\n",
       "  <thead>\n",
       "    <tr style=\"text-align: right;\">\n",
       "      <th></th>\n",
       "      <th>num</th>\n",
       "    </tr>\n",
       "  </thead>\n",
       "  <tbody>\n",
       "    <tr>\n",
       "      <th>0</th>\n",
       "      <td>980</td>\n",
       "    </tr>\n",
       "    <tr>\n",
       "      <th>1</th>\n",
       "      <td>100</td>\n",
       "    </tr>\n",
       "    <tr>\n",
       "      <th>2</th>\n",
       "      <td>300</td>\n",
       "    </tr>\n",
       "    <tr>\n",
       "      <th>3</th>\n",
       "      <td>280</td>\n",
       "    </tr>\n",
       "    <tr>\n",
       "      <th>4</th>\n",
       "      <td>30</td>\n",
       "    </tr>\n",
       "    <tr>\n",
       "      <th>5</th>\n",
       "      <td>160</td>\n",
       "    </tr>\n",
       "  </tbody>\n",
       "</table>\n",
       "</div>"
      ],
      "text/plain": [
       "   num\n",
       "0  980\n",
       "1  100\n",
       "2  300\n",
       "3  280\n",
       "4   30\n",
       "5  160"
      ]
     },
     "execution_count": 25,
     "metadata": {},
     "output_type": "execute_result"
    }
   ],
   "source": [
    "n = pd.DataFrame({'num':[980,100,300,280,30,160]})\n",
    "n"
   ]
  },
  {
   "cell_type": "code",
   "execution_count": 26,
   "id": "d0aea7d1",
   "metadata": {},
   "outputs": [
    {
     "data": {
      "text/plain": [
       "0    980\n",
       "2    300\n",
       "3    280\n",
       "Name: num, dtype: int64"
      ]
     },
     "execution_count": 26,
     "metadata": {},
     "output_type": "execute_result"
    }
   ],
   "source": [
    "n.num.nlargest(3)"
   ]
  },
  {
   "cell_type": "code",
   "execution_count": 27,
   "id": "c77cc71e",
   "metadata": {},
   "outputs": [
    {
     "data": {
      "text/plain": [
       "4     30\n",
       "1    100\n",
       "Name: num, dtype: int64"
      ]
     },
     "execution_count": 27,
     "metadata": {},
     "output_type": "execute_result"
    }
   ],
   "source": [
    "n.num.nsmallest(2)"
   ]
  },
  {
   "cell_type": "code",
   "execution_count": 28,
   "id": "33f41572",
   "metadata": {},
   "outputs": [
    {
     "data": {
      "text/plain": [
       "<pandas.core.groupby.generic.DataFrameGroupBy object at 0x000002680E3D0040>"
      ]
     },
     "execution_count": 28,
     "metadata": {},
     "output_type": "execute_result"
    }
   ],
   "source": [
    "# i want record of year 2017\n",
    "df.groupby('Year')"
   ]
  },
  {
   "cell_type": "code",
   "execution_count": 29,
   "id": "1e011fe1",
   "metadata": {},
   "outputs": [
    {
     "data": {
      "text/plain": [
       "[(2014,\n",
       "       Team  Rank  Year  Points\n",
       "  0      MI     1  2014     876\n",
       "  2  Devils     2  2014     863\n",
       "  4   Kings     3  2014     741\n",
       "  9  Royals     4  2014     701),\n",
       " (2015,\n",
       "        Team  Rank  Year  Points\n",
       "  1       MI     2  2015     789\n",
       "  3   Devils     3  2015     673\n",
       "  5      CSK     4  2015     812\n",
       "  10  Royals     1  2015     804),\n",
       " (2016,\n",
       "    Team  Rank  Year  Points\n",
       "  6  CSK     1  2016     756\n",
       "  8   MI     2  2016     694),\n",
       " (2017,\n",
       "     Team  Rank  Year  Points\n",
       "  7   CSK     1  2017     788\n",
       "  11   MI     2  2017     690)]"
      ]
     },
     "execution_count": 29,
     "metadata": {},
     "output_type": "execute_result"
    }
   ],
   "source": [
    "list(df.groupby('Year'))"
   ]
  },
  {
   "cell_type": "code",
   "execution_count": 30,
   "id": "17074b5b",
   "metadata": {},
   "outputs": [
    {
     "data": {
      "text/html": [
       "<div>\n",
       "<style scoped>\n",
       "    .dataframe tbody tr th:only-of-type {\n",
       "        vertical-align: middle;\n",
       "    }\n",
       "\n",
       "    .dataframe tbody tr th {\n",
       "        vertical-align: top;\n",
       "    }\n",
       "\n",
       "    .dataframe thead th {\n",
       "        text-align: right;\n",
       "    }\n",
       "</style>\n",
       "<table border=\"1\" class=\"dataframe\">\n",
       "  <thead>\n",
       "    <tr style=\"text-align: right;\">\n",
       "      <th></th>\n",
       "      <th>Team</th>\n",
       "      <th>Rank</th>\n",
       "      <th>Year</th>\n",
       "      <th>Points</th>\n",
       "    </tr>\n",
       "  </thead>\n",
       "  <tbody>\n",
       "    <tr>\n",
       "      <th>7</th>\n",
       "      <td>CSK</td>\n",
       "      <td>1</td>\n",
       "      <td>2017</td>\n",
       "      <td>788</td>\n",
       "    </tr>\n",
       "    <tr>\n",
       "      <th>11</th>\n",
       "      <td>MI</td>\n",
       "      <td>2</td>\n",
       "      <td>2017</td>\n",
       "      <td>690</td>\n",
       "    </tr>\n",
       "  </tbody>\n",
       "</table>\n",
       "</div>"
      ],
      "text/plain": [
       "   Team  Rank  Year  Points\n",
       "7   CSK     1  2017     788\n",
       "11   MI     2  2017     690"
      ]
     },
     "execution_count": 30,
     "metadata": {},
     "output_type": "execute_result"
    }
   ],
   "source": [
    "yr = df.groupby('Year').get_group(2017)\n",
    "yr"
   ]
  },
  {
   "cell_type": "markdown",
   "id": "b2c5c0c1",
   "metadata": {},
   "source": [
    "### Aggregations:\n",
    "    - sum mean median mode std\n",
    "    - Aggregations work only on Numeric fields"
   ]
  },
  {
   "cell_type": "code",
   "execution_count": 31,
   "id": "2fa0d271",
   "metadata": {},
   "outputs": [
    {
     "data": {
      "text/plain": [
       "<pandas.core.groupby.generic.DataFrameGroupBy object at 0x000002680E3E9EB0>"
      ]
     },
     "execution_count": 31,
     "metadata": {},
     "output_type": "execute_result"
    }
   ],
   "source": [
    "grouped = df.groupby('Year')\n",
    "grouped"
   ]
  },
  {
   "cell_type": "code",
   "execution_count": 32,
   "id": "d7a4c5a3",
   "metadata": {},
   "outputs": [
    {
     "data": {
      "text/plain": [
       "<pandas.core.groupby.generic.SeriesGroupBy object at 0x000002680E3F57F0>"
      ]
     },
     "execution_count": 32,
     "metadata": {},
     "output_type": "execute_result"
    }
   ],
   "source": [
    "grouped['Points']"
   ]
  },
  {
   "cell_type": "code",
   "execution_count": 33,
   "id": "c909f872",
   "metadata": {},
   "outputs": [
    {
     "data": {
      "text/plain": [
       "[(2014,\n",
       "  0    876\n",
       "  2    863\n",
       "  4    741\n",
       "  9    701\n",
       "  Name: Points, dtype: int64),\n",
       " (2015,\n",
       "  1     789\n",
       "  3     673\n",
       "  5     812\n",
       "  10    804\n",
       "  Name: Points, dtype: int64),\n",
       " (2016,\n",
       "  6    756\n",
       "  8    694\n",
       "  Name: Points, dtype: int64),\n",
       " (2017,\n",
       "  7     788\n",
       "  11    690\n",
       "  Name: Points, dtype: int64)]"
      ]
     },
     "execution_count": 33,
     "metadata": {},
     "output_type": "execute_result"
    }
   ],
   "source": [
    "list(df.groupby('Year')['Points'])"
   ]
  },
  {
   "cell_type": "code",
   "execution_count": 34,
   "id": "6eea93ef",
   "metadata": {},
   "outputs": [
    {
     "data": {
      "text/plain": [
       "Year\n",
       "2014    3181\n",
       "2015    3078\n",
       "2016    1450\n",
       "2017    1478\n",
       "Name: Points, dtype: int64"
      ]
     },
     "execution_count": 34,
     "metadata": {},
     "output_type": "execute_result"
    }
   ],
   "source": [
    "points = df.groupby('Year')['Points']\n",
    "points.agg(sum)"
   ]
  },
  {
   "cell_type": "code",
   "execution_count": 35,
   "id": "b83b4a0c",
   "metadata": {},
   "outputs": [
    {
     "data": {
      "text/plain": [
       "Year\n",
       "2014    3181\n",
       "2015    3078\n",
       "2016    1450\n",
       "2017    1478\n",
       "Name: Points, dtype: int64"
      ]
     },
     "execution_count": 35,
     "metadata": {},
     "output_type": "execute_result"
    }
   ],
   "source": [
    "points.agg(np.sum)"
   ]
  },
  {
   "cell_type": "code",
   "execution_count": 36,
   "id": "8922b4e2",
   "metadata": {},
   "outputs": [
    {
     "data": {
      "text/plain": [
       "[(2014,\n",
       "  0    876\n",
       "  2    863\n",
       "  4    741\n",
       "  9    701\n",
       "  Name: Points, dtype: int64),\n",
       " (2015,\n",
       "  1     789\n",
       "  3     673\n",
       "  5     812\n",
       "  10    804\n",
       "  Name: Points, dtype: int64),\n",
       " (2016,\n",
       "  6    756\n",
       "  8    694\n",
       "  Name: Points, dtype: int64),\n",
       " (2017,\n",
       "  7     788\n",
       "  11    690\n",
       "  Name: Points, dtype: int64)]"
      ]
     },
     "execution_count": 36,
     "metadata": {},
     "output_type": "execute_result"
    }
   ],
   "source": [
    "# Applying Multiple Aggregation Functions at Once\n",
    "list(points)"
   ]
  },
  {
   "cell_type": "code",
   "execution_count": 37,
   "id": "76bf6cf6",
   "metadata": {},
   "outputs": [
    {
     "data": {
      "text/plain": [
       "Year\n",
       "2014    3181\n",
       "2015    3078\n",
       "2016    1450\n",
       "2017    1478\n",
       "Name: Points, dtype: int64"
      ]
     },
     "execution_count": 37,
     "metadata": {},
     "output_type": "execute_result"
    }
   ],
   "source": [
    "points.sum()"
   ]
  },
  {
   "cell_type": "code",
   "execution_count": 38,
   "id": "3b8fe12e",
   "metadata": {},
   "outputs": [
    {
     "data": {
      "text/html": [
       "<div>\n",
       "<style scoped>\n",
       "    .dataframe tbody tr th:only-of-type {\n",
       "        vertical-align: middle;\n",
       "    }\n",
       "\n",
       "    .dataframe tbody tr th {\n",
       "        vertical-align: top;\n",
       "    }\n",
       "\n",
       "    .dataframe thead th {\n",
       "        text-align: right;\n",
       "    }\n",
       "</style>\n",
       "<table border=\"1\" class=\"dataframe\">\n",
       "  <thead>\n",
       "    <tr style=\"text-align: right;\">\n",
       "      <th></th>\n",
       "      <th>sum</th>\n",
       "      <th>min</th>\n",
       "      <th>max</th>\n",
       "    </tr>\n",
       "    <tr>\n",
       "      <th>Year</th>\n",
       "      <th></th>\n",
       "      <th></th>\n",
       "      <th></th>\n",
       "    </tr>\n",
       "  </thead>\n",
       "  <tbody>\n",
       "    <tr>\n",
       "      <th>2014</th>\n",
       "      <td>3181</td>\n",
       "      <td>701</td>\n",
       "      <td>876</td>\n",
       "    </tr>\n",
       "    <tr>\n",
       "      <th>2015</th>\n",
       "      <td>3078</td>\n",
       "      <td>673</td>\n",
       "      <td>812</td>\n",
       "    </tr>\n",
       "    <tr>\n",
       "      <th>2016</th>\n",
       "      <td>1450</td>\n",
       "      <td>694</td>\n",
       "      <td>756</td>\n",
       "    </tr>\n",
       "    <tr>\n",
       "      <th>2017</th>\n",
       "      <td>1478</td>\n",
       "      <td>690</td>\n",
       "      <td>788</td>\n",
       "    </tr>\n",
       "  </tbody>\n",
       "</table>\n",
       "</div>"
      ],
      "text/plain": [
       "       sum  min  max\n",
       "Year                \n",
       "2014  3181  701  876\n",
       "2015  3078  673  812\n",
       "2016  1450  694  756\n",
       "2017  1478  690  788"
      ]
     },
     "execution_count": 38,
     "metadata": {},
     "output_type": "execute_result"
    }
   ],
   "source": [
    "points.agg([sum,min,max])"
   ]
  },
  {
   "cell_type": "code",
   "execution_count": 39,
   "id": "1b38a362",
   "metadata": {},
   "outputs": [
    {
     "data": {
      "text/plain": [
       "<pandas.core.groupby.generic.DataFrameGroupBy object at 0x000002680E413C70>"
      ]
     },
     "execution_count": 39,
     "metadata": {},
     "output_type": "execute_result"
    }
   ],
   "source": [
    "# here size is nothing but occurance\n",
    "y = df.groupby('Year')\n",
    "y"
   ]
  },
  {
   "cell_type": "code",
   "execution_count": 40,
   "id": "92248429",
   "metadata": {},
   "outputs": [
    {
     "data": {
      "text/plain": [
       "[(2014,\n",
       "       Team  Rank  Year  Points\n",
       "  0      MI     1  2014     876\n",
       "  2  Devils     2  2014     863\n",
       "  4   Kings     3  2014     741\n",
       "  9  Royals     4  2014     701),\n",
       " (2015,\n",
       "        Team  Rank  Year  Points\n",
       "  1       MI     2  2015     789\n",
       "  3   Devils     3  2015     673\n",
       "  5      CSK     4  2015     812\n",
       "  10  Royals     1  2015     804),\n",
       " (2016,\n",
       "    Team  Rank  Year  Points\n",
       "  6  CSK     1  2016     756\n",
       "  8   MI     2  2016     694),\n",
       " (2017,\n",
       "     Team  Rank  Year  Points\n",
       "  7   CSK     1  2017     788\n",
       "  11   MI     2  2017     690)]"
      ]
     },
     "execution_count": 40,
     "metadata": {},
     "output_type": "execute_result"
    }
   ],
   "source": [
    "list(y)"
   ]
  },
  {
   "cell_type": "code",
   "execution_count": 41,
   "id": "b0a80cba",
   "metadata": {},
   "outputs": [
    {
     "data": {
      "text/plain": [
       "Year\n",
       "2014    4\n",
       "2015    4\n",
       "2016    2\n",
       "2017    2\n",
       "Name: Team, dtype: int64"
      ]
     },
     "execution_count": 41,
     "metadata": {},
     "output_type": "execute_result"
    }
   ],
   "source": [
    "y.Team.agg(np.size)"
   ]
  },
  {
   "cell_type": "markdown",
   "id": "ebf8223b",
   "metadata": {},
   "source": [
    "## Transformation"
   ]
  },
  {
   "cell_type": "code",
   "execution_count": 42,
   "id": "5a45f2b1",
   "metadata": {},
   "outputs": [
    {
     "data": {
      "text/plain": [
       "<pandas.core.groupby.generic.DataFrameGroupBy object at 0x000002680E41E3D0>"
      ]
     },
     "execution_count": 42,
     "metadata": {},
     "output_type": "execute_result"
    }
   ],
   "source": [
    "# Transformation calling a function over the selected data\n",
    "grouped = df.groupby('Team')\n",
    "# write a function to add +500 points to each team\n",
    "grouped"
   ]
  },
  {
   "cell_type": "code",
   "execution_count": 43,
   "id": "bc9c9934",
   "metadata": {},
   "outputs": [
    {
     "data": {
      "text/plain": [
       "[('CSK',\n",
       "    Team  Rank  Year  Points\n",
       "  5  CSK     4  2015     812\n",
       "  6  CSK     1  2016     756\n",
       "  7  CSK     1  2017     788),\n",
       " ('Devils',\n",
       "       Team  Rank  Year  Points\n",
       "  2  Devils     2  2014     863\n",
       "  3  Devils     3  2015     673),\n",
       " ('Kings',\n",
       "      Team  Rank  Year  Points\n",
       "  4  Kings     3  2014     741),\n",
       " ('MI',\n",
       "     Team  Rank  Year  Points\n",
       "  0    MI     1  2014     876\n",
       "  1    MI     2  2015     789\n",
       "  8    MI     2  2016     694\n",
       "  11   MI     2  2017     690),\n",
       " ('Royals',\n",
       "        Team  Rank  Year  Points\n",
       "  9   Royals     4  2014     701\n",
       "  10  Royals     1  2015     804)]"
      ]
     },
     "execution_count": 43,
     "metadata": {},
     "output_type": "execute_result"
    }
   ],
   "source": [
    "list(grouped)"
   ]
  },
  {
   "cell_type": "code",
   "execution_count": 44,
   "id": "adc28496",
   "metadata": {},
   "outputs": [
    {
     "data": {
      "text/plain": [
       "0     1376\n",
       "1     1289\n",
       "2     1363\n",
       "3     1173\n",
       "4     1241\n",
       "5     1312\n",
       "6     1256\n",
       "7     1288\n",
       "8     1194\n",
       "9     1201\n",
       "10    1304\n",
       "11    1190\n",
       "Name: Points, dtype: int64"
      ]
     },
     "execution_count": 44,
     "metadata": {},
     "output_type": "execute_result"
    }
   ],
   "source": [
    "grouped['Points'].transform(lambda x:x+500)"
   ]
  },
  {
   "cell_type": "code",
   "execution_count": 45,
   "id": "b77fc155",
   "metadata": {},
   "outputs": [
    {
     "data": {
      "text/plain": [
       "0     876\n",
       "1     789\n",
       "2     863\n",
       "3     673\n",
       "4     741\n",
       "5     812\n",
       "6     756\n",
       "7     788\n",
       "8     694\n",
       "9     701\n",
       "10    804\n",
       "11    690\n",
       "Name: Points, dtype: int64"
      ]
     },
     "execution_count": 45,
     "metadata": {},
     "output_type": "execute_result"
    }
   ],
   "source": [
    "df.Points"
   ]
  },
  {
   "cell_type": "code",
   "execution_count": 46,
   "id": "5cb28239",
   "metadata": {},
   "outputs": [
    {
     "data": {
      "text/plain": [
       "[('CSK',\n",
       "  5    812\n",
       "  6    756\n",
       "  7    788\n",
       "  Name: Points, dtype: int64),\n",
       " ('Devils',\n",
       "  2    863\n",
       "  3    673\n",
       "  Name: Points, dtype: int64),\n",
       " ('Kings',\n",
       "  4    741\n",
       "  Name: Points, dtype: int64),\n",
       " ('MI',\n",
       "  0     876\n",
       "  1     789\n",
       "  8     694\n",
       "  11    690\n",
       "  Name: Points, dtype: int64),\n",
       " ('Royals',\n",
       "  9     701\n",
       "  10    804\n",
       "  Name: Points, dtype: int64)]"
      ]
     },
     "execution_count": 46,
     "metadata": {},
     "output_type": "execute_result"
    }
   ],
   "source": [
    "list(df.groupby('Team')['Points'])"
   ]
  },
  {
   "cell_type": "code",
   "execution_count": 47,
   "id": "af0652e4",
   "metadata": {},
   "outputs": [
    {
     "data": {
      "text/plain": [
       "0     976\n",
       "1     889\n",
       "2     963\n",
       "3     773\n",
       "4     841\n",
       "5     912\n",
       "6     856\n",
       "7     888\n",
       "8     794\n",
       "9     801\n",
       "10    904\n",
       "11    790\n",
       "Name: Points, dtype: int64"
      ]
     },
     "execution_count": 47,
     "metadata": {},
     "output_type": "execute_result"
    }
   ],
   "source": [
    "df.groupby('Team')['Points'].transform(lambda x:x+100)"
   ]
  },
  {
   "cell_type": "code",
   "execution_count": 48,
   "id": "8aa3f913",
   "metadata": {},
   "outputs": [
    {
     "data": {
      "text/plain": [
       "[('CSK',\n",
       "  5    4\n",
       "  6    1\n",
       "  7    1\n",
       "  Name: Rank, dtype: int64),\n",
       " ('Devils',\n",
       "  2    2\n",
       "  3    3\n",
       "  Name: Rank, dtype: int64),\n",
       " ('Kings',\n",
       "  4    3\n",
       "  Name: Rank, dtype: int64),\n",
       " ('MI',\n",
       "  0     1\n",
       "  1     2\n",
       "  8     2\n",
       "  11    2\n",
       "  Name: Rank, dtype: int64),\n",
       " ('Royals',\n",
       "  9     4\n",
       "  10    1\n",
       "  Name: Rank, dtype: int64)]"
      ]
     },
     "execution_count": 48,
     "metadata": {},
     "output_type": "execute_result"
    }
   ],
   "source": [
    "list(df.groupby('Team')['Rank'])"
   ]
  },
  {
   "cell_type": "code",
   "execution_count": 49,
   "id": "eabeac76",
   "metadata": {},
   "outputs": [
    {
     "data": {
      "text/plain": [
       "[('CSK',\n",
       "  5    812\n",
       "  6    756\n",
       "  7    788\n",
       "  Name: Points, dtype: int64),\n",
       " ('Devils',\n",
       "  2    863\n",
       "  3    673\n",
       "  Name: Points, dtype: int64),\n",
       " ('Kings',\n",
       "  4    741\n",
       "  Name: Points, dtype: int64),\n",
       " ('MI',\n",
       "  0     876\n",
       "  1     789\n",
       "  8     694\n",
       "  11    690\n",
       "  Name: Points, dtype: int64),\n",
       " ('Royals',\n",
       "  9     701\n",
       "  10    804\n",
       "  Name: Points, dtype: int64)]"
      ]
     },
     "execution_count": 49,
     "metadata": {},
     "output_type": "execute_result"
    }
   ],
   "source": [
    "# I want to give the +10 extra points to csk use transform\n",
    "list(df.groupby('Team')['Points'])"
   ]
  },
  {
   "cell_type": "code",
   "execution_count": 50,
   "id": "454ec6b2",
   "metadata": {},
   "outputs": [
    {
     "data": {
      "text/plain": [
       "<pandas.core.groupby.generic.SeriesGroupBy object at 0x000002680E42AF10>"
      ]
     },
     "execution_count": 50,
     "metadata": {},
     "output_type": "execute_result"
    }
   ],
   "source": [
    "tm = df.groupby('Team')['Points']\n",
    "tm"
   ]
  },
  {
   "cell_type": "code",
   "execution_count": 51,
   "id": "36f21665",
   "metadata": {},
   "outputs": [
    {
     "data": {
      "text/plain": [
       "5    812\n",
       "6    756\n",
       "7    788\n",
       "Name: Points, dtype: int64"
      ]
     },
     "execution_count": 51,
     "metadata": {},
     "output_type": "execute_result"
    }
   ],
   "source": [
    "tm.get_group('CSK')"
   ]
  },
  {
   "cell_type": "code",
   "execution_count": 52,
   "id": "f7805ffb",
   "metadata": {},
   "outputs": [
    {
     "data": {
      "text/plain": [
       "5    822\n",
       "6    766\n",
       "7    798\n",
       "Name: Points, dtype: int64"
      ]
     },
     "execution_count": 52,
     "metadata": {},
     "output_type": "execute_result"
    }
   ],
   "source": [
    "tm.get_group('CSK').transform(lambda x:x+10)"
   ]
  },
  {
   "cell_type": "code",
   "execution_count": 53,
   "id": "30be9b4b",
   "metadata": {},
   "outputs": [
    {
     "data": {
      "text/plain": [
       "<pandas.core.groupby.generic.DataFrameGroupBy object at 0x000002680E413C70>"
      ]
     },
     "execution_count": 53,
     "metadata": {},
     "output_type": "execute_result"
    }
   ],
   "source": [
    "# I want to give extra +10 point only to the teams from year 2015\n",
    "y"
   ]
  },
  {
   "cell_type": "code",
   "execution_count": 54,
   "id": "401d1a6b",
   "metadata": {},
   "outputs": [
    {
     "data": {
      "text/plain": [
       "[(2014,\n",
       "       Team  Rank  Year  Points\n",
       "  0      MI     1  2014     876\n",
       "  2  Devils     2  2014     863\n",
       "  4   Kings     3  2014     741\n",
       "  9  Royals     4  2014     701),\n",
       " (2015,\n",
       "        Team  Rank  Year  Points\n",
       "  1       MI     2  2015     789\n",
       "  3   Devils     3  2015     673\n",
       "  5      CSK     4  2015     812\n",
       "  10  Royals     1  2015     804),\n",
       " (2016,\n",
       "    Team  Rank  Year  Points\n",
       "  6  CSK     1  2016     756\n",
       "  8   MI     2  2016     694),\n",
       " (2017,\n",
       "     Team  Rank  Year  Points\n",
       "  7   CSK     1  2017     788\n",
       "  11   MI     2  2017     690)]"
      ]
     },
     "execution_count": 54,
     "metadata": {},
     "output_type": "execute_result"
    }
   ],
   "source": [
    "list(y)"
   ]
  },
  {
   "cell_type": "code",
   "execution_count": 55,
   "id": "33b48f33",
   "metadata": {},
   "outputs": [
    {
     "data": {
      "text/html": [
       "<div>\n",
       "<style scoped>\n",
       "    .dataframe tbody tr th:only-of-type {\n",
       "        vertical-align: middle;\n",
       "    }\n",
       "\n",
       "    .dataframe tbody tr th {\n",
       "        vertical-align: top;\n",
       "    }\n",
       "\n",
       "    .dataframe thead th {\n",
       "        text-align: right;\n",
       "    }\n",
       "</style>\n",
       "<table border=\"1\" class=\"dataframe\">\n",
       "  <thead>\n",
       "    <tr style=\"text-align: right;\">\n",
       "      <th></th>\n",
       "      <th>Team</th>\n",
       "      <th>Rank</th>\n",
       "      <th>Year</th>\n",
       "      <th>Points</th>\n",
       "    </tr>\n",
       "  </thead>\n",
       "  <tbody>\n",
       "    <tr>\n",
       "      <th>1</th>\n",
       "      <td>MI</td>\n",
       "      <td>2</td>\n",
       "      <td>2015</td>\n",
       "      <td>789</td>\n",
       "    </tr>\n",
       "    <tr>\n",
       "      <th>3</th>\n",
       "      <td>Devils</td>\n",
       "      <td>3</td>\n",
       "      <td>2015</td>\n",
       "      <td>673</td>\n",
       "    </tr>\n",
       "    <tr>\n",
       "      <th>5</th>\n",
       "      <td>CSK</td>\n",
       "      <td>4</td>\n",
       "      <td>2015</td>\n",
       "      <td>812</td>\n",
       "    </tr>\n",
       "    <tr>\n",
       "      <th>10</th>\n",
       "      <td>Royals</td>\n",
       "      <td>1</td>\n",
       "      <td>2015</td>\n",
       "      <td>804</td>\n",
       "    </tr>\n",
       "  </tbody>\n",
       "</table>\n",
       "</div>"
      ],
      "text/plain": [
       "      Team  Rank  Year  Points\n",
       "1       MI     2  2015     789\n",
       "3   Devils     3  2015     673\n",
       "5      CSK     4  2015     812\n",
       "10  Royals     1  2015     804"
      ]
     },
     "execution_count": 55,
     "metadata": {},
     "output_type": "execute_result"
    }
   ],
   "source": [
    "y.get_group(2015)"
   ]
  },
  {
   "cell_type": "code",
   "execution_count": 56,
   "id": "4c0d8670",
   "metadata": {},
   "outputs": [
    {
     "data": {
      "text/plain": [
       "1     789\n",
       "3     673\n",
       "5     812\n",
       "10    804\n",
       "Name: Points, dtype: int64"
      ]
     },
     "execution_count": 56,
     "metadata": {},
     "output_type": "execute_result"
    }
   ],
   "source": [
    "y.get_group(2015)['Points']"
   ]
  },
  {
   "cell_type": "code",
   "execution_count": 57,
   "id": "353922e9",
   "metadata": {},
   "outputs": [
    {
     "data": {
      "text/plain": [
       "1     799\n",
       "3     683\n",
       "5     822\n",
       "10    814\n",
       "Name: Points, dtype: int64"
      ]
     },
     "execution_count": 57,
     "metadata": {},
     "output_type": "execute_result"
    }
   ],
   "source": [
    "y.get_group(2015)['Points'].transform(lambda x:x+10)"
   ]
  },
  {
   "cell_type": "code",
   "execution_count": 58,
   "id": "0f284f0e",
   "metadata": {},
   "outputs": [
    {
     "data": {
      "text/plain": [
       "0    876\n",
       "2    863\n",
       "4    741\n",
       "9    701\n",
       "Name: Points, dtype: int64"
      ]
     },
     "execution_count": 58,
     "metadata": {},
     "output_type": "execute_result"
    }
   ],
   "source": [
    "# I want to give extra +200 point only to the teams from year 2014\n",
    "y.get_group(2014)['Points']"
   ]
  },
  {
   "cell_type": "code",
   "execution_count": 59,
   "id": "31aa803d",
   "metadata": {},
   "outputs": [
    {
     "data": {
      "text/plain": [
       "0    1076\n",
       "2    1063\n",
       "4     941\n",
       "9     901\n",
       "Name: Points, dtype: int64"
      ]
     },
     "execution_count": 59,
     "metadata": {},
     "output_type": "execute_result"
    }
   ],
   "source": [
    "y.get_group(2014)['Points'].transform(lambda x:x+200)"
   ]
  },
  {
   "cell_type": "code",
   "execution_count": null,
   "id": "c768d8fc",
   "metadata": {},
   "outputs": [],
   "source": []
  }
 ],
 "metadata": {
  "kernelspec": {
   "display_name": "Python 3 (ipykernel)",
   "language": "python",
   "name": "python3"
  },
  "language_info": {
   "codemirror_mode": {
    "name": "ipython",
    "version": 3
   },
   "file_extension": ".py",
   "mimetype": "text/x-python",
   "name": "python",
   "nbconvert_exporter": "python",
   "pygments_lexer": "ipython3",
   "version": "3.9.12"
  }
 },
 "nbformat": 4,
 "nbformat_minor": 5
}
