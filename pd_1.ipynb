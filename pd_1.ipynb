{
 "cells": [
  {
   "cell_type": "markdown",
   "id": "6bfff3d7",
   "metadata": {},
   "source": [
    "# Pandas:\n",
    "    - it is defiened as an open source library\n",
    "    - it provide high-performance data manipulation\n",
    "    - it is used to data analyze"
   ]
  },
  {
   "cell_type": "code",
   "execution_count": 1,
   "id": "8a12ac2c",
   "metadata": {},
   "outputs": [],
   "source": [
    "import pandas as pd"
   ]
  },
  {
   "cell_type": "markdown",
   "id": "99dedd87",
   "metadata": {},
   "source": [
    "### Three Data structures:\n",
    "1. Series: 1 Dimentional\n",
    "    \n",
    "2. DataFrame: 2 Dimentional\n",
    "\n",
    "3. Panel: Combination of multiple dataframes"
   ]
  },
  {
   "cell_type": "code",
   "execution_count": 2,
   "id": "8ba607da",
   "metadata": {},
   "outputs": [
    {
     "name": "stdout",
     "output_type": "stream",
     "text": [
      "Series([], dtype: object)\n"
     ]
    }
   ],
   "source": [
    "print(pd.Series(dtype=object))"
   ]
  },
  {
   "cell_type": "markdown",
   "id": "f15a5e20",
   "metadata": {},
   "source": [
    "#### 1.pd.Series() structure: pd.Series(data,index,dtype)\n",
    " - Init signature:\n",
    " - pd.Series(\n",
    "    - data=None,\n",
    "    - index=None,\n",
    "    - dtype: 'Dtype | None' = None,\n",
    "    )"
   ]
  },
  {
   "cell_type": "code",
   "execution_count": 3,
   "id": "db2cac3f",
   "metadata": {},
   "outputs": [],
   "source": [
    "names = ['Avinash','Harshala','Karishma','Kuldip','Nitin','Ramdas','Sachin']"
   ]
  },
  {
   "cell_type": "code",
   "execution_count": 4,
   "id": "ca12e830",
   "metadata": {},
   "outputs": [
    {
     "data": {
      "text/plain": [
       "0     Avinash\n",
       "1    Harshala\n",
       "2    Karishma\n",
       "3      Kuldip\n",
       "4       Nitin\n",
       "5      Ramdas\n",
       "6      Sachin\n",
       "dtype: object"
      ]
     },
     "execution_count": 4,
     "metadata": {},
     "output_type": "execute_result"
    }
   ],
   "source": [
    "pd.Series(names)"
   ]
  },
  {
   "cell_type": "markdown",
   "id": "dbdb6c52",
   "metadata": {},
   "source": [
    "#### 3 things:\n",
    "    1.index\n",
    "    2.data/values\n",
    "    3.data type"
   ]
  },
  {
   "cell_type": "code",
   "execution_count": 5,
   "id": "1b6c28ae",
   "metadata": {},
   "outputs": [
    {
     "data": {
      "text/plain": [
       "0     Avinash\n",
       "1    Harshala\n",
       "2    Karishma\n",
       "3      Kuldip\n",
       "4       Nitin\n",
       "5      Ramdas\n",
       "6      Sachin\n",
       "dtype: object"
      ]
     },
     "execution_count": 5,
     "metadata": {},
     "output_type": "execute_result"
    }
   ],
   "source": [
    "d = pd.Series(names)\n",
    "d"
   ]
  },
  {
   "cell_type": "code",
   "execution_count": 6,
   "id": "63fefcff",
   "metadata": {},
   "outputs": [
    {
     "data": {
      "text/plain": [
       "'Avinash'"
      ]
     },
     "execution_count": 6,
     "metadata": {},
     "output_type": "execute_result"
    }
   ],
   "source": [
    "# indexing\n",
    "d[0]"
   ]
  },
  {
   "cell_type": "code",
   "execution_count": 7,
   "id": "dc79c4ee",
   "metadata": {},
   "outputs": [
    {
     "data": {
      "text/plain": [
       "3    Kuldip\n",
       "4     Nitin\n",
       "5    Ramdas\n",
       "6    Sachin\n",
       "dtype: object"
      ]
     },
     "execution_count": 7,
     "metadata": {},
     "output_type": "execute_result"
    }
   ],
   "source": [
    "# slicing\n",
    "d[3:]"
   ]
  },
  {
   "cell_type": "code",
   "execution_count": 8,
   "id": "fc03b0db",
   "metadata": {},
   "outputs": [
    {
     "ename": "KeyError",
     "evalue": "-1",
     "output_type": "error",
     "traceback": [
      "\u001b[1;31m---------------------------------------------------------------------------\u001b[0m",
      "\u001b[1;31mValueError\u001b[0m                                Traceback (most recent call last)",
      "File \u001b[1;32m~\\anaconda3\\lib\\site-packages\\pandas\\core\\indexes\\range.py:385\u001b[0m, in \u001b[0;36mRangeIndex.get_loc\u001b[1;34m(self, key, method, tolerance)\u001b[0m\n\u001b[0;32m    384\u001b[0m \u001b[38;5;28;01mtry\u001b[39;00m:\n\u001b[1;32m--> 385\u001b[0m     \u001b[38;5;28;01mreturn\u001b[39;00m \u001b[38;5;28;43mself\u001b[39;49m\u001b[38;5;241;43m.\u001b[39;49m\u001b[43m_range\u001b[49m\u001b[38;5;241;43m.\u001b[39;49m\u001b[43mindex\u001b[49m\u001b[43m(\u001b[49m\u001b[43mnew_key\u001b[49m\u001b[43m)\u001b[49m\n\u001b[0;32m    386\u001b[0m \u001b[38;5;28;01mexcept\u001b[39;00m \u001b[38;5;167;01mValueError\u001b[39;00m \u001b[38;5;28;01mas\u001b[39;00m err:\n",
      "\u001b[1;31mValueError\u001b[0m: -1 is not in range",
      "\nThe above exception was the direct cause of the following exception:\n",
      "\u001b[1;31mKeyError\u001b[0m                                  Traceback (most recent call last)",
      "Input \u001b[1;32mIn [8]\u001b[0m, in \u001b[0;36m<cell line: 1>\u001b[1;34m()\u001b[0m\n\u001b[1;32m----> 1\u001b[0m \u001b[43md\u001b[49m\u001b[43m[\u001b[49m\u001b[38;5;241;43m-\u001b[39;49m\u001b[38;5;241;43m1\u001b[39;49m\u001b[43m]\u001b[49m\n",
      "File \u001b[1;32m~\\anaconda3\\lib\\site-packages\\pandas\\core\\series.py:958\u001b[0m, in \u001b[0;36mSeries.__getitem__\u001b[1;34m(self, key)\u001b[0m\n\u001b[0;32m    955\u001b[0m     \u001b[38;5;28;01mreturn\u001b[39;00m \u001b[38;5;28mself\u001b[39m\u001b[38;5;241m.\u001b[39m_values[key]\n\u001b[0;32m    957\u001b[0m \u001b[38;5;28;01melif\u001b[39;00m key_is_scalar:\n\u001b[1;32m--> 958\u001b[0m     \u001b[38;5;28;01mreturn\u001b[39;00m \u001b[38;5;28;43mself\u001b[39;49m\u001b[38;5;241;43m.\u001b[39;49m\u001b[43m_get_value\u001b[49m\u001b[43m(\u001b[49m\u001b[43mkey\u001b[49m\u001b[43m)\u001b[49m\n\u001b[0;32m    960\u001b[0m \u001b[38;5;28;01mif\u001b[39;00m is_hashable(key):\n\u001b[0;32m    961\u001b[0m     \u001b[38;5;66;03m# Otherwise index.get_value will raise InvalidIndexError\u001b[39;00m\n\u001b[0;32m    962\u001b[0m     \u001b[38;5;28;01mtry\u001b[39;00m:\n\u001b[0;32m    963\u001b[0m         \u001b[38;5;66;03m# For labels that don't resolve as scalars like tuples and frozensets\u001b[39;00m\n",
      "File \u001b[1;32m~\\anaconda3\\lib\\site-packages\\pandas\\core\\series.py:1069\u001b[0m, in \u001b[0;36mSeries._get_value\u001b[1;34m(self, label, takeable)\u001b[0m\n\u001b[0;32m   1066\u001b[0m     \u001b[38;5;28;01mreturn\u001b[39;00m \u001b[38;5;28mself\u001b[39m\u001b[38;5;241m.\u001b[39m_values[label]\n\u001b[0;32m   1068\u001b[0m \u001b[38;5;66;03m# Similar to Index.get_value, but we do not fall back to positional\u001b[39;00m\n\u001b[1;32m-> 1069\u001b[0m loc \u001b[38;5;241m=\u001b[39m \u001b[38;5;28;43mself\u001b[39;49m\u001b[38;5;241;43m.\u001b[39;49m\u001b[43mindex\u001b[49m\u001b[38;5;241;43m.\u001b[39;49m\u001b[43mget_loc\u001b[49m\u001b[43m(\u001b[49m\u001b[43mlabel\u001b[49m\u001b[43m)\u001b[49m\n\u001b[0;32m   1070\u001b[0m \u001b[38;5;28;01mreturn\u001b[39;00m \u001b[38;5;28mself\u001b[39m\u001b[38;5;241m.\u001b[39mindex\u001b[38;5;241m.\u001b[39m_get_values_for_loc(\u001b[38;5;28mself\u001b[39m, loc, label)\n",
      "File \u001b[1;32m~\\anaconda3\\lib\\site-packages\\pandas\\core\\indexes\\range.py:387\u001b[0m, in \u001b[0;36mRangeIndex.get_loc\u001b[1;34m(self, key, method, tolerance)\u001b[0m\n\u001b[0;32m    385\u001b[0m         \u001b[38;5;28;01mreturn\u001b[39;00m \u001b[38;5;28mself\u001b[39m\u001b[38;5;241m.\u001b[39m_range\u001b[38;5;241m.\u001b[39mindex(new_key)\n\u001b[0;32m    386\u001b[0m     \u001b[38;5;28;01mexcept\u001b[39;00m \u001b[38;5;167;01mValueError\u001b[39;00m \u001b[38;5;28;01mas\u001b[39;00m err:\n\u001b[1;32m--> 387\u001b[0m         \u001b[38;5;28;01mraise\u001b[39;00m \u001b[38;5;167;01mKeyError\u001b[39;00m(key) \u001b[38;5;28;01mfrom\u001b[39;00m \u001b[38;5;21;01merr\u001b[39;00m\n\u001b[0;32m    388\u001b[0m \u001b[38;5;28mself\u001b[39m\u001b[38;5;241m.\u001b[39m_check_indexing_error(key)\n\u001b[0;32m    389\u001b[0m \u001b[38;5;28;01mraise\u001b[39;00m \u001b[38;5;167;01mKeyError\u001b[39;00m(key)\n",
      "\u001b[1;31mKeyError\u001b[0m: -1"
     ]
    }
   ],
   "source": [
    "d[-1] #-ve indexing is not allowed"
   ]
  },
  {
   "cell_type": "code",
   "execution_count": 9,
   "id": "7025eedb",
   "metadata": {},
   "outputs": [
    {
     "data": {
      "text/plain": [
       "6      Sachin\n",
       "5      Ramdas\n",
       "4       Nitin\n",
       "3      Kuldip\n",
       "2    Karishma\n",
       "1    Harshala\n",
       "0     Avinash\n",
       "dtype: object"
      ]
     },
     "execution_count": 9,
     "metadata": {},
     "output_type": "execute_result"
    }
   ],
   "source": [
    "d[::-1] #-ve step is allowed"
   ]
  },
  {
   "cell_type": "code",
   "execution_count": 10,
   "id": "ed29d95b",
   "metadata": {},
   "outputs": [
    {
     "data": {
      "text/plain": [
       "2672746561840"
      ]
     },
     "execution_count": 10,
     "metadata": {},
     "output_type": "execute_result"
    }
   ],
   "source": [
    "id(d)"
   ]
  },
  {
   "cell_type": "code",
   "execution_count": 11,
   "id": "912a8bd1",
   "metadata": {},
   "outputs": [
    {
     "data": {
      "text/plain": [
       "0     Vaibhav\n",
       "1    Harshala\n",
       "2    Karishma\n",
       "3      Kuldip\n",
       "4       Nitin\n",
       "5      Ramdas\n",
       "6      Sachin\n",
       "dtype: object"
      ]
     },
     "execution_count": 11,
     "metadata": {},
     "output_type": "execute_result"
    }
   ],
   "source": [
    "# can modification possible????\n",
    "d[0] = 'Vaibhav'\n",
    "d"
   ]
  },
  {
   "cell_type": "code",
   "execution_count": 12,
   "id": "7d5ae45c",
   "metadata": {},
   "outputs": [
    {
     "data": {
      "text/plain": [
       "2672746561840"
      ]
     },
     "execution_count": 12,
     "metadata": {},
     "output_type": "execute_result"
    }
   ],
   "source": [
    "id(d)\n",
    "# id is not channgin hence its mutable in nature"
   ]
  },
  {
   "cell_type": "markdown",
   "id": "fcc9cc72",
   "metadata": {},
   "source": [
    "#### convert all names to upper case"
   ]
  },
  {
   "cell_type": "code",
   "execution_count": 13,
   "id": "294ccc1e",
   "metadata": {},
   "outputs": [
    {
     "data": {
      "text/plain": [
       "0     VAIBHAV\n",
       "1    HARSHALA\n",
       "2    KARISHMA\n",
       "3      KULDIP\n",
       "4       NITIN\n",
       "5      RAMDAS\n",
       "6      SACHIN\n",
       "dtype: object"
      ]
     },
     "execution_count": 13,
     "metadata": {},
     "output_type": "execute_result"
    }
   ],
   "source": [
    "d.str.upper()"
   ]
  },
  {
   "cell_type": "markdown",
   "id": "80c0ec4b",
   "metadata": {},
   "source": [
    "#### fetch candidates who name starts with K"
   ]
  },
  {
   "cell_type": "code",
   "execution_count": 14,
   "id": "18fda467",
   "metadata": {},
   "outputs": [
    {
     "data": {
      "text/plain": [
       "0    False\n",
       "1    False\n",
       "2     True\n",
       "3     True\n",
       "4    False\n",
       "5    False\n",
       "6    False\n",
       "dtype: bool"
      ]
     },
     "execution_count": 14,
     "metadata": {},
     "output_type": "execute_result"
    }
   ],
   "source": [
    "d.str.startswith('K')"
   ]
  },
  {
   "cell_type": "code",
   "execution_count": 15,
   "id": "2286cafd",
   "metadata": {
    "scrolled": true
   },
   "outputs": [
    {
     "data": {
      "text/plain": [
       "2    Karishma\n",
       "3      Kuldip\n",
       "dtype: object"
      ]
     },
     "execution_count": 15,
     "metadata": {},
     "output_type": "execute_result"
    }
   ],
   "source": [
    "d[d.str.startswith('K')]"
   ]
  },
  {
   "cell_type": "code",
   "execution_count": 16,
   "id": "e1b5dfc6",
   "metadata": {},
   "outputs": [
    {
     "data": {
      "text/plain": [
       "['Avi$$nash  ',\n",
       " '  $*Harshala',\n",
       " 'Karish**ma  ',\n",
       " 'Kul*$dip',\n",
       " 'Ni  tin',\n",
       " 'Ram####das',\n",
       " 'Sach   **ine']"
      ]
     },
     "execution_count": 16,
     "metadata": {},
     "output_type": "execute_result"
    }
   ],
   "source": [
    "n2 = ['Avi$$nash  ','  $*Harshala','Karish**ma  ','Kul*$dip','Ni  tin','Ram####das','Sach   **ine']\n",
    "n2"
   ]
  },
  {
   "cell_type": "code",
   "execution_count": 17,
   "id": "3a3f559c",
   "metadata": {},
   "outputs": [
    {
     "data": {
      "text/plain": [
       "0     Avi$$nash  \n",
       "1      $*Harshala\n",
       "2    Karish**ma  \n",
       "3        Kul*$dip\n",
       "4         Ni  tin\n",
       "5      Ram####das\n",
       "6    Sach   **ine\n",
       "dtype: object"
      ]
     },
     "execution_count": 17,
     "metadata": {},
     "output_type": "execute_result"
    }
   ],
   "source": [
    "f = pd.Series(n2)\n",
    "f"
   ]
  },
  {
   "cell_type": "code",
   "execution_count": 18,
   "id": "70de77ec",
   "metadata": {},
   "outputs": [
    {
     "data": {
      "text/plain": [
       "0       Avi$$nash\n",
       "1      $*Harshala\n",
       "2      Karish**ma\n",
       "3        Kul*$dip\n",
       "4         Ni  tin\n",
       "5      Ram####das\n",
       "6    Sach   **ine\n",
       "dtype: object"
      ]
     },
     "execution_count": 18,
     "metadata": {},
     "output_type": "execute_result"
    }
   ],
   "source": [
    "# remove space at prefix and suffixe side\n",
    "f = f.str.strip()\n",
    "f"
   ]
  },
  {
   "cell_type": "code",
   "execution_count": 19,
   "id": "8e2c8d2b",
   "metadata": {},
   "outputs": [
    {
     "data": {
      "text/plain": [
       "0       Avi$$nash\n",
       "1        Harshala\n",
       "2      Karish**ma\n",
       "3        Kul*$dip\n",
       "4         Ni  tin\n",
       "5      Ram####das\n",
       "6    Sach   **ine\n",
       "dtype: object"
      ]
     },
     "execution_count": 19,
     "metadata": {},
     "output_type": "execute_result"
    }
   ],
   "source": [
    "f = f.str.strip('$*')\n",
    "f"
   ]
  },
  {
   "cell_type": "code",
   "execution_count": 20,
   "id": "15649f1e",
   "metadata": {},
   "outputs": [
    {
     "name": "stderr",
     "output_type": "stream",
     "text": [
      "C:\\Users\\chava\\AppData\\Local\\Temp\\ipykernel_5012\\4128267306.py:1: FutureWarning: The default value of regex will change from True to False in a future version. In addition, single character regular expressions will *not* be treated as literal strings when regex=True.\n",
      "  f2 = f.str.replace('$','')\n"
     ]
    },
    {
     "data": {
      "text/plain": [
       "0         Avinash\n",
       "1        Harshala\n",
       "2      Karish**ma\n",
       "3         Kul*dip\n",
       "4         Ni  tin\n",
       "5      Ram####das\n",
       "6    Sach   **ine\n",
       "dtype: object"
      ]
     },
     "execution_count": 20,
     "metadata": {},
     "output_type": "execute_result"
    }
   ],
   "source": [
    "f2 = f.str.replace('$','')\n",
    "f2"
   ]
  },
  {
   "cell_type": "code",
   "execution_count": 21,
   "id": "24d40415",
   "metadata": {},
   "outputs": [
    {
     "data": {
      "text/plain": [
       "0         Avinash\n",
       "1        Harshala\n",
       "2      Karish**ma\n",
       "3         Kul*dip\n",
       "4         Ni  tin\n",
       "5          Ramdas\n",
       "6    Sach   **ine\n",
       "dtype: object"
      ]
     },
     "execution_count": 21,
     "metadata": {},
     "output_type": "execute_result"
    }
   ],
   "source": [
    "f2.str.replace('#','')"
   ]
  },
  {
   "cell_type": "code",
   "execution_count": 22,
   "id": "7199f1b1",
   "metadata": {},
   "outputs": [
    {
     "data": {
      "text/plain": [
       "0         Avinash\n",
       "1        Harshala\n",
       "2        Karishma\n",
       "3        Kul*$dip\n",
       "4         Ni  tin\n",
       "5      Ram####das\n",
       "6    Sach   **ine\n",
       "dtype: object"
      ]
     },
     "execution_count": 22,
     "metadata": {},
     "output_type": "execute_result"
    }
   ],
   "source": [
    "# use replace of Series\n",
    "f.replace({'Avi$$nash':'Avinash','Karish**ma':'Karishma'})"
   ]
  },
  {
   "cell_type": "code",
   "execution_count": 23,
   "id": "e2bcc7d1",
   "metadata": {},
   "outputs": [
    {
     "name": "stderr",
     "output_type": "stream",
     "text": [
      "C:\\Users\\chava\\AppData\\Local\\Temp\\ipykernel_5012\\3127404282.py:1: FutureWarning: The default value of regex will change from True to False in a future version. In addition, single character regular expressions will *not* be treated as literal strings when regex=True.\n",
      "  f.str.replace('$','').str.replace('*','').str.replace('#','').str.replace(' ','')\n"
     ]
    },
    {
     "data": {
      "text/plain": [
       "0     Avinash\n",
       "1    Harshala\n",
       "2    Karishma\n",
       "3      Kuldip\n",
       "4       Nitin\n",
       "5      Ramdas\n",
       "6     Sachine\n",
       "dtype: object"
      ]
     },
     "execution_count": 23,
     "metadata": {},
     "output_type": "execute_result"
    }
   ],
   "source": [
    "f.str.replace('$','').str.replace('*','').str.replace('#','').str.replace(' ','')"
   ]
  },
  {
   "cell_type": "markdown",
   "id": "18ea0142",
   "metadata": {},
   "source": [
    "#### fetch candidates who name ends with a"
   ]
  },
  {
   "cell_type": "code",
   "execution_count": 24,
   "id": "843a7e7a",
   "metadata": {},
   "outputs": [
    {
     "data": {
      "text/plain": [
       "0    False\n",
       "1     True\n",
       "2     True\n",
       "3    False\n",
       "4    False\n",
       "5    False\n",
       "6    False\n",
       "dtype: bool"
      ]
     },
     "execution_count": 24,
     "metadata": {},
     "output_type": "execute_result"
    }
   ],
   "source": [
    "d.str.endswith('a')"
   ]
  },
  {
   "cell_type": "code",
   "execution_count": 25,
   "id": "029a535c",
   "metadata": {},
   "outputs": [
    {
     "data": {
      "text/plain": [
       "1    Harshala\n",
       "2    Karishma\n",
       "dtype: object"
      ]
     },
     "execution_count": 25,
     "metadata": {},
     "output_type": "execute_result"
    }
   ],
   "source": [
    "d[d.str.endswith('a')]"
   ]
  }
 ],
 "metadata": {
  "kernelspec": {
   "display_name": "Python 3 (ipykernel)",
   "language": "python",
   "name": "python3"
  },
  "language_info": {
   "codemirror_mode": {
    "name": "ipython",
    "version": 3
   },
   "file_extension": ".py",
   "mimetype": "text/x-python",
   "name": "python",
   "nbconvert_exporter": "python",
   "pygments_lexer": "ipython3",
   "version": "3.9.12"
  }
 },
 "nbformat": 4,
 "nbformat_minor": 5
}
